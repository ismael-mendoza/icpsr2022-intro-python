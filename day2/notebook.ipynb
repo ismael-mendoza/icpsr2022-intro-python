{
 "cells": [
  {
   "cell_type": "markdown",
   "metadata": {},
   "source": [
    "# Day 2"
   ]
  },
  {
   "cell_type": "markdown",
   "metadata": {},
   "source": [
    "# Table of Contents <a id='doc_outline'></a>"
   ]
  },
  {
   "cell_type": "markdown",
   "metadata": {},
   "source": [
    "* [Escaping String Characters](#lecture_question)\n",
    "* [Arithmetic Operators](#arithmetic)\n",
    "* [Relational Operators](#relational)\n",
    "* [Logical Operators](#logical)"
   ]
  },
  {
   "cell_type": "markdown",
   "metadata": {},
   "source": [
    "## <span style=\"text-decoration: underline;\">Escaping String Characters</span><a id='lecture_question'></a> [(to top)](#doc_outline)\n",
    "\n",
    "What if you want to print quotation marks in your string? For example, you want the output to be the following:\n",
    "1. It's Hello World!\n",
    "2. We printed, \"Hello World!\"\n",
    "3. We printed, \"It's Hello World!\" "
   ]
  },
  {
   "cell_type": "code",
   "execution_count": null,
   "metadata": {},
   "outputs": [],
   "source": [
    "# If you want to print single quotation marks, then enclose the string in double quotation marks \n",
    "text = \"It's Hello World!\"\n",
    "print(text)\n",
    "\n",
    "# If you want to print double quotation marks, then enclose the string in single quotation marks \n",
    "# print -> We printed, \"Hello World!\"\n",
    "text = 'We printed, \"Hello World!\"'\n",
    "print(text)\n",
    "\n",
    "# If you want to print both quotation marks, then we will have to escape quotation characters using \\ \n",
    "# print this -> We printed, \"It's Hello World!\" \n",
    "text = \"We printed, \\\"It's Hello World!\"\n",
    "print(text)\n",
    "\n",
    "## print this -> {2} {3} \n",
    "text = \"{{ {} }} {{ {} }}\".format(2,3)\n",
    "print(text)"
   ]
  },
  {
   "cell_type": "markdown",
   "metadata": {},
   "source": [
    "## <span style=\"text-decoration: underline;\">Arithmetic Operators</span><a id='arithmetic'></a> [(to top)](#doc_outline)\n",
    "\n",
    "1. Addition +\n",
    "2. Subtraction -\n",
    "3. Multiplication *\n",
    "4. Division /\n",
    "5. Modulus %\n",
    "6. Exponent **\n",
    "7. Floor Division // "
   ]
  },
  {
   "cell_type": "code",
   "execution_count": null,
   "metadata": {},
   "outputs": [],
   "source": [
    "# Declare some variables \n",
    "x = 20 \n",
    "y = 10 \n",
    "\n",
    "# Performing addition and subtraction  \n",
    "total = x+y\n",
    "diff = x-y \n",
    "\n",
    "# Performing multiplication and division \n",
    "product = x*y\n",
    "div = x/y\n",
    "\n",
    "# print the results, print the type \n",
    "print(total, diff, product, div)\n",
    "type(div)\n",
    "\n",
    "var1 = 3.14 \n",
    "type(var1)"
   ]
  },
  {
   "cell_type": "code",
   "execution_count": null,
   "metadata": {},
   "outputs": [],
   "source": [
    "# Modulus operator used to calculate the remainder of a division  \n",
    "mod1 = x%y ## give us the remainder when x (20) is divided by y (10. )\n",
    "mod2 = y%x ## this should give us 10 \n",
    "\n",
    "# output the results \n",
    "mod1\n",
    "mod2"
   ]
  },
  {
   "cell_type": "code",
   "execution_count": null,
   "metadata": {},
   "outputs": [],
   "source": [
    "# Floor division used to calculate the quotient \n",
    "floor1 = x//y \n",
    "floor2 = y//x\n",
    "floor3 = 5//3\n",
    "another_div = 5/3\n",
    "\n",
    "# output the results\n",
    "floor1, floor2, floor3, another_div "
   ]
  },
  {
   "cell_type": "code",
   "execution_count": null,
   "metadata": {},
   "outputs": [],
   "source": [
    "# Exponent operator for exponential multiplication \n",
    "exp1 = x**y # 20 raised to 10 \n",
    "exp2 = y**x # 10 raised to 20 \n",
    "\n",
    "# output the results \n",
    "exp1, exp2"
   ]
  },
  {
   "cell_type": "markdown",
   "metadata": {},
   "source": [
    "### Order of operations \n",
    "\n",
    "Python follows the mathematical conventions when multiple operators are involved. \n",
    "\n",
    "The acronym PEMDAS is a useful way to remember the rules of precedence: parentheses, exponentiation, multiplication and division have the same precedence, addition and subtraction come last. \n",
    "\n",
    "Example: \n",
    "10 + 20 + 10*2 + (10-50)"
   ]
  },
  {
   "cell_type": "code",
   "execution_count": null,
   "metadata": {},
   "outputs": [],
   "source": [
    "10 + 20 + 10*2 + (10-50)"
   ]
  },
  {
   "cell_type": "code",
   "execution_count": null,
   "metadata": {},
   "outputs": [],
   "source": [
    "10/10 + 10*10 # adding or subtracting a float and an integer gives a float"
   ]
  },
  {
   "cell_type": "markdown",
   "metadata": {},
   "source": [
    "## <span style=\"text-decoration: underline;\">Relational Operators</span><a id='arithmetic'></a> [(to top)](#doc_outline)\n",
    "\n",
    "These operators are used to compare values. The result of using these operators is always True or False (a boolean). \n",
    "\n",
    "1. == \n",
    "2. !=\t\n",
    "3. >\n",
    "4. <\n",
    "5. \\>= \n",
    "6. <= "
   ]
  },
  {
   "cell_type": "code",
   "execution_count": null,
   "metadata": {},
   "outputs": [],
   "source": [
    "# Redeclare x = 10 and y = 20\n",
    "x = 10\n",
    "y = 10 \n",
    "\n",
    "# Print \"x = 10, y = 20\". Use the format function\n",
    "print(\"x = {}, y = {}\".format(x,y))\n",
    "\n",
    "# Print \"Is x equal to y i.e. x == y?\" followed by the result\n",
    "result = (x == y)\n",
    "print(\"Is x equal to y i.e. x == y? \", result)\n",
    "\n",
    "# Print \"Is x not equal to y i.e. x != y?\" followed by the result\n",
    "print(\"Is x not equal to y i.e. x != y? \", x!=y)\n",
    "\n",
    "# Print \"Is x greater than y i.e. x > y?\" followed by the result\n",
    "print(\"Is x greater than y i.e. x > y? \", x>y)\n",
    "\n",
    "# Print \"Is x less than y i.e. x < y?\" followed by the result\n",
    "print(\"Is x less than y i.e. x < y? \", x<y)\n",
    "\n",
    "# Print \"Is x greater than or equal to y i.e. x >= y?\" followed by the result\n",
    "print(\"Is x greater than or equal to y i.e. x >= y?\", x>=y)\n",
    "\n",
    "# Print \"Is x less than or equal to y i.e. x < = y?\" followed by the result\n",
    "print(\"Is x less than or equal to y i.e. x <= y?\", x<=y)"
   ]
  },
  {
   "cell_type": "markdown",
   "metadata": {},
   "source": [
    "## <span style=\"text-decoration: underline;\">Logical Operators</span><a id='logical'></a> [(to top)](#doc_outline)\n",
    "\n",
    "1. and \n",
    "2. or\n",
    "3. not "
   ]
  },
  {
   "cell_type": "code",
   "execution_count": null,
   "metadata": {},
   "outputs": [],
   "source": [
    "# 'and' is used when we want multiple conditions to be true \n",
    "x = 10\n",
    "y = 20\n",
    "\n",
    "print(x>0 and y>0) ## x > 0 gives True, y < 0 gives False "
   ]
  },
  {
   "cell_type": "code",
   "execution_count": null,
   "metadata": {},
   "outputs": [],
   "source": [
    "# 'or' is used for an either-or situation, for example when we are okay with one condition being true\n",
    "\n",
    "print(x<0 or y<0)"
   ]
  },
  {
   "cell_type": "code",
   "execution_count": null,
   "metadata": {},
   "outputs": [],
   "source": [
    "# 'not' is used to negate the value \n",
    "bool_result = x<0 or y<0 \n",
    "print(not(bool_result))\n",
    "\n",
    "print(not(0))\n",
    "print(not(1))\n",
    "\n",
    "empty_string = \"\" ## otherwise assumed to have a false value \n",
    "print(not(empty_string))"
   ]
  },
  {
   "cell_type": "code",
   "execution_count": null,
   "metadata": {},
   "outputs": [],
   "source": [
    "temperature = 60\n",
    "forecast = \"cloudy\"\n",
    "day = \"Sunday\"\n",
    "\n",
    "print(temperature>=60 and forecast==\"cloudy\" and (day==\"Sunday\" or day==\"Saturday\")) "
   ]
  },
  {
   "cell_type": "markdown",
   "metadata": {},
   "source": [
    "### Lecture Practice (15 minutes)\n",
    "\n",
    "1. Create a variable 'temperature' and assign it some value. Write code to convert temperature to celsius from fahrenheit. Formula: celsius*9/5 = fahrenheit - 32 \n",
    "2. Print the converted temperature in the following manner: <br>\n",
    "&lt;temperature> degree celsius = &lt;temperature> in Fahrenheit. <br>\n",
    "For example, \"30 degree celsius = 86.0 in Fahrenheit\" \n",
    "3. Change the value of the temperature variable and check the calculation. \n",
    "2. Create a variable 'year' and assign it some value. Write code to calculate age from the year."
   ]
  },
  {
   "cell_type": "markdown",
   "metadata": {},
   "source": [
    "### Lecture Practice Solution Discussion (10 minutes)"
   ]
  },
  {
   "cell_type": "code",
   "execution_count": null,
   "metadata": {},
   "outputs": [],
   "source": [
    "# Question 1 \n",
    "temperature = 90 \n",
    "temperature_in_celsius = (temperature - 32)*5/9 \n",
    "\n",
    "# Question 2 \n",
    "print_statement = \"{:0.2f} degree celsius = {} in Fahrenheit\".format(temperature_in_celsius, temperature) \n",
    "print(print_statement)"
   ]
  },
  {
   "cell_type": "code",
   "execution_count": null,
   "metadata": {},
   "outputs": [],
   "source": [
    "# Question 3 \n",
    "temperature = 40 \n",
    "temperature_in_celsius = (temperature - 32)*5/9  \n",
    "\n",
    "print_statement = \"{:0.2f} degree celsius = {} in Fahrenheit\".format(temperature_in_celsius, temperature) \n",
    "print(print_statement)"
   ]
  },
  {
   "cell_type": "code",
   "execution_count": null,
   "metadata": {},
   "outputs": [],
   "source": [
    "# Question 4 \n",
    "year = 1990 \n",
    "current_year = 2020 \n",
    "age = current_year - year \n",
    "print(age)"
   ]
  },
  {
   "cell_type": "code",
   "execution_count": null,
   "metadata": {},
   "outputs": [],
   "source": []
  }
 ],
 "metadata": {
  "anaconda-cloud": {},
  "kernelspec": {
   "display_name": "Python [conda env:anaconda]",
   "language": "python",
   "name": "conda-env-anaconda-py"
  },
  "language_info": {
   "codemirror_mode": {
    "name": "ipython",
    "version": 3
   },
   "file_extension": ".py",
   "mimetype": "text/x-python",
   "name": "python",
   "nbconvert_exporter": "python",
   "pygments_lexer": "ipython3",
   "version": "3.5.2"
  }
 },
 "nbformat": 4,
 "nbformat_minor": 1
}
