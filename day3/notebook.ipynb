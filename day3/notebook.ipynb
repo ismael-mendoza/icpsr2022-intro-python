{
 "cells": [
  {
   "cell_type": "markdown",
   "metadata": {},
   "source": [
    "# Day 3"
   ]
  },
  {
   "cell_type": "markdown",
   "metadata": {},
   "source": [
    "# Table of Contents <a id='doc_outline'></a>"
   ]
  },
  {
   "cell_type": "markdown",
   "metadata": {},
   "source": [
    "* [Conditionals](#conditionals)\n",
    "* [Functions](#functions)"
   ]
  },
  {
   "cell_type": "markdown",
   "metadata": {},
   "source": [
    "## <span style=\"text-decoration: underline;\">Conditionals</span><a id='conditionals'></a> [(to top)](#doc_outline)\n",
    "\n",
    "Conditional statements allow us to check if certain conditions are met and accordingly change the execution of the program. This is achieved by combining the <strong>relational and logical operators<strong> we discussed previously.  \n",
    "\n",
    "The simplest conditional statement is created using an *if* statement\n",
    "\n",
    "<figure>\n",
    "<img src=\"day3_conditional.png\" style=\"width:400px\">\n",
    "<figcaption>Image Credit: Severance, Charles R. Python for everybody. Charles Severance, 2009.</figcaption>\n",
    "</figure>"
   ]
  },
  {
   "cell_type": "code",
   "execution_count": null,
   "metadata": {},
   "outputs": [],
   "source": [
    "# Declare some variables: avg_temp, max_temp \n",
    "avg_temp = 76 \n",
    "max_temp = 90 "
   ]
  },
  {
   "cell_type": "code",
   "execution_count": null,
   "metadata": {},
   "outputs": [],
   "source": [
    "# A simple conditional statement using the if statement\n",
    "if avg_temp < 75:\n",
    "    print(\"Summers in Ann Arbor are nice!\")"
   ]
  },
  {
   "cell_type": "code",
   "execution_count": null,
   "metadata": {},
   "outputs": [],
   "source": [
    "# Another simple conditional statement\n",
    "if max_temp > 90:\n",
    "    print(\"The hottest day in Ann Arbor can be pretty hot!\")"
   ]
  },
  {
   "cell_type": "code",
   "execution_count": null,
   "metadata": {},
   "outputs": [],
   "source": [
    "# Doing things more complex than printing, like performing calulcations\n",
    "num = 64 \n",
    "sqrt = 0 \n",
    "cuberoot = 0 \n",
    "if num >= 0:\n",
    "    sqrt = num**0.5 \n",
    "    cuberoot = num**(1/3) \n",
    "\n",
    "print(\"Cube root of {} is {}\".format(num, cuberoot))"
   ]
  },
  {
   "cell_type": "markdown",
   "metadata": {},
   "source": [
    "### If - Else \n",
    "\n",
    "In the above conditionals, we only have one possibility for the program. If the condition is met, print something. Let's make this more complex by adding an alternate possibility. We will use an *else* statement. \n",
    "\n",
    "<figure>\n",
    "<img src=\"day3_conditional2.png\" style=\"width:500px\">\n",
    "<figcaption>Image Credit: Severance, Charles R. Python for everybody. Charles Severance, 2009.</figcaption>\n",
    "</figure>"
   ]
  },
  {
   "cell_type": "code",
   "execution_count": null,
   "metadata": {},
   "outputs": [],
   "source": [
    "# Example of if-else \n",
    "if avg_temp < 75: \n",
    "    print(\"Summers in Ann Arbor are nice!\")\n",
    "else:\n",
    "    print(\"Summers in Ann Arbor can get hot!\")"
   ]
  },
  {
   "cell_type": "markdown",
   "metadata": {},
   "source": [
    "### Lecture Practice (15 minutes) \n",
    "\n",
    "1. Write code to check if a number is odd or even (refer to the image above). If the number is odd, print &lt;number&gt; is odd. If the number is even, print &lt;number&gt; is even. \n",
    "\n",
    "2. Write code to check and print if a number is greater than or less than zero."
   ]
  },
  {
   "cell_type": "code",
   "execution_count": null,
   "metadata": {},
   "outputs": [],
   "source": [
    "# Practice Problem 1 \n",
    "number = 10 \n",
    "if number%2 == 0:\n",
    "    print(\"{} is odd\".format(number))\n",
    "else:\n",
    "    print(\"{} is even\".format(number))"
   ]
  },
  {
   "cell_type": "code",
   "execution_count": null,
   "metadata": {},
   "outputs": [],
   "source": [
    "# Practice Problem 2\n",
    "number = -5 \n",
    "if number >= 0:\n",
    "    print(\"{} is positive\".format(number))\n",
    "else:\n",
    "    print(\"{} is negative\".format(number))"
   ]
  },
  {
   "cell_type": "markdown",
   "metadata": {},
   "source": [
    "### If - Elif - Else \n",
    "\n",
    "Many times, programs need to test for more than two conditions. In this case, we use an *elif* statement. \n",
    "\n",
    "<figure>\n",
    "<img src=\"day3_conditional3.png\" style=\"width:500px\">\n",
    "<figcaption>Image Credit: Severance, Charles R. Python for everybody. Charles Severance, 2009.</figcaption>\n",
    "</figure>"
   ]
  },
  {
   "cell_type": "code",
   "execution_count": null,
   "metadata": {},
   "outputs": [],
   "source": [
    "# Example of if-elif-else conditional \n",
    "if avg_temp < 60:\n",
    "    print(\"Summers in Ann Arbor can be chilly!\")\n",
    "elif avg_temp >= 60 and avg_temp <= 75:\n",
    "    print(\"Summers in Ann Arbor are nice!\")\n",
    "else:\n",
    "    print(\"Summers in Ann Arbor can get hot!\")"
   ]
  },
  {
   "cell_type": "markdown",
   "metadata": {},
   "source": [
    "You can have more than one *elif* statement. Each condition is tested top to bottom and the condition that is met first gets executed. "
   ]
  },
  {
   "cell_type": "code",
   "execution_count": null,
   "metadata": {},
   "outputs": [],
   "source": [
    "# Using multiple elif  \n",
    "\n",
    "if avg_temp < 60:\n",
    "    print(\"Summers in Ann Arbor can be chilly!\")\n",
    "elif avg_temp >= 60 and avg_temp <= 75:\n",
    "    print(\"Summers in Ann Arbor are nice!\")\n",
    "elif avg_temp > 75 and avg_temp <= 80:\n",
    "    print(\"Summers in Ann Arbor are bearable!\")\n",
    "else: \n",
    "    print(\"Summers in Ann Arbor can get hot!\")"
   ]
  },
  {
   "cell_type": "markdown",
   "metadata": {},
   "source": [
    "### Nested Conditionals \n",
    "\n",
    "We can also place conditional statements within each other. "
   ]
  },
  {
   "cell_type": "code",
   "execution_count": null,
   "metadata": {},
   "outputs": [],
   "source": [
    "# Let's write a nested conditional to check if a number is divisible by 6 \n",
    "\n",
    "# A number is considered to be divisible by 6 if it is divisible by both 2 and 3. \n",
    "x = 7\n",
    "\n",
    "if x%2 == 0: \n",
    "    if x%3 == 0:\n",
    "        print(\"{} is divisible by 6!\".format(x))\n",
    "    else: \n",
    "        print(\"{} is not divisible by 6!\".format(x))\n",
    "else:\n",
    "    print(\"{} is not divisible by 2 and so cannot be divisible by 6 either!\".format(x))      "
   ]
  },
  {
   "cell_type": "markdown",
   "metadata": {},
   "source": [
    "### Lecture Practice  (15 minutes) \n",
    "\n",
    "1. Write code to print the letter grade based on the following score:<br> \n",
    "Score | Grade <br>\n",
    "\\>= 0.9 | A <br>\n",
    "\\>= 0.8 | B <br>\n",
    "\\>= 0.7 | C <br>\n",
    "\\>= 0.6 | D <br>\n",
    "&lt;0.6 | F <br><br>\n",
    "\n",
    "2. Write code to check if a year is a leap year or not. A leap year is one which is divisible by 4. However, any century year (e.g. 1600, 2000, etc) is a leap year only if it is also divisible by 400.\n",
    "\n",
    "HINT: This would require either the use of nested loops or the 'and' operator."
   ]
  },
  {
   "cell_type": "code",
   "execution_count": null,
   "metadata": {},
   "outputs": [],
   "source": [
    "## Practice Problem 1 \n",
    "\n",
    "score = 0.5\n",
    "\n",
    "if score >= 0.9:\n",
    "    print(\"Grade A\")\n",
    "elif score >= 0.8: \n",
    "    print(\"Grade B\")\n",
    "elif score >= 0.7:\n",
    "    print(\"Grade C\")\n",
    "elif score >= 0.6:\n",
    "    print(\"Grade D\")\n",
    "else:\n",
    "    print(\"Grade F\")"
   ]
  },
  {
   "cell_type": "code",
   "execution_count": null,
   "metadata": {},
   "outputs": [],
   "source": [
    "## Practice Problem 2 \n",
    "\n",
    "year = 1700\n",
    "\n",
    "if year%100 == 0:\n",
    "    if year%400 == 0:\n",
    "        print(\"{} is a leap year\".format(year))\n",
    "    else: \n",
    "        print(\"{} is not a leap year\".format(year))\n",
    "elif year%4 == 0:\n",
    "    print(\"{} is a leap year\".format(year))\n",
    "else:\n",
    "    print(\"{} is not a leap year\".format(year))"
   ]
  },
  {
   "cell_type": "markdown",
   "metadata": {},
   "source": [
    "## <span style=\"text-decoration: underline;\">Functions</span><a id='functions'></a> [(to top)](#doc_outline)\n",
    "\n",
    "Functions are a sequence of statements that are collectively given a name. These sequence of statements or a *function* can be used repeatedly in the code. It reduces redundancy in our programs and allows us to reuse the code. \n",
    "\n",
    "We have been using some built-in python functions already: print() function to render the output, type() function to get the datatype, format() function to render the output with more clarity. \n",
    "\n",
    "We will now *define* our own functions and call them! To define a function, we need to use the *def* keyword. Keywords are special words in python that have been set aside and have special meanings. Again, we have been using some of them already like *if, else, elif,* etc. We should not use these keywords in declaring variables because it going to confuse the Python interpreter. "
   ]
  },
  {
   "cell_type": "code",
   "execution_count": null,
   "metadata": {},
   "outputs": [],
   "source": [
    "# An example of a function that prints Hello World when it is called \n",
    "def superSimpleFunction():\n",
    "    print(\"Hello World!!!!!!\")"
   ]
  },
  {
   "cell_type": "code",
   "execution_count": null,
   "metadata": {},
   "outputs": [],
   "source": [
    "# Calling the above function \n",
    "superSimpleFunction()  "
   ]
  },
  {
   "cell_type": "code",
   "execution_count": null,
   "metadata": {},
   "outputs": [],
   "source": [
    "# Create a function to add two numbers \n",
    "# num1 and num2 are function arguments / parameters \n",
    "def addTwoNumbers(num1, num2):\n",
    "    total = num1 + num2 \n",
    "    print(\"Printing things here:\",num1, num2, total)\n",
    "    return total "
   ]
  },
  {
   "cell_type": "code",
   "execution_count": null,
   "metadata": {},
   "outputs": [],
   "source": [
    "# Calling the above function \n",
    "result = addTwoNumbers(2, 3)\n",
    "print(result)"
   ]
  },
  {
   "cell_type": "code",
   "execution_count": null,
   "metadata": {},
   "outputs": [],
   "source": [
    "# Defining the function print_temperature_information() that requires the user to provide one argument\n",
    "# It returns a message about the summer weather in Ann Arbor \n",
    "# It uses conditionals \n",
    "def print_temperature_information(temp):\n",
    "    message = \"\"\n",
    "    if temp < 60:\n",
    "        message = \"Summers in Ann Arbor can be chilly!\"\n",
    "    elif temp >= 60 and temp <= 75:\n",
    "        message = \"Summers in Ann Arbor are nice!\"\n",
    "    elif temp > 75 and temp <= 80:\n",
    "        message = \"Summers in Ann Arbor are bearable!\"\n",
    "    else: \n",
    "        message = \"Summers in Ann Arbor can get hot!\"\n",
    "    return message"
   ]
  },
  {
   "cell_type": "code",
   "execution_count": null,
   "metadata": {},
   "outputs": [],
   "source": [
    "# Calling print_temperature_information() and storing the results in weather_inquiry\n",
    "result = print_temperature_information(90)\n",
    "print(result)\n",
    "\n",
    "result = print_temperature_information(45)\n",
    "print(result)\n",
    "\n",
    "result = print_temperature_information(105)\n",
    "print(result)"
   ]
  },
  {
   "cell_type": "markdown",
   "metadata": {},
   "source": [
    "### Useful details about functions\n",
    "1. Flow of execution - A function is not executed unelss it is called. \n",
    "\n",
    "2. Function parameters / arguments - The input(s) that the user is supposed to provide to a function \n",
    "\n",
    "3. Function call - When you call the function \n",
    "\n",
    "4. Return values - The variable that the function returns to the function call. If there is no explicit return statement, then the function will not return anything. "
   ]
  },
  {
   "cell_type": "markdown",
   "metadata": {},
   "source": [
    "### Lecture Practice (30 minutes) \n",
    "\n",
    "1. Create a function called oddOrEven() that takes an integer as an argument and returns \"Odd\" if the number is odd and returns \"Even\" the number is even. (You can reuse code from the lecture practice problem earlier)<br><br>\n",
    "\n",
    "2. Call the function oddOrEven() with the following arguments to check your result: -20, 81, 30, 0, -4<br><br>\n",
    "\n",
    "2. Create a function studentGPA() takes two arguments: name (string), score (float). It calculates the grade on the basis of the score as shown below. <br>It returns the following statement: \"&lt;name> had a score of &lt;score>. Their final grade was &lt;grade>\". <br>For example, for a student named Jamie with a score of 0.8, the function should return \"Jamie had a score of 0.8. Their final grade was B.\"  <br>\n",
    "\\>= 0.9 | A <br>\n",
    "\\>= 0.8 | B <br>\n",
    "\\>= 0.7 | C <br>\n",
    "\\>= 0.6 | D <br>\n",
    "&lt;0.6 | F <br><br>\n",
    "   \n",
    "4. Create a Python function called maxNumber() that accepts three numbers as arguments. It finds the maximum of the three numbers and returns the highest number. Call maxNumber() with following set of arguments: <br>\n",
    "    1. maxNumber(10, 9, 8) <br>\n",
    "    2. maxNumber(4, 5, 6) <br>\n",
    "    3. maxNumber(3, 5, 4) <br>"
   ]
  },
  {
   "cell_type": "code",
   "execution_count": null,
   "metadata": {},
   "outputs": [],
   "source": [
    "## Practice Problem 1 \n",
    "def oddOrEven(num):\n",
    "    message = \"\"\n",
    "    if num%2 == 0:\n",
    "        message = \"Even\"\n",
    "    else:\n",
    "        message = \"Odd\"\n",
    "    return message "
   ]
  },
  {
   "cell_type": "code",
   "execution_count": null,
   "metadata": {},
   "outputs": [],
   "source": [
    "## Practice Problem 2\n",
    "print(oddOrEven(-20))\n",
    "print(oddOrEven(81))\n",
    "print(oddOrEven(30))\n",
    "print(oddOrEven(0))\n",
    "print(oddOrEven(-4))"
   ]
  },
  {
   "cell_type": "code",
   "execution_count": null,
   "metadata": {},
   "outputs": [],
   "source": [
    "## Practice Problem 3\n",
    "def studentGPA(name, score):\n",
    "    grade = \"\"\n",
    "    if score >= 0.9:\n",
    "        grade = \"A\"\n",
    "    elif score >= 0.8: \n",
    "        grade = \"B\"\n",
    "    elif score >= 0.7:\n",
    "        grade = \"C\"\n",
    "    elif score >= 0.6:\n",
    "        grade = \"D\"\n",
    "    else:\n",
    "        grade = \"F\"\n",
    "    return \"{} had a score of {}. Their final grade was {}\".format(name, score, grade)"
   ]
  },
  {
   "cell_type": "code",
   "execution_count": null,
   "metadata": {},
   "outputs": [],
   "source": [
    "studentGPA(\"Jamie\",0.8)"
   ]
  },
  {
   "cell_type": "code",
   "execution_count": null,
   "metadata": {},
   "outputs": [],
   "source": [
    "## Practice Problem 4\n",
    "def maxNumber(num1, num2, num3):\n",
    "    highest_num = num1\n",
    "    if num2 > num1:\n",
    "        if num3 > num2:\n",
    "            highest_num = num3\n",
    "        else:\n",
    "            highest_num = num2 \n",
    "    else:\n",
    "        if num3 > num1:\n",
    "            highest_num = num3\n",
    "    return highest_num        "
   ]
  },
  {
   "cell_type": "code",
   "execution_count": null,
   "metadata": {},
   "outputs": [],
   "source": [
    "print(maxNumber(10, 9, 8))\n",
    "print(maxNumber(4, 5, 6))\n",
    "print(maxNumber(3, 5, 4)) "
   ]
  }
 ],
 "metadata": {
  "anaconda-cloud": {},
  "kernelspec": {
   "display_name": "Python [conda env:anaconda]",
   "language": "python",
   "name": "conda-env-anaconda-py"
  },
  "language_info": {
   "codemirror_mode": {
    "name": "ipython",
    "version": 3
   },
   "file_extension": ".py",
   "mimetype": "text/x-python",
   "name": "python",
   "nbconvert_exporter": "python",
   "pygments_lexer": "ipython3",
   "version": "3.5.2"
  }
 },
 "nbformat": 4,
 "nbformat_minor": 1
}
