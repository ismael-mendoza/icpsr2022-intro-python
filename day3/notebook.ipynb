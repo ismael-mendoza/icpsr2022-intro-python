{
 "cells": [
  {
   "cell_type": "markdown",
   "metadata": {},
   "source": [
    "# Day 3"
   ]
  },
  {
   "cell_type": "markdown",
   "metadata": {},
   "source": [
    "# Table of Contents <a id='doc_outline'></a>"
   ]
  },
  {
   "cell_type": "markdown",
   "metadata": {},
   "source": [
    "* [Escape Strings Part 2](#escape-strings)\n",
    "* [Conditionals Part 2](#conditionals-part-2)\n",
    "* [Functions](#functions)\n",
    "* [Dates and Times](#dates)\n",
    "* [Assignments](#assignments)"
   ]
  },
  {
   "cell_type": "markdown",
   "metadata": {},
   "source": [
    "## Escape strings"
   ]
  },
  {
   "cell_type": "markdown",
   "metadata": {},
   "source": [
    "Yesterday's lecture left some questions on escape strings on people's minds. So today I will give some more examples to clarify. "
   ]
  },
  {
   "cell_type": "code",
   "execution_count": null,
   "metadata": {},
   "outputs": [],
   "source": [
    "# First recall example with double quotes yesterday\n",
    "string = \"This is a \\”Google Colab\\” python notebook\"\n",
    "print(string)"
   ]
  },
  {
   "cell_type": "code",
   "execution_count": null,
   "metadata": {},
   "outputs": [],
   "source": [
    "# Other example include quotes, the backslash \\, tab, and newline.\n",
    "print(\"\\\"\")\n",
    "print(\"\\\\\")\n",
    "print(f\"{{}}\") # this is how you print \"{}\" in f-strings\n",
    "print(\"/\") # this one is fine\n",
    "print(\"tab:\")\n",
    "print(\"\\t\")\n",
    "print(\"newline:\")\n",
    "print(\"\\n\")"
   ]
  },
  {
   "cell_type": "markdown",
   "metadata": {},
   "source": [
    "**Regular expressions** are ways in which you can extract a subset of text from a larger piece of text automatically in some desired format. Escape characters become more frequent when writing regular expressions."
   ]
  },
  {
   "cell_type": "code",
   "execution_count": null,
   "metadata": {},
   "outputs": [],
   "source": [
    "import re\n",
    "\n",
    "# looks for any words that start with upper case S\n",
    "txt = \"The rain in Spain\"\n",
    "x = re.search(r\"\\bS\\w+\", txt)\n",
    "print(x.group())\n",
    "\n",
    "txt = \"The sun in Italy\"\n",
    "y = re.search(r\"\\bS\\w+\", txt) \n",
    "print(y)"
   ]
  },
  {
   "cell_type": "markdown",
   "metadata": {},
   "source": [
    "You don't need to understand the example above. We can learn more about this later if you are interested. You can imagine writing regexes that match email addresses, dates, etc. It can be very useful for scraping websites or for analyzing large amounts of text data."
   ]
  },
  {
   "cell_type": "markdown",
   "metadata": {},
   "source": [
    "## Conditionals Part 2"
   ]
  },
  {
   "cell_type": "markdown",
   "metadata": {},
   "source": [
    "### Recap from yesterday"
   ]
  },
  {
   "cell_type": "code",
   "execution_count": null,
   "metadata": {},
   "outputs": [],
   "source": [
    "# Example of if-else \n",
    "avg_temp = 75\n",
    "if avg_temp < 75: \n",
    "    print(\"Summers in Ann Arbor are nice!\")\n",
    "else:\n",
    "    print(\"Summers in Ann Arbor can get hot!\")"
   ]
  },
  {
   "cell_type": "code",
   "execution_count": null,
   "metadata": {},
   "outputs": [],
   "source": [
    "# Example check if number is non-negative\n",
    "number = -5 \n",
    "if number >= 0: # non-negative (positive or zero)\n",
    "    print(\"{} is non-negative\".format(number))\n",
    "else: # negative\n",
    "    print(\"{} is negative\".format(number))"
   ]
  },
  {
   "cell_type": "markdown",
   "metadata": {},
   "source": [
    "### If - Elif - Else \n",
    "\n",
    "Many times, programs need to test for more than two conditions. In this case, we use an *elif* statement. \n",
    "\n",
    "<figure>\n",
    "<img src=\"day3_conditional3.png\" style=\"width:500px\">\n",
    "<figcaption>Image Credit: Severance, Charles R. Python for everybody. Charles Severance, 2009.</figcaption>\n",
    "</figure>"
   ]
  },
  {
   "cell_type": "code",
   "execution_count": null,
   "metadata": {},
   "outputs": [],
   "source": [
    "# Example of if-elif-else conditional \n",
    "avg_temp = 75\n",
    "if avg_temp < 60:\n",
    "    print(\"Summers in Ann Arbor can be chilly!\")\n",
    "elif avg_temp >= 60 and avg_temp <= 75:\n",
    "    print(\"Summers in Ann Arbor are nice!\")\n",
    "else:\n",
    "    print(\"Summers in Ann Arbor can get hot!\")"
   ]
  },
  {
   "cell_type": "markdown",
   "metadata": {},
   "source": [
    "You can have more than one *elif* statement. Each condition is tested top to bottom and the condition that is met first gets executed. "
   ]
  },
  {
   "cell_type": "code",
   "execution_count": null,
   "metadata": {},
   "outputs": [],
   "source": [
    "# Using multiple elif  \n",
    "if avg_temp < 60:\n",
    "    print(\"Summers in Ann Arbor can be chilly!\")\n",
    "elif avg_temp >= 60 and avg_temp <= 75:\n",
    "    print(\"Summers in Ann Arbor are nice!\")\n",
    "elif avg_temp > 75 and avg_temp <= 80:\n",
    "    print(\"Summers in Ann Arbor are bearable!\")\n",
    "else: \n",
    "    print(\"Summers in Ann Arbor can get hot!\")"
   ]
  },
  {
   "cell_type": "markdown",
   "metadata": {},
   "source": [
    "### Nested Conditionals \n",
    "\n",
    "We can also place conditional statements within each other. "
   ]
  },
  {
   "cell_type": "code",
   "execution_count": null,
   "metadata": {},
   "outputs": [],
   "source": [
    "# Let's write a nested conditional to check if a number is divisible by 6 \n",
    "\n",
    "# A number is considered to be divisible by 6 if it is divisible by both 2 and 3. \n",
    "x = 7\n",
    "\n",
    "if x%2 == 0: \n",
    "    if x%3 == 0:\n",
    "        print(\"{} is divisible by 6!\".format(x))\n",
    "    else: \n",
    "        print(\"{} is not divisible by 6!\".format(x))\n",
    "else:\n",
    "    print(\"{} is not divisible by 2 and so cannot be divisible by 6 either!\".format(x))      "
   ]
  },
  {
   "cell_type": "markdown",
   "metadata": {},
   "source": [
    "### Lecture Practice  (15 minutes) \n",
    "\n",
    "1. Write code to print the letter grade based on the following score:<br> \n",
    "Score | Grade <br>\n",
    "\\>= 0.9 | A <br>\n",
    "\\>= 0.8 | B <br>\n",
    "\\>= 0.7 | C <br>\n",
    "\\>= 0.6 | D <br>\n",
    "&lt;0.6 | F <br><br>\n",
    "\n",
    "2. Write code to check if a year is a leap year or not. A leap year is one which is divisible by 4. However, any century year (e.g. 1600, 2000, etc) is a leap year only if it is also divisible by 400.\n",
    "\n",
    "HINT: This would require either the use of nested conditionals or the 'and' operator."
   ]
  },
  {
   "cell_type": "code",
   "execution_count": null,
   "metadata": {},
   "outputs": [],
   "source": [
    "## Practice Problem 1 \n",
    "\n",
    "score = 0.5\n",
    "\n",
    "if score >= 0.9:\n",
    "    print(\"Grade A\")\n",
    "elif score >= 0.8: \n",
    "    print(\"Grade B\")\n",
    "elif score >= 0.7:\n",
    "    print(\"Grade C\")\n",
    "elif score >= 0.6:\n",
    "    print(\"Grade D\")\n",
    "else:\n",
    "    print(\"Grade F\")"
   ]
  },
  {
   "cell_type": "code",
   "execution_count": null,
   "metadata": {},
   "outputs": [],
   "source": [
    "## Practice Problem 2 \n",
    "\n",
    "year = 1700\n",
    "\n",
    "if year%100 == 0:\n",
    "    if year%400 == 0:\n",
    "        print(\"{} is a leap year\".format(year))\n",
    "    else: \n",
    "        print(\"{} is not a leap year\".format(year))\n",
    "elif year%4 == 0:\n",
    "    print(\"{} is a leap year\".format(year))\n",
    "else:\n",
    "    print(\"{} is not a leap year\".format(year))"
   ]
  },
  {
   "cell_type": "markdown",
   "metadata": {},
   "source": [
    "## Functions\n",
    "\n",
    "Functions are a sequence of statements that are collectively given a name. These sequence of statements or a *function* can be used repeatedly in the code. It reduces redundancy in our programs and allows us to reuse the code. \n",
    "\n",
    "We have been using some built-in python functions already: `print()` function to render the output, `type()` function to get the datatype, `format()` function to render the output with more clarity. \n",
    "\n",
    "We will now *define* our own functions and call them! To define a function, we need to use the `def` keyword. Keywords are special words in python that have been set aside and have special meanings. Again, we have been using some of them already like `if, else, elif`, etc. We should not use these keywords in declaring variables because it going to confuse the Python interpreter. "
   ]
  },
  {
   "cell_type": "code",
   "execution_count": null,
   "metadata": {},
   "outputs": [],
   "source": [
    "# An example of a function that prints Hello World when it is called \n",
    "def superSimpleFunction():\n",
    "    print(\"Hello World!!!!!!\")"
   ]
  },
  {
   "cell_type": "code",
   "execution_count": null,
   "metadata": {},
   "outputs": [],
   "source": [
    "# Calling the above function \n",
    "superSimpleFunction()  "
   ]
  },
  {
   "cell_type": "code",
   "execution_count": null,
   "metadata": {},
   "outputs": [],
   "source": [
    "# Create a function to add two numbers \n",
    "# num1 and num2 are function arguments / parameters \n",
    "def addTwoNumbers(num1, num2):\n",
    "    total = num1 + num2 \n",
    "    print(\"Printing things here:\",num1, num2, total)\n",
    "    return total "
   ]
  },
  {
   "cell_type": "code",
   "execution_count": null,
   "metadata": {},
   "outputs": [],
   "source": [
    "# Calling the above function \n",
    "result = addTwoNumbers(2, 3)\n",
    "print(result)"
   ]
  },
  {
   "cell_type": "code",
   "execution_count": null,
   "metadata": {},
   "outputs": [],
   "source": [
    "# Defining the function print_temperature_information() that requires the user to provide one argument\n",
    "# It returns a message about the summer weather in Ann Arbor \n",
    "# It uses conditionals \n",
    "def print_temperature_information(temp):\n",
    "    message = \"\"\n",
    "    if temp < 60:\n",
    "        message = \"Summers in Ann Arbor can be chilly!\"\n",
    "    elif temp >= 60 and temp <= 75:\n",
    "        message = \"Summers in Ann Arbor are nice!\"\n",
    "    elif temp > 75 and temp <= 80:\n",
    "        message = \"Summers in Ann Arbor are bearable!\"\n",
    "    else: \n",
    "        message = \"Summers in Ann Arbor can get hot!\"\n",
    "    return message"
   ]
  },
  {
   "cell_type": "code",
   "execution_count": null,
   "metadata": {},
   "outputs": [],
   "source": [
    "# Calling print_temperature_information() and storing the results in weather_inquiry\n",
    "result = print_temperature_information(90)\n",
    "print(result)\n",
    "\n",
    "result = print_temperature_information(45)\n",
    "print(result)\n",
    "\n",
    "result = print_temperature_information(105)\n",
    "print(result)"
   ]
  },
  {
   "cell_type": "markdown",
   "metadata": {},
   "source": [
    "### Useful details about functions\n",
    "1. Flow of execution - A function is not executed unelss it is called. \n",
    "\n",
    "2. Function parameters / arguments - The input(s) that the user is supposed to provide to a function \n",
    "\n",
    "3. Function call - When you call the function \n",
    "\n",
    "4. Return values - The variable that the function returns to the function call. If there is no explicit return statement, then the function will not return anything. "
   ]
  },
  {
   "cell_type": "markdown",
   "metadata": {},
   "source": [
    "## Dates"
   ]
  },
  {
   "cell_type": "markdown",
   "metadata": {},
   "source": [
    "Python allows for print dates in different formats using the `dates` [library](https://docs.python.org/3/library/datetime.html). See below"
   ]
  },
  {
   "cell_type": "code",
   "execution_count": null,
   "metadata": {},
   "outputs": [],
   "source": [
    "# use datetime to get time now\n",
    "# the now function returns an object of type datetime\n",
    "import datetime\n",
    "t = datetime.datetime.now()\n",
    "print(t)\n",
    "print(type(t))"
   ]
  },
  {
   "cell_type": "code",
   "execution_count": null,
   "metadata": {},
   "outputs": [],
   "source": [
    "# we can extract year, date, hour, minute from the datetime object\n",
    "# objects usually have 'attributes' or properties. Additional information stored as part of the object.\n",
    "t = datetime.datetime.today()\n",
    "print(t.year)\n",
    "print(t.date())\n",
    "print(t.hour)\n",
    "print(t.minute)"
   ]
  },
  {
   "cell_type": "code",
   "execution_count": null,
   "metadata": {},
   "outputs": [],
   "source": [
    "# convert to another timezone\n",
    "t = datetime.datetime.today()\n",
    "t.astimezone(datetime.timezone.utc).hour"
   ]
  },
  {
   "cell_type": "markdown",
   "metadata": {},
   "source": [
    "### Lecture Practice (30 minutes) \n",
    "\n",
    "**1.** Create a function called `oddOrEven()` that takes an integer as an argument and returns \"Odd\" if the number is odd and returns \"Even\" the number is even. (You can reuse code from the lecture practice problem earlier)\n",
    "\n",
    "**2.** Call the function `oddOrEven()` with the following arguments to check your result: `-20, 81, 30, 0, -4`\n",
    "\n",
    "**3.** Create a function `studentGPA()` takes two arguments: `name` (string), `score` (float). It calculates the grade on the basis of the score as shown below. It returns the following statement: \"\\<name\\> had a score of \\<score\\>. Their final grade was \\<grade\\>\". \n",
    "For example, for a student named Jamie with a score of 0.8, the function should return \"Jamie had a score of 0.8. Their final grade was B.\"\n",
    "\n",
    "- \\>= 0.9 | A \n",
    "- \\>= 0.8 | B \n",
    "- \\>= 0.7 | C \n",
    "- \\>= 0.6 | D\n",
    "- \\>=0.6 | F\n",
    "   \n",
    "4. Create a Python function called `maxNumber()` that accepts three numbers as arguments. It finds the maximum of the three numbers and returns the highest number. Call `maxNumber()` with following set of arguments:\n",
    "- 10, 9, 8\n",
    "- 4, 5, 6\n",
    "- 3, 5, 4"
   ]
  },
  {
   "cell_type": "code",
   "execution_count": null,
   "metadata": {},
   "outputs": [],
   "source": [
    "## Practice Problem 1 \n",
    "def oddOrEven(num):\n",
    "    message = \"\"\n",
    "    if num%2 == 0:\n",
    "        message = \"Even\"\n",
    "    else:\n",
    "        message = \"Odd\"\n",
    "    return message "
   ]
  },
  {
   "cell_type": "code",
   "execution_count": null,
   "metadata": {},
   "outputs": [],
   "source": [
    "## Practice Problem 2\n",
    "print(oddOrEven(-20))\n",
    "print(oddOrEven(81))\n",
    "print(oddOrEven(30))\n",
    "print(oddOrEven(0))\n",
    "print(oddOrEven(-4))"
   ]
  },
  {
   "cell_type": "code",
   "execution_count": null,
   "metadata": {},
   "outputs": [],
   "source": [
    "## Practice Problem 3\n",
    "def studentGPA(name, score):\n",
    "    grade = \"\"\n",
    "    if score >= 0.9:\n",
    "        grade = \"A\"\n",
    "    elif score >= 0.8: \n",
    "        grade = \"B\"\n",
    "    elif score >= 0.7:\n",
    "        grade = \"C\"\n",
    "    elif score >= 0.6:\n",
    "        grade = \"D\"\n",
    "    else:\n",
    "        grade = \"F\"\n",
    "    return \"{} had a score of {}. Their final grade was {}\".format(name, score, grade)"
   ]
  },
  {
   "cell_type": "code",
   "execution_count": null,
   "metadata": {},
   "outputs": [],
   "source": [
    "studentGPA(\"Jamie\",0.8)"
   ]
  },
  {
   "cell_type": "code",
   "execution_count": null,
   "metadata": {},
   "outputs": [],
   "source": [
    "## Practice Problem 4\n",
    "def maxNumber(num1, num2, num3):\n",
    "    highest_num = num1\n",
    "    if num2 > num1:\n",
    "        if num3 > num2:\n",
    "            highest_num = num3\n",
    "        else:\n",
    "            highest_num = num2 \n",
    "    else:\n",
    "        if num3 > num1:\n",
    "            highest_num = num3\n",
    "    return highest_num        "
   ]
  },
  {
   "cell_type": "code",
   "execution_count": null,
   "metadata": {},
   "outputs": [],
   "source": [
    "print(maxNumber(10, 9, 8))\n",
    "print(maxNumber(4, 5, 6))\n",
    "print(maxNumber(3, 5, 4)) "
   ]
  },
  {
   "cell_type": "markdown",
   "metadata": {},
   "source": [
    "## Assignments"
   ]
  },
  {
   "cell_type": "markdown",
   "metadata": {},
   "source": [
    "1. Write a function called `toCelsiusfromFaranheit` that returns the value of a temperature if Celsius if given a temperature in Faranheit. Similarly write a function `toFaranheitfromCelsius`."
   ]
  },
  {
   "cell_type": "code",
   "execution_count": null,
   "metadata": {},
   "outputs": [],
   "source": []
  },
  {
   "cell_type": "markdown",
   "metadata": {},
   "source": [
    "2. Write a function that is similar to `maxNumber` but returns the minimum of set of 3 numbers, called `minNumber`."
   ]
  },
  {
   "cell_type": "code",
   "execution_count": null,
   "metadata": {},
   "outputs": [],
   "source": []
  },
  {
   "cell_type": "markdown",
   "metadata": {},
   "source": [
    "3. Fill missing pieces `____` of the following code such that it prints without errors"
   ]
  },
  {
   "cell_type": "code",
   "execution_count": null,
   "metadata": {},
   "outputs": [],
   "source": [
    "name = 'John Doe'\n",
    "length = len(name) # length of the string = number of characters in the string.\n",
    "\n",
    "if ____:\n",
    "    print('Name \"{}\" is more than 20 chars long'.format(name))\n",
    "    length_description = 'long'\n",
    "elif ____:\n",
    "    print('Name \"{}\" is more than 15 chars long'.format(name))\n",
    "    length_description = 'semi long'\n",
    "elif ____:\n",
    "    print('Name \"{}\" is more than 10 chars long'.format(name))\n",
    "    length_description = 'semi long'\n",
    "elif ____:\n",
    "    print('Name \"{}\" is 8, 9 or 10 chars long'.format(name))\n",
    "    length_description = 'semi short'\n",
    "else:\n",
    "    print('Name \"{}\" is a short name'.format(name))\n",
    "    length_description = 'short'\n",
    "\n",
    "assert length_description == 'semi short'\n"
   ]
  }
 ],
 "metadata": {
  "anaconda-cloud": {},
  "kernelspec": {
   "display_name": "Python 3.7.13 ('icpsr37')",
   "language": "python",
   "name": "python3"
  },
  "language_info": {
   "codemirror_mode": {
    "name": "ipython",
    "version": 3
   },
   "file_extension": ".py",
   "mimetype": "text/x-python",
   "name": "python",
   "nbconvert_exporter": "python",
   "pygments_lexer": "ipython3",
   "version": "3.7.13"
  },
  "vscode": {
   "interpreter": {
    "hash": "be6df871f6691ddf38f4945d39bef842f96680ccd79b9f0ba90a927d490d882a"
   }
  }
 },
 "nbformat": 4,
 "nbformat_minor": 1
}
