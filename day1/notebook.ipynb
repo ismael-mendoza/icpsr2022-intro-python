{
 "cells": [
  {
   "cell_type": "markdown",
   "metadata": {},
   "source": [
    "# Day 1"
   ]
  },
  {
   "cell_type": "markdown",
   "metadata": {},
   "source": [
    "## Course Overview\n",
    "\n",
    "In this 10-day introductory workshop, the first week will cover the basics of Python. \n",
    "\n",
    "In the second week, we will highlight some of the Python tools that are particularly useful to social scientists. This will include topics like loading data from files, manipulating the data, and creating visualizations. We will not really cover the standard list of libraries that one would learn in an introductory workshop on Python. Instead, the course will place more emphasis on libraries that can be of interest to the typical ICPSR audience."
   ]
  },
  {
   "cell_type": "markdown",
   "metadata": {},
   "source": [
    "\n",
    "### A bit about me\n",
    "4th year Physics PhD Student at the University of Michigan. I have been using Python for research and teaching for ~7 years now\n",
    "\n",
    "**Email**: imendoza@umich.edu \n",
    "\n",
    "**Website**: https://ismael-mendoza.github.io\n",
    "\n",
    "### Syllabus\n",
    "Syllabus is available on Canvas. Any problems accessing Canvas? \n",
    "\n",
    "### Nature of Assignments\n",
    "I will provide practice problems. I do not expect assignments to be turned in and I will not grade them. We can discuss the problems in office hours and in lectures (if time allows). \n",
    "\n",
    "### Zoom\n",
    "1. I will record the lectures and make the recordings available (it may take some time but hopefully the turnaround will be quick) \n",
    "2. We will use the break-out rooms feature to work in groups for people in zoom.\n",
    "\n",
    "### Installation\n",
    "Anaconda, Python 3, Jupyter Notebook. Any problems with installation? \n",
    "\n",
    "### Office Hours Poll\n",
    "Currently, I have OH setup right after every class for 1hr. Please fill out this [poll](https://forms.gle/dwUSeBmzpwY67eqt7) so I can decide whether I need to shuffle them around. \n",
    "\n",
    "There should also be extra time in lecture to have OH. We could also set up a time over email if none of the office hours times work."
   ]
  },
  {
   "cell_type": "markdown",
   "metadata": {},
   "source": [
    "# Table of Contents <a id='doc_outline'></a>"
   ]
  },
  {
   "cell_type": "markdown",
   "metadata": {},
   "source": [
    "* [Jupyter Notebook](#jup_notebook)\n",
    "* [Keyboard Shortcuts](#shortcuts)\n",
    "* [Variables](#variables)\n",
    "* [Datatypes](#datatypes)\n",
    "* [Assignment for today](#assignment)"
   ]
  },
  {
   "cell_type": "markdown",
   "metadata": {},
   "source": [
    "## <span style=\"text-decoration: underline;\">Jupyter Notebook</span><a id='jup_notebooks'></a> [(to top)](#doc_outline)\n",
    "\n",
    "Jupyter Notebook is part of <a href=\"https://jupyter.org/about\">Project Jupyter</a>, an open-source non-profit project. \n",
    "\n",
    "Jupyter Notebook is one of the many computational notebooks available to data scientists. It is a web-based interactive platform. It supports over 40 programming languages, including Python and R. \n",
    "\n",
    "It allows users to write and execute code, inspect output, integrate explanatory text and visulaizations as well as other rich media - all in one place.  \n",
    "\n",
    "Jupyter notebooks are made up of <strong>cells</strong>. These cells either contain small chunks of code or accompnaying text. Users can execute these cells to render the output."
   ]
  },
  {
   "cell_type": "markdown",
   "metadata": {},
   "source": [
    "### Let's start the server and create a Jupyter notebook\n",
    "\n",
    "We will use the anaconda navigator to start and stop the server. \n",
    "\n",
    "It will be a good idea to keep all the notebooks from this course in a folder/directory that is easy to access. I would recommend creating a directory on the desktop. Also a good idea to give it the directory a descriptive name but without spaces. \n",
    "\n",
    "Use the <strong>cd</strong> command to navigate the directories from the command line interface. "
   ]
  },
  {
   "cell_type": "markdown",
   "metadata": {},
   "source": [
    "### Let's run a few small chunks of code in our new notebook"
   ]
  },
  {
   "cell_type": "code",
   "execution_count": null,
   "metadata": {},
   "outputs": [],
   "source": [
    "# Write code to print \"Hello World\"\n",
    "print(\"Hello World\")"
   ]
  },
  {
   "cell_type": "code",
   "execution_count": null,
   "metadata": {},
   "outputs": [],
   "source": [
    "# Write code to print \"Hello World\"\n",
    "# Write code to print \"Welcome to Python\"\n",
    "print(\"Hello World\")\n",
    "print(\"Welcome to Python\")\n",
    "\n",
    "# Print some numbers and other text \n",
    "print(1, 2, 3, 4, 5, 6, 7, 8, 9, 10)\n",
    "print(\"Hello\", \"World\", \"Welcome\", \"to\", \"Python\")"
   ]
  },
  {
   "cell_type": "code",
   "execution_count": null,
   "metadata": {},
   "outputs": [],
   "source": [
    "# Adding a comment with by using the '#' character in the beginning \n",
    "# This is a comment\n",
    "print(\"The above line will not print!\")\n",
    "print(\"since it is a comment\")"
   ]
  },
  {
   "cell_type": "markdown",
   "metadata": {},
   "source": [
    "### Switching between code and markdown cells\n",
    "\n",
    "To include explanations about your code, you can switch the type of the cell to \"markdown\".\n",
    "\n",
    "Let's try to create some headings and subheadings in the markdown cell. We will also bold and italicize the text. "
   ]
  },
  {
   "cell_type": "markdown",
   "metadata": {},
   "source": [
    "#### markdown cell (this is a 4th level heading)\n",
    "**a**\n",
    "\n",
    "*b*\n",
    "\n",
    "[google](google.com)"
   ]
  },
  {
   "cell_type": "markdown",
   "metadata": {},
   "source": [
    "## <span style=\"text-decoration: underline;\">Keyboard Shortcuts</span><a id='shortcuts'></a> [(to top)](#doc_outline)\n",
    "\n",
    "Two modes: Edit Mode and Command Mode \n",
    "\n",
    "1. Press Enter to enter the edit mode \n",
    "2. Press Esc to leave the edit mode and enter command mode \n",
    "\n",
    "When in command mode: \n",
    "3. Shift + Enter on Mac / Ctrl + Enter on Windows to run the current cell \n",
    "4. B to add new cell after the current cell \n",
    "5. X to delete the current cell"
   ]
  },
  {
   "cell_type": "markdown",
   "metadata": {},
   "source": [
    "## Common Jupyter operations\n",
    "\n",
    "Near the top of the Jupyter notebook window, there are a row of menu options (File, Edit, View, Insert, ...) and a row of tool bar icons (disk, plus sign, scissors, 2 files, clipboard and file, up arrow, ...).\n",
    "\n",
    "### Inserting and removing cells\n",
    "\n",
    "Use the \"plus sign\" icon to insert a cell below the currently selected cell\n",
    "Use \"Insert\" -> \"Insert Cell Above\" from the menu to insert above\n",
    "\n",
    "### Clear the output of all cells\n",
    "\n",
    "Use \"Kernel\" -> \"Restart\" from the menu to restart the kernel\n",
    "click on \"clear all outputs & restart\" to have all the output cleared\n",
    "\n",
    "### Save your notebook file locally\n",
    "\n",
    "Clear the output of all cells\n",
    "Use \"File\" -> \"Download as\" -> \"IPython Notebook (.ipynb)\" to download a notebook file representing your https://mybinder.org session\n"
   ]
  },
  {
   "cell_type": "markdown",
   "metadata": {},
   "source": [
    "## <span style=\"text-decoration: underline;\">Variables</span><a id='variables'></a> [(to top)](#doc_outline)\n",
    "\n",
    "A variables is a way to name things in your code. This reserves a location in the memory by that name and allows you to store values. \n",
    "\n",
    "Let's \"declare a variable\" below:"
   ]
  },
  {
   "cell_type": "code",
   "execution_count": null,
   "metadata": {},
   "outputs": [],
   "source": [
    "# Declare a variable called name. Assign it the value \"python\" \n",
    "name = \"python\"\n",
    "\n",
    "# print the variable\n",
    "print(name)"
   ]
  },
  {
   "cell_type": "code",
   "execution_count": null,
   "metadata": {},
   "outputs": [],
   "source": [
    "# Declare some more variables: program, city, state\n",
    "program = \"ICPSR Summer Program\"\n",
    "city = \"Ann Arbor\"\n",
    "state = \"Michigan\"\n",
    "\n",
    "# redeclare the name variable to \"Introduction to Python\"\n",
    "name = \"Introduction to Python\"\n"
   ]
  },
  {
   "cell_type": "code",
   "execution_count": null,
   "metadata": {},
   "outputs": [],
   "source": [
    "# print all variables you created\n",
    "print(program, city, state, name)"
   ]
  },
  {
   "cell_type": "markdown",
   "metadata": {},
   "source": [
    "## Python objects, basic types, and variables\n",
    "\n",
    "Everything in Python is an **object** and every object in Python has a **type**. Some of the basic types include:\n",
    "\n",
    "- **`int`** (integer; a whole number with no decimal place)\n",
    "  - `10`\n",
    "  - `-3`\n",
    "- **`float`** (float; a number that has a decimal place)\n",
    "  - `7.41`\n",
    "  - `-0.006`\n",
    "- **`str`** (string; a sequence of characters enclosed in single quotes, double quotes, or triple quotes)\n",
    "  - `'this is a string using single quotes'`\n",
    "  - `\"this is a string using double quotes\"`\n",
    "  - `'''this is a triple quoted string using single quotes'''`\n",
    "  - `\"\"\"this is a triple quoted string using double quotes\"\"\"`\n",
    "- **`bool`** (boolean; a binary value that is either true or false)\n",
    "  - `True`\n",
    "  - `False`\n",
    "- **`NoneType`** (a special type representing the absence of a value)\n",
    "  - `None`\n",
    "\n",
    "In Python, a **variable** is a name you specify in your code that maps to a particular **object**, object **instance**, or value.\n",
    "\n",
    "By defining variables, we can refer to things by names that make sense to us. Names for variables can only contain letters, underscores (`_`), or numbers (no spaces, dashes, or other characters). Variable names must start with a letter or underscore.\n",
    "\n",
    "<hr>"
   ]
  },
  {
   "cell_type": "markdown",
   "metadata": {},
   "source": [
    "## Strings\n",
    "\n",
    "All of the above variables were **strings**. They are defined by ecnlosing a bunch of characters within a pair of single-quotes or double-quotes.\n",
    "\n",
    "How to confirm the datatype of a variable?"
   ]
  },
  {
   "cell_type": "code",
   "execution_count": null,
   "metadata": {},
   "outputs": [],
   "source": [
    "# check the data type of some of the variables declared above\n",
    "type(program)"
   ]
  },
  {
   "cell_type": "markdown",
   "metadata": {},
   "source": [
    "We can *concatenate* strings to print more meaningful statements."
   ]
  },
  {
   "cell_type": "code",
   "execution_count": null,
   "metadata": {},
   "outputs": [],
   "source": [
    "# Concatenate the variables name and program to print \"Introduction to Python is part of the ICPSR Summar Program.\" \n",
    "print(name + \" is part of the \" + program + \".\")\n",
    "\n",
    "# Concatenate the variables city and state to print \"The summer program is usually organized in Ann Arbor , Michigan.\" \n",
    "print(\"The summer program is usually organized in \" + city + \", \" + state + \".\")"
   ]
  },
  {
   "cell_type": "markdown",
   "metadata": {},
   "source": [
    "Python provides some better ways of combining strings. "
   ]
  },
  {
   "cell_type": "code",
   "execution_count": null,
   "metadata": {},
   "outputs": [],
   "source": [
    "# Using the format method and the variables above, print \"This course is called Introduction to Python\" \n",
    "print(\"This course is called {}\".format(name))\n",
    "\n",
    "# Using the format function and the variables above, print \"Introduction to Python is part of the ICPSR Summar Program\"\n",
    "print(\"{} is part of the {}\".format(name, program))\n",
    "\n",
    "# Do the same thing as immediately above but with f-strings\n",
    "print(f\"{name} is part of the {program}.\")\n",
    "\n",
    "# Repeat the same code as immediately above, but use the newline character \"\\n\" to separate the middle of the sentence in two lines.\n",
    "print(f\"{name} is part \\n of the {program}\")"
   ]
  },
  {
   "cell_type": "markdown",
   "metadata": {},
   "source": [
    "We will revisit strings and learn much more about them soon."
   ]
  },
  {
   "cell_type": "markdown",
   "metadata": {},
   "source": [
    "## Other datatypes"
   ]
  },
  {
   "cell_type": "markdown",
   "metadata": {},
   "source": [
    "There are *numerical* datatypes in python too: integers and floats"
   ]
  },
  {
   "cell_type": "code",
   "execution_count": null,
   "metadata": {},
   "outputs": [],
   "source": [
    "# Declare an integer variable avg_temp_july. Assign it value 80\n",
    "avg_temp_july = 80\n",
    "\n",
    "# Also confirm its datatype\n",
    "type(avg_temp_july)"
   ]
  },
  {
   "cell_type": "code",
   "execution_count": null,
   "metadata": {},
   "outputs": [],
   "source": [
    "# Declare another integer variable max_temp_july. Assign it value 88.8\n",
    "max_temp_july = 88.8\n",
    "\n",
    "# Also confirm its datatype\n",
    "type(max_temp_july)"
   ]
  },
  {
   "cell_type": "markdown",
   "metadata": {},
   "source": [
    "There are *boolean* datatypes. These can only take up the value True and False. "
   ]
  },
  {
   "cell_type": "code",
   "execution_count": null,
   "metadata": {},
   "outputs": [],
   "source": [
    "# Declare a boolean variable var1 that is assigned the value True. \n",
    "var1 = True\n",
    "\n",
    "# Declare another boolean variable var2 that is assigned the value False \n",
    "var2 = False\n",
    "\n",
    "# Also confirm their datatypes\n",
    "print(type(var1))\n",
    "print(type(var2))"
   ]
  },
  {
   "cell_type": "markdown",
   "metadata": {},
   "source": [
    "### Lecture Practice\n",
    "\n",
    "Using the four string variables (program, city, state, name), integer variables (avg_temp_july, max_temp_july) and the format function or f-strings, print the following lines:\n",
    "\n",
    "1. **Python is fun!**\n",
    "2. **The average temperature in July in Ann Arbor, Michigan is 80.**\n",
    "3. **The maximum temperature in Ann Arbor, Michigan can go up to 84.4.** "
   ]
  },
  {
   "cell_type": "code",
   "execution_count": null,
   "metadata": {},
   "outputs": [],
   "source": [
    "print(f\"{name} is fun!\")\n",
    "print(f\"The average temparature in July in {city}, {state} is {avg_temp_july}.\")\n",
    "print(f\"The maximum temperature in {city}, {state} can go up to {max_temp_july}.\")"
   ]
  },
  {
   "cell_type": "markdown",
   "metadata": {},
   "source": [
    "### Lecture Practice\n",
    "\n",
    "Using multiple print statements, print the following triangle:\n",
    "\n",
    "![triangle](equilateralTriangle.png)"
   ]
  },
  {
   "cell_type": "code",
   "execution_count": null,
   "metadata": {},
   "outputs": [],
   "source": [
    "print(\"      *\")\n",
    "print(\"     *  *\")\n",
    "print(\"    *  *  *\")\n",
    "print(\"   *  *  *  *\")\n",
    "print(\"  *  *  *  *  *\")\n",
    "print(\" *  *  *  *  *  *\")\n",
    "print(\"*  *  *  *  *  *  *\")"
   ]
  },
  {
   "cell_type": "markdown",
   "metadata": {},
   "source": [
    "### Lecture Practice\n",
    "\n",
    "Using multiple print statements, print the following diamond pattern:\n",
    "\n",
    "![Diamond Pattern](diamondPattern.png)"
   ]
  },
  {
   "cell_type": "code",
   "execution_count": null,
   "metadata": {},
   "outputs": [],
   "source": [
    "print(\"    * \")\n",
    "print(\"   *** \")\n",
    "print(\"  ***** \")\n",
    "print(\" ******* \")\n",
    "print(\"*********\")\n",
    "print(\" ******* \")\n",
    "print(\"  ***** \")\n",
    "print(\"   *** \")\n",
    "print(\"    * \")"
   ]
  },
  {
   "cell_type": "markdown",
   "metadata": {},
   "source": [
    "## Practice Problems for today\n",
    "\n",
    "I am sharing this Jupyter notebook on Canvas. \n",
    "\n",
    "### Practice 1\n",
    "I would recommend you try to run the various cells, add new cells, tweak the values within cells, etc. If you were following along, then make edits/changes there. \n",
    "\n",
    "### Practice 2\n",
    "Get practice with starting/stopping the jupyter notebook server, creating more notebooks, saving the notebook."
   ]
  },
  {
   "cell_type": "markdown",
   "metadata": {},
   "source": [
    "### Practice 3\n",
    "Python is a very rich language and has many unexpected and useful features. Next time, we will talk more about **mathematical operators** like `+, -, *, /, //`.\n",
    "\n",
    "But you can start playing with them if you'd like! For example: \n",
    "\n",
    "```python\n",
    "2 + 2\n",
    "```\n",
    "\n",
    "returns what you expect, but what happens if you try it with strings? \n",
    "\n",
    "```python \n",
    "\"*\" + \"*\"\n",
    "```\n",
    "\n",
    "and how about? \n",
    "\n",
    "```python\n",
    "\"*\" * 3\n",
    "```\n",
    "\n",
    "Given this, can you think of a shorter way of doing the lecture exercises above?"
   ]
  },
  {
   "cell_type": "code",
   "execution_count": null,
   "metadata": {},
   "outputs": [],
   "source": [
    "print(\"*\" + \"*\")\n",
    "print(\"*\" * 3)"
   ]
  },
  {
   "cell_type": "markdown",
   "metadata": {},
   "source": [
    "## Resources\n",
    "\n",
    "- More documentation on jupyter notebook: https://jupyter.brynmawr.edu/services/public/dblank/Jupyter%20Notebook%20Users%20Manual.ipynb\n",
    "- Python intro short notebook: https://gist.github.com/kenjyco/69eeb503125035f21a9d\n",
    "- More tutorials from beginner to intermediate: https://github.com/jerry-git/learn-python3"
   ]
  },
  {
   "cell_type": "markdown",
   "metadata": {},
   "source": [
    "## Any Questions?\n",
    "\n",
    "Please feel free to come to OH or ask me after lecture."
   ]
  }
 ],
 "metadata": {
  "anaconda-cloud": {},
  "kernelspec": {
   "display_name": "Python 3.7.13 ('icpsr37')",
   "language": "python",
   "name": "python3"
  },
  "language_info": {
   "codemirror_mode": {
    "name": "ipython",
    "version": 3
   },
   "file_extension": ".py",
   "mimetype": "text/x-python",
   "name": "python",
   "nbconvert_exporter": "python",
   "pygments_lexer": "ipython3",
   "version": "3.7.13"
  },
  "vscode": {
   "interpreter": {
    "hash": "be6df871f6691ddf38f4945d39bef842f96680ccd79b9f0ba90a927d490d882a"
   }
  }
 },
 "nbformat": 4,
 "nbformat_minor": 1
}
