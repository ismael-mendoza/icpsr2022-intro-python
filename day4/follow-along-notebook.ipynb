{
 "cells": [
  {
   "cell_type": "markdown",
   "metadata": {},
   "source": [
    "# Day 4"
   ]
  },
  {
   "cell_type": "markdown",
   "metadata": {},
   "source": [
    "# Table of Contents <a id='doc_outline'></a>"
   ]
  },
  {
   "cell_type": "markdown",
   "metadata": {},
   "source": [
    "* [Multiple Returns in Functions](#functions)\n",
    "* [Default Arguments in Functions](#default_arguments)\n",
    "* [Importing Functions](#imports)"
   ]
  },
  {
   "cell_type": "markdown",
   "metadata": {},
   "source": [
    "## <span style=\"text-decoration: underline;\">Multiple Returns in Functions</span><a id='functions'></a> [(to top)](#doc_outline)\n",
    "\n",
    "Functions can have multiple return statements. For example, if we are using conditionals within functions, it is possible to return different values for different conditions. \n",
    "\n",
    "The first return statement that is encountered during execution is executed. It *returns* the control back to the line where the function was called. Any other return statements in the function body are not executed. "
   ]
  },
  {
   "cell_type": "code",
   "execution_count": null,
   "metadata": {},
   "outputs": [],
   "source": [
    "# Editing the function print_temperature_information() to return different messages in different conditions "
   ]
  },
  {
   "cell_type": "markdown",
   "metadata": {},
   "source": [
    "It is important to examine the flow of execution to identify which return statement would be executed. \n",
    "\n",
    "<strong>Let's do a quick poll!</strong> \n",
    "\n",
    "### Returning multiple items \n",
    "\n",
    "Functions can also return multiple items. We can separate the items using commas and return multiple things at once. \n",
    "\n",
    "Consider the example below: "
   ]
  },
  {
   "cell_type": "code",
   "execution_count": null,
   "metadata": {},
   "outputs": [],
   "source": [
    "# Create a function sum_and_product that accepts two arguments \n",
    "# It returns the sum and the product of the arugments "
   ]
  },
  {
   "cell_type": "code",
   "execution_count": null,
   "metadata": {},
   "outputs": [],
   "source": [
    "# Calling the function and storing the results in two different variables "
   ]
  },
  {
   "cell_type": "markdown",
   "metadata": {},
   "source": [
    "## <span style=\"text-decoration: underline;\">Default Arugments in Functions</span><a id='default_arguments'></a> [(to top)](#doc_outline)\n",
    "\n",
    "Function arguments can have default values in Python. We can provide a default value to an argument by using the assignment operator (=). This means that the user does not need to provide the value for that argument. If they do choose to provide a value, then the default value would be overwritten. \n",
    "\n",
    "Consider the example below: "
   ]
  },
  {
   "cell_type": "code",
   "execution_count": null,
   "metadata": {},
   "outputs": [],
   "source": [
    "# Redefining calculate_sum_and_product() function. \n",
    "# This time, num2 has the default argument of 1.\n",
    "# We need not provide a value for num2 when calling the function. \n",
    "def calculate_sum_and_product(num1, num2 = 1): \n",
    "    total = num1 + num2\n",
    "    product = num1 * num2 \n",
    "    return total, product "
   ]
  },
  {
   "cell_type": "code",
   "execution_count": null,
   "metadata": {},
   "outputs": [],
   "source": [
    "# Calling calculate_sum_and_product with only num1=4\n",
    "result1, result2 = calculate_sum_and_product(4)\n",
    "result1, result2"
   ]
  },
  {
   "cell_type": "code",
   "execution_count": null,
   "metadata": {},
   "outputs": [],
   "source": [
    "# Calling calculate_sum_and_product with num1=4, num2=2\n",
    "result1, result2 = calculate_sum_and_product(4, 2)\n",
    "result1, result2"
   ]
  },
  {
   "cell_type": "markdown",
   "metadata": {},
   "source": [
    "### Lecture Practice (15 minutes)\n",
    "\n",
    "1. Create a function called <strong>distance_between_points()</strong>. The function takes <strong>four arguments</strong> (all floats). The first and the second argument represent the x and y coordinates of the first point. The third and the fourth argument represent the x and y coordinates of the second point. Default values of third and fourth arguments should be 0 (i.e. coordinates of origin 0,0). The function calculates and returns the distance between the points. <br><br>\n",
    "\n",
    "2. Call the function distance_between_points() with the following arguments and store the result in a variable called distance:\n",
    "    1. distance_between_points(4.4, 5, 9, 2) \n",
    "    2. distance_between_points(2, 2.5)\n",
    "    3. distance_between_points(1.5, 0, 0, 1)\n",
    "    4. distance_between_points(0, 0)\n",
    "\n",
    "Formula for distance between two points when their x and y coordinates are provided:\n",
    "$\\sqrt{(x_1 - x_2)^2 + (y_1 - y_2)^2 }$"
   ]
  },
  {
   "cell_type": "markdown",
   "metadata": {},
   "source": [
    "## <span style=\"text-decoration: underline;\">Importing Functions</span><a id='imports'></a> [(to top)](#doc_outline)\n",
    "\n",
    "Python already has a lot of modules (can also call them libraries) that have many useful functions. This means we need not define all of the functions. Instead we can <strong>import</strong> the functions from these modules and use them directly in our programs. \n",
    "\n",
    "This is especially important to researchers and scientists, who do not have to spend time programming these functions. Instead, they can use the powerful modules of Python (Numpy, SciPy, etc) and jump straight to analysis and computation. \n",
    "\n",
    "Let's start with importing and using functions from the *math* module.  "
   ]
  },
  {
   "cell_type": "markdown",
   "metadata": {},
   "source": [
    "### Math Module \n",
    "\n",
    "Math module is one of the many *core* Python module. What does this mean? It means you do not have download and install the module before you use it. \n",
    "\n",
    "There are many modules that are developed by independent contributors and are not part of the Python's standard set of libraries. For example, BeautifulSoup is a module that one can use to scrape websites. But this is not part of the core libraries. So in all likelihood, one will have to install it before using it. \n",
    "\n",
    "\n",
    "All python modules, whether they are core libraries or not, come with documentation. In this course, we will learn to read the documentation. It is near impossible to remember the names of all the functions, the arguments that ought to be provided when calling them, etc. Instead developers prefer to use the documentation where all of these details are generally provided. \n",
    "\n",
    "Here is the documentation of the math module: https://docs.python.org/3/library/math.html#module-math\n",
    "\n",
    "To access one of the functions, you have to specify the name of the module and the name of the function, separated by a dot (also known as a period). This format is called *dot notation*."
   ]
  },
  {
   "cell_type": "code",
   "execution_count": null,
   "metadata": {},
   "outputs": [],
   "source": [
    "# First import the module \n",
    "\n",
    "# Read the documentation of the ceil() function \n",
    "# Documentation says: math.ceil(x) Return the ceiling of x, the smallest integer greater than or equal to x. \n",
    "# To call the ceiling function, we have to write math.ceil(x) i.e. use the dot notation and provide an argument \n",
    "\n",
    "# Read the documentation of the exp() function "
   ]
  },
  {
   "cell_type": "markdown",
   "metadata": {},
   "source": [
    "### Lecture Practice (15 minutes)\n",
    "\n",
    "Discussing the documentation helps so try to discuss it with your peers :-) \n",
    "\n",
    "1. Read the documentation of the sqrt() function in the Math module. What is the datatype of its return values?  \n",
    "2. Use the sqrt() function with the following arguments: 4, 9, 15, 25, 36, 100, 150 \n",
    "3. Read the documentation of the pow() function in the Math module. What is the datatype of its return values? \n",
    "4. Use the pow() function with the following set of arguments: (8,2); (9,3); (12,2) "
   ]
  },
  {
   "cell_type": "markdown",
   "metadata": {},
   "source": [
    "### Other Useful Built-in Fucntions \n",
    "\n",
    "The Math module can be of use in performing calculations with the data. \n",
    "\n",
    "There are some other built-in functions that can be of particular use to researchers. For instance, converting the datatype of variables can be useful at times! Since these are always available without having to import any module, we do not have to use the dot notation to use them "
   ]
  },
  {
   "cell_type": "code",
   "execution_count": null,
   "metadata": {},
   "outputs": [],
   "source": [
    "# Declare a variable thisIsAFloat and assign it some value \n",
    "\n",
    "# Convert its datatype to integer and store the result in thisIsAnInt\n",
    "\n",
    "# Output thisIsAnInt and type(thisIsAnInt)"
   ]
  },
  {
   "cell_type": "code",
   "execution_count": null,
   "metadata": {},
   "outputs": [],
   "source": [
    "# Let's flip the above conversions "
   ]
  },
  {
   "cell_type": "code",
   "execution_count": null,
   "metadata": {},
   "outputs": [],
   "source": [
    "# Create a variable yetAnotherFloat and assign it some value \n",
    "\n",
    "# Convert its datatype to int "
   ]
  },
  {
   "cell_type": "markdown",
   "metadata": {},
   "source": [
    "### Random Module\n",
    "\n",
    "This is also a core Python module. It is used to generate pseudorandom numbers i.e. numbers which are not generated by a truly random process. We can generate just one random integer or generate a sequeunce of random integers for our use. \n",
    "\n",
    "The random module is highly useful in applying machine learning algorithms, developing Python games, etc. \n",
    "\n",
    "Here is the documentation of the random module: https://docs.python.org/3/library/random.html"
   ]
  },
  {
   "cell_type": "code",
   "execution_count": null,
   "metadata": {},
   "outputs": [],
   "source": [
    "## import the random module "
   ]
  },
  {
   "cell_type": "code",
   "execution_count": null,
   "metadata": {},
   "outputs": [],
   "source": [
    "## Read the documentation of random() function in the random module \n",
    "# Documentation: Return the next random floating point number in the range [0.0, 1.0).\n",
    "# Let's run this a few times!"
   ]
  },
  {
   "cell_type": "code",
   "execution_count": null,
   "metadata": {},
   "outputs": [],
   "source": [
    "## Read the documentation of randint() function in the random module \n",
    "## Documentation: Returns a random integer between the specified integers. \n",
    "## Requires the user to provide two arguments, both integers "
   ]
  },
  {
   "cell_type": "markdown",
   "metadata": {},
   "source": [
    "When we run the above cells multiple times, the output keeps changing. While this is desirable when we want the result to be different each time, it is not useful when we want the output to be the same every time. \n",
    "\n",
    "To keep the output consistent, we can use random.seed(). "
   ]
  },
  {
   "cell_type": "code",
   "execution_count": null,
   "metadata": {},
   "outputs": [],
   "source": [
    "# Call random.seed() with argument 2\n",
    "\n",
    "# Call random.random() a few times and look at the output"
   ]
  },
  {
   "cell_type": "markdown",
   "metadata": {},
   "source": [
    "### Lecture Practice (15 minutes)\n",
    "\n",
    "1. Write a function called readyPlayers(). It takes two arguments: player_name1, player_name2 (both strings). The function does the following operations:\n",
    "    1. It uses random.randint() to generate two random numbers between 1 and 7, num1 and num2.  \n",
    "    2. It compares the values of num1 and num2. \n",
    "        1. If num1 is greater than num2, it returns player_name1 as the winner\n",
    "        2. If num2 is greater than num1, it returns player_name1 as the winner\n",
    "        3. If num1 and num2 are equal, it returns a message \"Game was draw!\" \n",
    "        \n",
    "2. Call the function with following arguments:\n",
    "    1. readyPlayers(\"Bella\", \"Andy\")\n",
    "    2. readyPlayers(\"Bella\", \"Andy\") # \n",
    "    2. readyPlayers(\"April\", \"Jamie\")"
   ]
  }
 ],
 "metadata": {
  "anaconda-cloud": {},
  "kernelspec": {
   "display_name": "Python [conda env:anaconda]",
   "language": "python",
   "name": "conda-env-anaconda-py"
  },
  "language_info": {
   "codemirror_mode": {
    "name": "ipython",
    "version": 3
   },
   "file_extension": ".py",
   "mimetype": "text/x-python",
   "name": "python",
   "nbconvert_exporter": "python",
   "pygments_lexer": "ipython3",
   "version": "3.5.2"
  }
 },
 "nbformat": 4,
 "nbformat_minor": 1
}
