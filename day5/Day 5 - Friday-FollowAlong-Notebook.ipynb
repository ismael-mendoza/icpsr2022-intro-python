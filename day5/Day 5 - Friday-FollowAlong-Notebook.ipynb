{
 "cells": [
  {
   "cell_type": "markdown",
   "metadata": {},
   "source": [
    "# Day 5"
   ]
  },
  {
   "cell_type": "markdown",
   "metadata": {},
   "source": [
    "# Table of Contents <a id='doc_outline'></a>"
   ]
  },
  {
   "cell_type": "markdown",
   "metadata": {},
   "source": [
    "* [Iterations](#iterations)\n",
    "* [Lists](#lists)\n",
    "* [List Methods](#list_methods)\n",
    "* [Strings](#strings)\n",
    "* [in operator](#in_operator)"
   ]
  },
  {
   "cell_type": "markdown",
   "metadata": {},
   "source": [
    "## <span style=\"text-decoration: underline;\">Iterations</span><a id='iterations'></a> [(to top)](#doc_outline)\n",
    "\n",
    "When programming, we often have to perform the same task repeatedly. For example, we may want to print \"Hello World!\" 20 times. But instead of typing 20 prints statements, we can use *loops*. \n",
    "\n",
    "Python provides two ways to repeat actions:\n",
    "1. for loop \n",
    "2. while loop"
   ]
  },
  {
   "cell_type": "markdown",
   "metadata": {},
   "source": [
    "## *for* loop\n",
    "\n",
    "for loop is used when we know the number of times we want to repeat an action. For example, if we know that we want to print a message exactly N number of times, using a for loop is a good idea. "
   ]
  },
  {
   "cell_type": "code",
   "execution_count": null,
   "metadata": {},
   "outputs": [],
   "source": [
    "# Let's print Hello World 5 times "
   ]
  },
  {
   "cell_type": "code",
   "execution_count": null,
   "metadata": {},
   "outputs": [],
   "source": [
    "# Use the for loop to print numbers from 0 to 5 along with this message -> \"For loop execution: <num>\" "
   ]
  },
  {
   "cell_type": "code",
   "execution_count": null,
   "metadata": {},
   "outputs": [],
   "source": [
    "# Using conditionals within a for loop"
   ]
  },
  {
   "cell_type": "code",
   "execution_count": null,
   "metadata": {},
   "outputs": [],
   "source": [
    "# Using for loop to calculate the addition of 1,2,3"
   ]
  },
  {
   "cell_type": "markdown",
   "metadata": {},
   "source": [
    "### Lecture Practice (15 minutes)\n",
    "\n",
    "1. Use for loop on the range 0 to 10 and print the square of each number. \n",
    "\n",
    "2. Use for loop on the range -3 to 3 to convert each number to float and print the converted numbers. \n",
    "\n",
    "3. Use for loop to calculate the product of 1,2,3. "
   ]
  },
  {
   "cell_type": "markdown",
   "metadata": {},
   "source": [
    "## *while* loop\n",
    "\n",
    "While loop also allows us to repeat actions but it is used to repeat actions only until a certain condition is met. "
   ]
  },
  {
   "cell_type": "code",
   "execution_count": null,
   "metadata": {},
   "outputs": [],
   "source": [
    "# Maintain a count of number of times \"Python is fun\" is printed. \n",
    "# When the count exceeds 3, stop printing!"
   ]
  },
  {
   "cell_type": "code",
   "execution_count": null,
   "metadata": {},
   "outputs": [],
   "source": [
    "# Using the while loop to calcluate the sum of numbers until the sum is less than 6 "
   ]
  },
  {
   "cell_type": "markdown",
   "metadata": {},
   "source": [
    "<strong>Beware of infinite loops when using a while loop. \n",
    "\n",
    "If you forget to update the variable that you are using in the condition, the loop can end up running forever!</strong>"
   ]
  },
  {
   "cell_type": "markdown",
   "metadata": {},
   "source": [
    "### Lecture Practice (10 minutes)\n",
    "\n",
    "1. Use while loop to print numbers from 5 to 1 in reverse. HINT: Subtract by -1. "
   ]
  },
  {
   "cell_type": "markdown",
   "metadata": {},
   "source": [
    "## <span style=\"text-decoration: underline;\">Lists</span><a id='lists'></a> [(to top)](#doc_outline)\n",
    "\n",
    "A list is a sequence of values. A list in Python is created by placing comma separated items (also called elements) within a pair of square brackets. \n",
    "\n",
    "For example, list_of_numbers = [10, 20, 4, 5, 6] \n",
    "\n",
    "The variable list_of_numbers stores a list. We can check the datatype using the type() function. "
   ]
  },
  {
   "cell_type": "code",
   "execution_count": null,
   "metadata": {},
   "outputs": [],
   "source": [
    "# Declaring a variable called list_of_numbers to store a list. Also use the type() function to get the datatype "
   ]
  },
  {
   "cell_type": "markdown",
   "metadata": {},
   "source": [
    "All the items in the above list are integers.  \n",
    "\n",
    "But the items do not need to be integers and do not need to be of the same datatype. They can be anything! A list can even have a list inside it. \n",
    "\n",
    "Consider the example below:"
   ]
  },
  {
   "cell_type": "code",
   "execution_count": null,
   "metadata": {},
   "outputs": [],
   "source": [
    "# Declare a list called list_of_many_items. It has items like \"apple\", 25, \"banana\", 35"
   ]
  },
  {
   "cell_type": "markdown",
   "metadata": {},
   "source": [
    "### Accessing / Indexing the items in a list\n",
    "\n",
    "The items in a list are *indexed*. We can access the items in a list by using the *index* number of the item. \n",
    "\n",
    "For example:\n",
    "list_of_numbers = [10, 20, 4, 5, 6] \n",
    "\n",
    "Index number of first element (10) is 0, since Python follows 0-indexing. Index number of last element is (4). Indices go from 0 to (list's length - 1)\n",
    "\n",
    "It is important to note that not all programming languages follow 0 indexing. For example, in R, the index of a sequence begins from 1. "
   ]
  },
  {
   "cell_type": "code",
   "execution_count": null,
   "metadata": {},
   "outputs": [],
   "source": [
    "# Declare a variable list_of_numbers\n",
    "\n",
    "# Print the element at index 0 \n",
    "# Use square brackets to access elements at any index\n",
    "\n",
    "# Print the element at index 4 \n",
    "\n",
    "# Print the element at index 2"
   ]
  },
  {
   "cell_type": "markdown",
   "metadata": {},
   "source": [
    "### Some built-in functions to work with lists \n",
    "\n",
    "1. len() to calculate the length of the list. Works with list with any kind of elements. \n",
    "2. max() to calculate the maximum number in the list. Can also work with list of strings. \n",
    "3. min() to calculate the maximum number in the list. Can also work with list of strings. \n",
    "4. sum() to calulcate the sum of numbers in the list. Can only work with list of numbers. "
   ]
  },
  {
   "cell_type": "code",
   "execution_count": null,
   "metadata": {},
   "outputs": [],
   "source": [
    "# Print the length of list_of_numbers\n",
    "\n",
    "# Print maximum number in list_of_numbers \n",
    "\n",
    "# Print minimum number in list_of_numbers \n",
    "\n",
    "# Print sum of all numbers in list_of_numbers"
   ]
  },
  {
   "cell_type": "markdown",
   "metadata": {},
   "source": [
    "### Traversing a list \n",
    "\n",
    "For big lists, it is difficult to count the position of each element and then access it. To go over the entire list, we can use a for loop. \n",
    "\n",
    "There are two ways to access each element of a list using for loop. "
   ]
  },
  {
   "cell_type": "code",
   "execution_count": null,
   "metadata": {},
   "outputs": [],
   "source": [
    "list_of_numbers = [10, 20, 4, 5, 6] \n",
    "\n",
    "# Approach 1: Going through each element "
   ]
  },
  {
   "cell_type": "markdown",
   "metadata": {},
   "source": [
    "The above loop executes 5 times because there are 5 items in list_of_numbers. In each execution of the loop, the value of num updates to hold the current item it is accessing. \n",
    "\n",
    "Execution 1: num = 10 <br>\n",
    "Execution 2: num = 20 <br>\n",
    "Execution 3: num = 4 <br>\n",
    "Execution 4: num = 5 <br>\n",
    "Execution 5: num = 6 "
   ]
  },
  {
   "cell_type": "code",
   "execution_count": null,
   "metadata": {},
   "outputs": [],
   "source": [
    "# Approach 2: Using indices \n",
    "# This approach is used if we want to update the list items "
   ]
  },
  {
   "cell_type": "code",
   "execution_count": null,
   "metadata": {},
   "outputs": [],
   "source": [
    "# Use indices to traverse the list and double each element of the list "
   ]
  },
  {
   "cell_type": "markdown",
   "metadata": {},
   "source": [
    "### List Methods\n",
    "\n",
    "Lists are mutable i.e. you can add or delete items from lists. You can also change the value of items in lists. \n",
    "\n",
    "Following list methods are very useful:\n",
    "\n",
    "1. list.append(): Add an item to the end of the list  \n",
    "2. list.pop(): Deletes an item from the list and returns the deleted item. By default, it deletes the item at the end of the list. If you specify the index of the item, it deletes the item at that index. \n",
    "3. list.sort(): Sorts the list in ascending order. To sort it in descending order, call it with the argument reverse=True \n",
    "4. list.remove(): Delets the item from the list if you provide the value of the item "
   ]
  },
  {
   "cell_type": "code",
   "execution_count": null,
   "metadata": {},
   "outputs": [],
   "source": [
    "# Use the append method to append 0 to list_of_numbers and print the updated list"
   ]
  },
  {
   "cell_type": "code",
   "execution_count": null,
   "metadata": {},
   "outputs": [],
   "source": [
    "# Use the pop method to pop the last item of list_of_numbers\n",
    "\n",
    "# Use the pop method to pop the item on index 2 from list_of_numbers"
   ]
  },
  {
   "cell_type": "code",
   "execution_count": null,
   "metadata": {},
   "outputs": [],
   "source": [
    "# Use sort() method to sort list_of_numbers \n",
    "\n",
    "# Use sort() method to sort list_of_numbers() in reverse "
   ]
  },
  {
   "cell_type": "markdown",
   "metadata": {},
   "source": [
    "### Lecture Practice (15 minutes) \n",
    "\n",
    "1. Sort the list below to display the names alphabetically: <br>\n",
    "    names = [\"Mike\", \"Emma\", \"Kelly\", \"Brad\"] <br>\n",
    "    expected output: names = [\"Brad\", \"Emma\", \"Kelly\", \"Mike\"] <br><br>\n",
    "\n",
    "2. Append the name \"Jenny\" to the above list <br><br>\n",
    "\n",
    "3. Sort the list again alphabetically. <br><br>\n",
    "\n",
    "4. list1 = [12, 15, 32, 42, 55, 75, 122, 132, 150, 180, 200] <br>\n",
    "Iterate over the above list and print the items that are divisible by 5 only. "
   ]
  },
  {
   "cell_type": "markdown",
   "metadata": {},
   "source": [
    "## <span style=\"text-decoration: underline;\">Strings</span><a id='strings'></a> [(to top)](#doc_outline)\n",
    "\n",
    "Like lists, strings are also considered sequences in Python. A string is a sequence of characters. \n",
    "\n",
    "Therefore, like lists, we can:\n",
    "1. Traverse a string using loops\n",
    "2. Get the length of a string using len()\n",
    "3. Index the various characters using square brackets [] \n",
    "\n",
    "However, unlike lists, strings are immutable. We cannot add, remove characters, and change the characters in strings. "
   ]
  },
  {
   "cell_type": "code",
   "execution_count": null,
   "metadata": {},
   "outputs": [],
   "source": [
    "# Declare a variable fruit. Assign it the value \"apple\" \n",
    "\n",
    "# Print length of fruit \n",
    "\n",
    "# Print character at index 2 in fruit"
   ]
  },
  {
   "cell_type": "code",
   "execution_count": null,
   "metadata": {},
   "outputs": [],
   "source": [
    "# Traverse fruit variable"
   ]
  },
  {
   "cell_type": "markdown",
   "metadata": {},
   "source": [
    "## <span style=\"text-decoration: underline;\">in operator</span><a id='in_operator'></a> [(to top)](#doc_outline)\n",
    "\n",
    "We can use the *in* operator on both lists and strings. It is used to check if an item or a character is present in a list or string respectively. \n",
    "\n",
    "It can be quite useful in setting conditions with if-elif-else "
   ]
  },
  {
   "cell_type": "code",
   "execution_count": null,
   "metadata": {},
   "outputs": [],
   "source": [
    "# Declare a simple lst\n",
    "\n",
    "# Check if certain items are in the lst"
   ]
  },
  {
   "cell_type": "code",
   "execution_count": null,
   "metadata": {},
   "outputs": [],
   "source": [
    "# Declare a variable word. Assign it the value \"python programming\"\n",
    "\n",
    "# Check if \"pyt\" is in word "
   ]
  },
  {
   "cell_type": "code",
   "execution_count": null,
   "metadata": {},
   "outputs": [],
   "source": []
  }
 ],
 "metadata": {
  "anaconda-cloud": {},
  "kernelspec": {
   "display_name": "Python [default]",
   "language": "python",
   "name": "python3"
  },
  "language_info": {
   "codemirror_mode": {
    "name": "ipython",
    "version": 3
   },
   "file_extension": ".py",
   "mimetype": "text/x-python",
   "name": "python",
   "nbconvert_exporter": "python",
   "pygments_lexer": "ipython3",
   "version": "3.5.2"
  }
 },
 "nbformat": 4,
 "nbformat_minor": 1
}
