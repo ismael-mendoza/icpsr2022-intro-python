{
 "cells": [
  {
   "cell_type": "markdown",
   "metadata": {},
   "source": [
    "# Day 5"
   ]
  },
  {
   "cell_type": "markdown",
   "metadata": {},
   "source": [
    "# Table of Contents <a id='doc_outline'></a>"
   ]
  },
  {
   "cell_type": "markdown",
   "metadata": {},
   "source": [
    "* [Iterations](#iterations)\n",
    "* [Lists](#lists)\n",
    "* [List Methods](#list_methods)\n",
    "* [Strings](#strings)\n",
    "* [in operator](#in_operator)"
   ]
  },
  {
   "cell_type": "markdown",
   "metadata": {},
   "source": [
    "## <span style=\"text-decoration: underline;\">Lists</span><a id='lists'></a> [(to top)](#doc_outline)\n",
    "\n",
    "A list is a sequence of values. A list in Python is created by placing comma separated items (also called elements) within a pair of square brackets. \n",
    "\n",
    "For example, list_of_numbers = [10, 20, 4, 5, 6] \n",
    "\n",
    "The variable list_of_numbers stores a list. We can check the datatype using the type() function. "
   ]
  },
  {
   "cell_type": "code",
   "execution_count": null,
   "metadata": {},
   "outputs": [],
   "source": [
    "# Declaring a variable called list_of_numbers to store a list. Also use the type() function to get the datatype \n",
    "list_of_numbers = [10, 20, 4, 5, 6]\n",
    "type(list_of_numbers)"
   ]
  },
  {
   "cell_type": "markdown",
   "metadata": {},
   "source": [
    "All the items in the above list are integers.  \n",
    "\n",
    "But the items do not need to be integers and do not need to be of the same datatype. They can be anything! A list can even have a list inside it. \n",
    "\n",
    "Consider the example below:"
   ]
  },
  {
   "cell_type": "code",
   "execution_count": null,
   "metadata": {},
   "outputs": [],
   "source": [
    "# Declare a list called list_of_many_items. It has items like \"apple\", 25, \"banana\", 35\n",
    "list_of_many_items = [\"apple\", 25, \"banana\", 35]\n",
    "type(list_of_many_items)"
   ]
  },
  {
   "cell_type": "markdown",
   "metadata": {},
   "source": [
    "### Accessing / Indexing the items in a list\n",
    "\n",
    "The items in a list are *indexed*. We can access the items in a list by using the *index* number of the item. \n",
    "\n",
    "For example:\n",
    "list_of_numbers = [10, 20, 4, 5, 6] \n",
    "\n",
    "Index number of first element (10) is 0, since Python follows 0-indexing. Index number of last element is (4). Indices go from 0 to (list's length - 1)\n",
    "\n",
    "It is important to note that not all programming languages follow 0 indexing. For example, in R, the index of a sequence begins from 1. "
   ]
  },
  {
   "cell_type": "code",
   "execution_count": null,
   "metadata": {},
   "outputs": [],
   "source": [
    "# Declare a variable list_of_numbers\n",
    "list_of_numbers = [10, 20, 4, 5, 6]\n",
    "\n",
    "# Print the element at index 0 \n",
    "print(list_of_numbers[0])\n",
    "\n",
    "# Use square brackets to access elements at any index\n",
    "\n",
    "# Print the element at index 4 \n",
    "print(list_of_numbers[4]) \n",
    "\n",
    "# Print the element at index 2\n",
    "print(list_of_numbers[2])"
   ]
  },
  {
   "cell_type": "markdown",
   "metadata": {},
   "source": [
    "### Some built-in functions to work with lists \n",
    "\n",
    "1. len() to calculate the length of the list. Works with list with any kind of elements. \n",
    "2. max() to calculate the maximum number in the list. Can also work with list of strings. \n",
    "3. min() to calculate the maximum number in the list. Can also work with list of strings. \n",
    "4. sum() to calulcate the sum of numbers in the list. Can only work with list of numbers. "
   ]
  },
  {
   "cell_type": "code",
   "execution_count": null,
   "metadata": {},
   "outputs": [],
   "source": [
    "# Print the length of list_of_numbers\n",
    "len(list_of_numbers)\n",
    "\n",
    "# Print maximum number in list_of_numbers \n",
    "max(list_of_numbers) \n",
    "\n",
    "# Print minimum number in list_of_numbers \n",
    "min(list_of_numbers)\n",
    "\n",
    "# Print sum of all numbers in list_of_numbers\n",
    "sum(list_of_numbers)"
   ]
  },
  {
   "cell_type": "code",
   "execution_count": null,
   "metadata": {},
   "outputs": [],
   "source": [
    "survey_responses = [\"A\", \"B\", \"A\",\"A\", \"B\", \"A\",\"A\", \"B\", \"A\",\"A\", \"B\", \"A\",\"A\", \"B\", \"A\",\"A\", \"B\", \"A\"]\n",
    "\n",
    "count_A = 0\n",
    "count_B = 0 \n",
    "\n",
    "# for i in range(...)\n",
    "for i in survey_responses: \n",
    "    if i == \"A\":\n",
    "        count_A = count_A + 1 \n",
    "    if i == \"B\":\n",
    "        count_B = count_B + 1\n",
    "\n",
    "print(count_A, count_B)"
   ]
  },
  {
   "cell_type": "markdown",
   "metadata": {},
   "source": [
    "### Traversing a list \n",
    "\n",
    "For big lists, it is difficult to count the position of each element and then access it. To go over the entire list, we can use a for loop. \n",
    "\n",
    "There are two ways to access each element of a list using for loop. "
   ]
  },
  {
   "cell_type": "code",
   "execution_count": null,
   "metadata": {},
   "outputs": [],
   "source": [
    "list_of_numbers = [10, 20, 4, 5, 6] \n",
    "\n",
    "# Approach 1: Going through each element \n",
    "for num in list_of_numbers: \n",
    "    print(num) "
   ]
  },
  {
   "cell_type": "markdown",
   "metadata": {},
   "source": [
    "The above loop executes 5 times because there are 5 items in list_of_numbers. In each execution of the loop, the value of num updates to hold the current item it is accessing. \n",
    "\n",
    "Execution 1: num = 10 <br>\n",
    "Execution 2: num = 20 <br>\n",
    "Execution 3: num = 4 <br>\n",
    "Execution 4: num = 5 <br>\n",
    "Execution 5: num = 6 "
   ]
  },
  {
   "cell_type": "code",
   "execution_count": null,
   "metadata": {},
   "outputs": [],
   "source": [
    "# Approach 2: Using indices \n",
    "# This approach is used if we want to update the list items \n",
    "\n",
    "length_of_list = len(list_of_numbers)\n",
    "for i in range(0, length_of_list): ## range(0,5)\n",
    "    list_of_numbers[i] = list_of_numbers[i]*2\n",
    "\n",
    "list_of_numbers"
   ]
  },
  {
   "cell_type": "code",
   "execution_count": null,
   "metadata": {},
   "outputs": [],
   "source": [
    "# Use indices to traverse the list and double each element of the list "
   ]
  },
  {
   "cell_type": "markdown",
   "metadata": {},
   "source": [
    "### List Methods\n",
    "\n",
    "Lists are mutable i.e. you can add or delete items from lists. You can also change the value of items in lists. \n",
    "\n",
    "Following list methods are very useful:\n",
    "\n",
    "1. list.append(): Add an item to the end of the list  \n",
    "2. list.pop(): Deletes an item from the list and returns the deleted item. By default, it deletes the item at the end of the list. If you specify the index of the item, it deletes the item at that index. \n",
    "3. list.sort(): Sorts the list in ascending order. To sort it in descending order, call it with the argument reverse=True \n",
    "4. list.remove(): Delets the item from the list if you provide the value of the item "
   ]
  },
  {
   "cell_type": "code",
   "execution_count": null,
   "metadata": {},
   "outputs": [],
   "source": [
    "# Use the append method to append 0 to list_of_numbers and print the updated list\n",
    "list_of_numbers = [10, 20, 4, 5, 6]  \n",
    "\n",
    "list_of_numbers.append(0)\n",
    "list_of_numbers"
   ]
  },
  {
   "cell_type": "code",
   "execution_count": null,
   "metadata": {},
   "outputs": [],
   "source": [
    "# Use the pop method to pop the last item of list_of_numbers\n",
    "last_item = list_of_numbers.pop() \n",
    "list_of_numbers, last_item\n",
    "\n",
    "# Use the pop method to pop the item on index 2 from list_of_numbers\n",
    "list_of_numbers.pop(0)\n",
    "list_of_numbers"
   ]
  },
  {
   "cell_type": "code",
   "execution_count": null,
   "metadata": {},
   "outputs": [],
   "source": [
    "list_of_numbers.append(5)\n",
    "list_of_numbers.append(4)\n",
    "list_of_numbers.append(6)\n",
    "\n",
    "# 20, 4, 5, 4, 6 \n",
    "# Use sort() method to sort list_of_numbers \n",
    "list_of_numbers.sort()\n",
    "list_of_numbers"
   ]
  },
  {
   "cell_type": "code",
   "execution_count": null,
   "metadata": {},
   "outputs": [],
   "source": [
    "# Use sort() method to sort list_of_numbers() in reverse \n",
    "list_of_numbers.sort(reverse = True)\n",
    "list_of_numbers"
   ]
  },
  {
   "cell_type": "markdown",
   "metadata": {},
   "source": [
    "### Lecture Practice (15 minutes) \n",
    "\n",
    "1. Sort the list below to display the names alphabetically: <br>\n",
    "    names = [\"Mike\", \"Emma\", \"Kelly\", \"Brad\"] <br>\n",
    "    expected output: names = [\"Brad\", \"Emma\", \"Kelly\", \"Mike\"] <br><br>\n",
    "\n",
    "2. Append the name \"Jenny\" to the above list <br><br>\n",
    "\n",
    "3. Sort the list again alphabetically. <br><br>\n",
    "\n",
    "4. list1 = [12, 15, 32, 42, 55, 75, 122, 132, 150, 180, 200] <br>\n",
    "Iterate over the above list and print the items that are divisible by 5 only. "
   ]
  },
  {
   "cell_type": "code",
   "execution_count": null,
   "metadata": {},
   "outputs": [],
   "source": [
    "print(\"\\n==================== Practice Problem 1 ====================\\n\")\n",
    "names = [\"Mike\", \"Emma\", \"Kelly\", \"Brad\"]\n",
    "names.sort()\n",
    "print(names)\n",
    "\n",
    "print(\"\\n==================== Practice Problem 2 ====================\\n\")\n",
    "names.append(\"Jenny\")\n",
    "\n",
    "print(\"\\n==================== Practice Problem 3 ====================\\n\")\n",
    "names.sort()\n",
    "print(names)\n",
    "\n",
    "print(\"\\n==================== Practice Problem 4 ====================\\n\")\n",
    "list1 = [12, 15, 32, 42, 55, 75, 122, 132, 150, 180, 200]\n",
    "for i in list1:\n",
    "    if i%5 == 0:\n",
    "        print(i)"
   ]
  },
  {
   "cell_type": "markdown",
   "metadata": {},
   "source": [
    "## <span style=\"text-decoration: underline;\">Strings</span><a id='strings'></a> [(to top)](#doc_outline)\n",
    "\n",
    "Like lists, strings are also considered sequences in Python. A string is a sequence of characters. \n",
    "\n",
    "Therefore, like lists, we can:\n",
    "1. Traverse a string using loops\n",
    "2. Get the length of a string using len()\n",
    "3. Index the various characters using square brackets [] \n",
    "\n",
    "However, unlike lists, strings are immutable. We cannot add, remove characters, and change the characters in strings. "
   ]
  },
  {
   "cell_type": "code",
   "execution_count": null,
   "metadata": {},
   "outputs": [],
   "source": [
    "# Declare a variable fruit. Assign it the value \"apple\" \n",
    "fruit = \"apple\"\n",
    "\n",
    "# Print length of fruit \n",
    "print(len(fruit))\n",
    "\n",
    "# Print character at index 2 in fruit\n",
    "print(fruit[2])"
   ]
  },
  {
   "cell_type": "code",
   "execution_count": null,
   "metadata": {},
   "outputs": [],
   "source": [
    "# Traverse fruit variable\n",
    "for character in fruit: \n",
    "    print(character)\n",
    "    \n",
    "empty_string = \"\"\n",
    "for i in range(0, len(fruit)):\n",
    "    empty_string = empty_string + fruit[i].upper() \n",
    "\n",
    "empty_string"
   ]
  },
  {
   "cell_type": "markdown",
   "metadata": {},
   "source": [
    "## <span style=\"text-decoration: underline;\">in operator</span><a id='in_operator'></a> [(to top)](#doc_outline)\n",
    "\n",
    "We can use the *in* operator on both lists and strings. It is used to check if an item or a character is present in a list or string respectively. \n",
    "\n",
    "It can be quite useful in setting conditions with if-elif-else "
   ]
  },
  {
   "cell_type": "code",
   "execution_count": null,
   "metadata": {},
   "outputs": [],
   "source": [
    "# Declare a simple lst\n",
    "lst = [23, 45, 10]\n",
    "\n",
    "# Check if certain items are in the lst\n",
    "23 in lst"
   ]
  },
  {
   "cell_type": "code",
   "execution_count": null,
   "metadata": {},
   "outputs": [],
   "source": [
    "# Declare a variable word. Assign it the value \"python programming\"\n",
    "word = \"python programming\"\n",
    "\n",
    "# Check if \"pyt\" is in word \n",
    "\"Programming\" in word"
   ]
  }
 ],
 "metadata": {
  "anaconda-cloud": {},
  "kernelspec": {
   "display_name": "Python 3.9.12 ('icpsr39')",
   "language": "python",
   "name": "python3"
  },
  "language_info": {
   "codemirror_mode": {
    "name": "ipython",
    "version": 3
   },
   "file_extension": ".py",
   "mimetype": "text/x-python",
   "name": "python",
   "nbconvert_exporter": "python",
   "pygments_lexer": "ipython3",
   "version": "3.9.12"
  },
  "vscode": {
   "interpreter": {
    "hash": "793173ac31d6a2c33b964e93d6beb990e4e6a719190bc1945591b45858f43f14"
   }
  }
 },
 "nbformat": 4,
 "nbformat_minor": 1
}
