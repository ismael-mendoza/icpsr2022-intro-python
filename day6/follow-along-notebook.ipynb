{
 "cells": [
  {
   "cell_type": "markdown",
   "metadata": {},
   "source": [
    "# Day 6"
   ]
  },
  {
   "cell_type": "markdown",
   "metadata": {},
   "source": [
    "* [NumPy](#numpy)\n",
    "* [Working with Files](#files)\n",
    "* [Preparing Data with Numpy](#preparing-data-with-numpy)"
   ]
  },
  {
   "cell_type": "markdown",
   "metadata": {},
   "source": [
    "## Numpy"
   ]
  },
  {
   "cell_type": "markdown",
   "metadata": {},
   "source": [
    "Today we will learn about manipulating numerical data from a dataset. We will use the `numpy` module, NumPy stands for numerical python. \n",
    "\n",
    "Working with a list of lists generally requires nested loops. But using the `numpy` module, we can convert the list of lists to a numpy `array`. This makes it easier to do calulcations with the data. \n",
    "\n",
    "To use the `numpy` module, we need to first import it. "
   ]
  },
  {
   "cell_type": "code",
   "execution_count": null,
   "metadata": {},
   "outputs": [],
   "source": [
    "# import numpy with the alias np\n"
   ]
  },
  {
   "cell_type": "markdown",
   "metadata": {},
   "source": [
    "### Creating 1D arrays\n",
    "\n",
    "A one-dimensional array is also called a vector. We can create 1D arrays using `np.zeros()`, `np.ones()`, `np.random.rand()` functions. \n",
    "\n",
    "We only need a single index to retrieve an element from a 1D array.  "
   ]
  },
  {
   "cell_type": "code",
   "execution_count": null,
   "metadata": {},
   "outputs": [],
   "source": [
    "# Creating 1D arrays \n",
    "# A 1D array is also called a vector \n",
    "\n",
    "# Create a variable arr1 that is a 1D array of 3 elements, all zeros. \n",
    "\n",
    "# Create a variable arr2 that is a 1D array of 10 elements, all ones. \n",
    "\n",
    "# Create a variable arr3 that is a 1D array of 5 elements, all ones.\n",
    "\n",
    "# Create a variable arr4 that is a 1D array of 3 elements, all random values.\n",
    "\n",
    "# Output arr1, arr2, arr3, arr4\n"
   ]
  },
  {
   "cell_type": "code",
   "execution_count": null,
   "metadata": {},
   "outputs": [],
   "source": [
    "# Output the shape of each of the 1D arrays \n"
   ]
  },
  {
   "cell_type": "code",
   "execution_count": null,
   "metadata": {},
   "outputs": [],
   "source": [
    "# Can convert 1D arrays back to lists \n"
   ]
  },
  {
   "cell_type": "code",
   "execution_count": null,
   "metadata": {},
   "outputs": [],
   "source": [
    "# Selecting a row or a column from a 2D numpy array will yield a 1D array \n"
   ]
  },
  {
   "cell_type": "code",
   "execution_count": null,
   "metadata": {},
   "outputs": [],
   "source": [
    "# Selecting a row or a column from a 2D numpy array will yield a 1D array \n"
   ]
  },
  {
   "cell_type": "code",
   "execution_count": null,
   "metadata": {},
   "outputs": [],
   "source": [
    "# We can fetch individual elements from row_zero and col_zero\n"
   ]
  },
  {
   "cell_type": "markdown",
   "metadata": {},
   "source": [
    "### Useful Functions in NumPy"
   ]
  },
  {
   "cell_type": "code",
   "execution_count": null,
   "metadata": {},
   "outputs": [],
   "source": [
    "# Print random_array again to refer to the values \n"
   ]
  },
  {
   "cell_type": "code",
   "execution_count": null,
   "metadata": {},
   "outputs": [],
   "source": [
    "# Sum of all values in first column \n"
   ]
  },
  {
   "cell_type": "code",
   "execution_count": null,
   "metadata": {},
   "outputs": [],
   "source": [
    "# Max value in first column \n"
   ]
  },
  {
   "cell_type": "code",
   "execution_count": null,
   "metadata": {},
   "outputs": [],
   "source": [
    "# Min value in first column \n"
   ]
  },
  {
   "cell_type": "code",
   "execution_count": null,
   "metadata": {},
   "outputs": [],
   "source": [
    "# Standard deviation in first column \n"
   ]
  },
  {
   "cell_type": "markdown",
   "metadata": {},
   "source": [
    "### Important Details about NumPy \n",
    "\n",
    "Documentation: https://numpy.org/doc/stable/\n",
    "\n",
    "1. NumPy arrays (numpy.ndarray) have a fixed size. Unlike Python lists, we cannot append things to them. Changing the size of an ndarray would create a new array and deleate the original.\n",
    "2. We can change the values of items. \n",
    "3. The elements in a NumPy array are all required to be of the same data type (again, a point of difference from lists)\n",
    "4. Arrays can be 1D, 2D, or multi-dimensional.\n",
    "5. NumPy stores values using its own data types and these map to the Python datatypes we have covered so far. "
   ]
  },
  {
   "cell_type": "markdown",
   "metadata": {},
   "source": [
    "### 2D Arrays\n",
    "\n",
    "This are also known as \"matrices\". A matrix has rows and columns. "
   ]
  },
  {
   "cell_type": "code",
   "execution_count": null,
   "metadata": {},
   "outputs": [],
   "source": [
    "# Creating an empty array with 3 rows and 4 columns\n",
    "# Specify the shape of the array i.e. number of rows and columns  \n",
    "# tuple, like a list but immutable\n"
   ]
  },
  {
   "cell_type": "markdown",
   "metadata": {},
   "source": [
    "One can create an empty array of zeros, which can be updated later based on necessary calculations. \n",
    "\n",
    "Similary, we can create an array of ones as well as an array of random numbers. "
   ]
  },
  {
   "cell_type": "code",
   "execution_count": null,
   "metadata": {},
   "outputs": [],
   "source": [
    "# Creating an array of ones with 5 rows and 5 columns\n"
   ]
  },
  {
   "cell_type": "code",
   "execution_count": null,
   "metadata": {},
   "outputs": [],
   "source": [
    "# Creating an array of 3 rows and 4 columns where each element is a random number \n",
    "# All random numbers would be between 0.0 and 1.0 \n",
    "# Use the np.random.rand() function to generate the random numbers\n"
   ]
  },
  {
   "cell_type": "code",
   "execution_count": null,
   "metadata": {},
   "outputs": [],
   "source": [
    "# Indexing the random_array\n",
    "# Getting the item in first row and first column \n"
   ]
  },
  {
   "cell_type": "code",
   "execution_count": null,
   "metadata": {},
   "outputs": [],
   "source": [
    "# Getting the item in last row and last column \n"
   ]
  },
  {
   "cell_type": "code",
   "execution_count": null,
   "metadata": {},
   "outputs": [],
   "source": [
    "# Getting the item in 2nd row and 3rd column \n"
   ]
  },
  {
   "cell_type": "code",
   "execution_count": null,
   "metadata": {},
   "outputs": [],
   "source": [
    "# Changing the value of the element in second row and third column\n"
   ]
  },
  {
   "cell_type": "code",
   "execution_count": null,
   "metadata": {},
   "outputs": [],
   "source": [
    "# Getting multiple items\n",
    "# Getting the first two items from the fourth column \n"
   ]
  },
  {
   "cell_type": "code",
   "execution_count": null,
   "metadata": {},
   "outputs": [],
   "source": [
    "# Getting the first two items from the third row \n"
   ]
  },
  {
   "cell_type": "code",
   "execution_count": null,
   "metadata": {},
   "outputs": [],
   "source": [
    "# Getting the second and the third items from the third row \n",
    "# x:y... it will get values at indices x to y-1   \n"
   ]
  },
  {
   "cell_type": "code",
   "execution_count": null,
   "metadata": {},
   "outputs": [],
   "source": [
    "# Selecting the entire fourth column \n"
   ]
  },
  {
   "cell_type": "code",
   "execution_count": null,
   "metadata": {},
   "outputs": [],
   "source": [
    "# Selecting the entire second row \n"
   ]
  },
  {
   "cell_type": "code",
   "execution_count": null,
   "metadata": {},
   "outputs": [],
   "source": [
    "# Can select the entire array using the slice operator \n"
   ]
  },
  {
   "cell_type": "code",
   "execution_count": null,
   "metadata": {},
   "outputs": [],
   "source": [
    "# Getting the datatype of any element\n"
   ]
  },
  {
   "cell_type": "markdown",
   "metadata": {},
   "source": [
    "## Working with Files\n",
    "\n",
    "We will now learn how to load data from external sources, namely from files.\n",
    "\n",
    "It is advisable to keep the files in the same folder as your Jupyter Notebook. \n",
    "\n",
    "To open files in Python, we use the built-in function `open()`\n",
    "\n",
    "The `open()` function requires the name of the file as the first argument. This is to identify the file. Other arguments are optional but generally the second argument is also provided to specify the mode in which to open the file. Following are some of the modes which are used most often:\n",
    "\n",
    "1. `'r'`: read only mode, to only read the data from the file. Also, the default value of mode argument  \n",
    "2. `'w'`: write mode to also overwrite the existing data and write new data to the file \n",
    "3. `'a'`: append mode to write new data to the exsiting data \n",
    "\n",
    "Further documentation on arguments of the `open()` function and various file modes: https://docs.python.org/3/library/functions.html#open"
   ]
  },
  {
   "cell_type": "code",
   "execution_count": null,
   "metadata": {},
   "outputs": [],
   "source": [
    "# We will use data on red wine, available from UCI Machine Learning Repository \n",
    "# Link to the full dataset: https://archive.ics.uci.edu/ml/datasets/Wine+Quality\n",
    "# Tutorial reference on NumPy: https://www.dataquest.io/blog/numpy-tutorial-python/\n",
    "\n",
    "# Let's assign the name of the file (\"day6-winequality-red.csv\") to a variable filename \n",
    "# Since filenames are text, it has to be assigned to the variable as a string \n",
    "\n"
   ]
  },
  {
   "cell_type": "code",
   "execution_count": null,
   "metadata": {},
   "outputs": [],
   "source": [
    "# Since it is a CSV file, let's use the CSV module to quickly read data from it. \n",
    "# Documentation: https://docs.python.org/3/library/csv.html\n",
    "# All we need is the `reader` function, which takes a file object as input and returns a list of lists (eache line of the file is a list).\n"
   ]
  },
  {
   "cell_type": "code",
   "execution_count": null,
   "metadata": {},
   "outputs": [],
   "source": [
    "# Opening the file using the open() function \n",
    "# use the csv.reader with the correct delimiter (\",\") to read the entire file into a variable.\n",
    "\n",
    "# Let's print the datatype of the output \n"
   ]
  },
  {
   "cell_type": "code",
   "execution_count": null,
   "metadata": {},
   "outputs": [],
   "source": [
    "# this is equivalent\n",
    "# open file without `with` statement\n",
    "# csvreader is a sequence of lists so we can use `for` to iterate over it\n",
    "# remember to close the file if you don't use the `with` keyword!\n"
   ]
  },
  {
   "cell_type": "code",
   "execution_count": null,
   "metadata": {},
   "outputs": [],
   "source": [
    "# let's print all lines\n"
   ]
  },
  {
   "cell_type": "markdown",
   "metadata": {},
   "source": [
    "Each item in wines also seems like a list. "
   ]
  },
  {
   "cell_type": "code",
   "execution_count": null,
   "metadata": {},
   "outputs": [],
   "source": [
    "# Output number of items in the list \n",
    "# This also corresponds to the number of rows in the CSV file \n"
   ]
  },
  {
   "cell_type": "code",
   "execution_count": null,
   "metadata": {},
   "outputs": [],
   "source": [
    "# Select a random item from wines. Output its datatype as well as the item. \n",
    "\n",
    "# this will generate a random number between 0 and the length of the list\n",
    "\n",
    "# let's print the random item\n"
   ]
  },
  {
   "cell_type": "code",
   "execution_count": null,
   "metadata": {},
   "outputs": [],
   "source": [
    "# Output the number of items in a random list within wines \n",
    "# This also corresponds to the number of columns in the CSV file\n"
   ]
  },
  {
   "cell_type": "markdown",
   "metadata": {},
   "source": [
    "## Preparing data with numpy"
   ]
  },
  {
   "cell_type": "markdown",
   "metadata": {},
   "source": [
    "The numpy module has an `array` function that can be used to convert lists to arrays. \n",
    "\n",
    "Since the above variable, wines, is a list of lists, it would be converted to a two-dimensional (2D) array. The resulting array would have 1599 rows (excluding the header row) and 12 columns.\n",
    "\n",
    "However, we want to leave the first item of wines, which contains header information. To do so, we can use the *slice* operator (:) that can also be used on lists and strings. "
   ]
  },
  {
   "cell_type": "code",
   "execution_count": null,
   "metadata": {},
   "outputs": [],
   "source": [
    "# Using the slice operator to get rid of the first item (header row) in wines\n",
    "# Let's get rid of the first row of wines and store the new list of lists in a variable wines_without_header\n",
    "\n",
    "# Index 0 corresponds to row 1\n",
    "# Index 1 corresponds to row 2 \n"
   ]
  },
  {
   "cell_type": "code",
   "execution_count": null,
   "metadata": {},
   "outputs": [],
   "source": [
    "# Creating a numpy array using wines_without_header\n",
    "# it's good practice to specify the `dtype` (especially when loading external sources)\n"
   ]
  },
  {
   "cell_type": "code",
   "execution_count": null,
   "metadata": {},
   "outputs": [],
   "source": [
    "# Output the datatype of wines_array\n"
   ]
  },
  {
   "cell_type": "markdown",
   "metadata": {},
   "source": [
    "We can check the number of rows and columns in the array using the shape **property** of numpy arrays. \n",
    "\n",
    "A property is different from a function. When using a **property**, you do not need to follow it with parentheses or specify any argument. "
   ]
  },
  {
   "cell_type": "code",
   "execution_count": null,
   "metadata": {},
   "outputs": [],
   "source": [
    "# Getting the number of rows and columns in wines_array\n"
   ]
  },
  {
   "cell_type": "markdown",
   "metadata": {},
   "source": [
    "### Lecture Practice (20 minutes) \n",
    "\n",
    "1. Print the item from the 5th row and 9th column of `wines_array` \n",
    "2. Print the item from the 800th row and 12th column of `wines_array`\n",
    "3. Print the entire last column of `wines_array`\n",
    "4. Print the entire last row of `wines_array`\n",
    "5. Print the entire first row of `wines_array`\n",
    "6. Print the entire first column of `wines_array`\n",
    "7. Print the first 10 items of the 5th column of `wines_array`\n",
    "8. Print the first item of `wines` (NOTE: `wines` is the list of lists we created initially and used for creating `wines_array`).\n",
    "9. Get the first 3 items of the 3rd row of `wines_array`. Which header rows do they correspond to? Use the answer from question 8. \n",
    "10. What does the fourth column of `wines_array` indicate about the red wine dataset? "
   ]
  },
  {
   "cell_type": "code",
   "execution_count": null,
   "metadata": {},
   "outputs": [],
   "source": [
    "# Solutions \n",
    "\n",
    "#1\n",
    "\n",
    "#2\n",
    "\n",
    "#3\n",
    "\n",
    "#4\n",
    "\n",
    "#5\n",
    "\n",
    "#6\n",
    "\n",
    "#7\n",
    "\n",
    "#8\n",
    "\n",
    "#9 Fixed Acidity\n",
    "\n",
    "#10 \n"
   ]
  },
  {
   "cell_type": "markdown",
   "metadata": {},
   "source": [
    "### Lecture Practice (15 minutes) \n",
    "\n",
    "1. Discuss the code in the cell below. Refer to the printed output above to identify the index of each column for questions 2-5."
   ]
  },
  {
   "cell_type": "code",
   "execution_count": null,
   "metadata": {},
   "outputs": [],
   "source": [
    "# For lecture practice question 1, comment in the lines below to run the code\n",
    "header_row = wines[0]\n",
    "\n",
    "for i in range(0, len(header_row)):\n",
    "    print(\"Colum {}: {}\".format(i,header_row[i]))"
   ]
  },
  {
   "cell_type": "markdown",
   "metadata": {},
   "source": [
    "\n",
    "\n",
    "2. Calculate the mean density of all wines. Also, calculate maximum density and minimum density.\n",
    "\n",
    "3. Calculate the mean quality rating of all wines. Also, calculate the maximum quality rating and minimum quality rating.\n",
    "\n",
    "4. Calculate the mean and standard deviation of fixed acidity for all wines.\n",
    "\n",
    "5. Calculate the mean and standard deviation of alcohol content for all wines. "
   ]
  },
  {
   "cell_type": "code",
   "execution_count": null,
   "metadata": {},
   "outputs": [],
   "source": [
    "# Practice problem 2\n"
   ]
  },
  {
   "cell_type": "code",
   "execution_count": null,
   "metadata": {},
   "outputs": [],
   "source": [
    "# Practice problem 3 \n"
   ]
  },
  {
   "cell_type": "code",
   "execution_count": null,
   "metadata": {},
   "outputs": [],
   "source": [
    "# Practice problem 4\n"
   ]
  },
  {
   "cell_type": "code",
   "execution_count": null,
   "metadata": {},
   "outputs": [],
   "source": [
    "# Practice problem 5\n"
   ]
  },
  {
   "cell_type": "code",
   "execution_count": null,
   "metadata": {},
   "outputs": [],
   "source": []
  }
 ],
 "metadata": {
  "anaconda-cloud": {},
  "kernelspec": {
   "display_name": "Python 3.9.12 ('icpsr39')",
   "language": "python",
   "name": "python3"
  },
  "language_info": {
   "codemirror_mode": {
    "name": "ipython",
    "version": 3
   },
   "file_extension": ".py",
   "mimetype": "text/x-python",
   "name": "python",
   "nbconvert_exporter": "python",
   "pygments_lexer": "ipython3",
   "version": "3.9.12"
  },
  "vscode": {
   "interpreter": {
    "hash": "793173ac31d6a2c33b964e93d6beb990e4e6a719190bc1945591b45858f43f14"
   }
  }
 },
 "nbformat": 4,
 "nbformat_minor": 1
}
