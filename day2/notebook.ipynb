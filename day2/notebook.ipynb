{
 "cells": [
  {
   "cell_type": "markdown",
   "metadata": {},
   "source": [
    "# Day 2"
   ]
  },
  {
   "cell_type": "markdown",
   "metadata": {},
   "source": [
    "## Table of Contents <a id='doc_outline'></a>"
   ]
  },
  {
   "cell_type": "markdown",
   "metadata": {},
   "source": [
    "* [Escaping String Characters](#lecture_question)\n",
    "* [Arithmetic Operators](#arithmetic)\n",
    "* [Relational Operators](#relational)\n",
    "* [Logical Operators](#logical)\n",
    "* [Conditionals (Part1)](#conditionals-part-1)"
   ]
  },
  {
   "cell_type": "markdown",
   "metadata": {},
   "source": [
    "## Escaping String Characters\n",
    "\n",
    "What if you want to print quotation marks in your string? For example, you want the output to be the following:\n",
    "1. It's Hello World!\n",
    "2. We printed, \"Hello World!\"\n",
    "3. We printed, \"It's Hello World!\" "
   ]
  },
  {
   "cell_type": "code",
   "execution_count": null,
   "metadata": {},
   "outputs": [],
   "source": [
    "# If you want to print single quotation marks, then enclose the string in double quotation marks \n",
    "print(\"It's Hello World!\")\n",
    "\n",
    "# If you want to print double quotation marks, then enclose the string in single quotation marks \n",
    "print('It\\'s \"Hello World!\"')\n",
    "\n",
    "# If you want to print both quotation marks, then we will have to escape quotation characters using \\ \n",
    "print(\"It's \\\"Hello World!\\\"\")"
   ]
  },
  {
   "cell_type": "markdown",
   "metadata": {},
   "source": [
    "## Arithmetic Operators\n",
    "\n",
    "1. Addition +\n",
    "2. Subtraction -\n",
    "3. Multiplication *\n",
    "4. Division /\n",
    "5. Modulus %\n",
    "6. Exponent **\n",
    "7. Floor Division // "
   ]
  },
  {
   "cell_type": "code",
   "execution_count": null,
   "metadata": {},
   "outputs": [],
   "source": [
    "# Declare some variables \n",
    "a = 5 # integer\n",
    "b = 2 \n",
    "\n",
    "# Performing addition and subtraction  \n",
    "print(a + b)\n",
    "print(a - b)\n",
    "\n",
    "# Performing multiplication and division \n",
    "print(a*b)\n",
    "print(a/b)\n",
    "\n",
    "# print the results, print the type \n",
    "print(a/b, type(a/b))"
   ]
  },
  {
   "cell_type": "code",
   "execution_count": null,
   "metadata": {},
   "outputs": [],
   "source": [
    "# Modulus operator used to calculate the remainder of a division  \n",
    "11 % 2"
   ]
  },
  {
   "cell_type": "code",
   "execution_count": null,
   "metadata": {},
   "outputs": [],
   "source": [
    "# Floor division used to calculate the quotient \n",
    "# always returns an integer if both operands are integers\n",
    "print(11 // 2 , type(11//2))"
   ]
  },
  {
   "cell_type": "code",
   "execution_count": null,
   "metadata": {},
   "outputs": [],
   "source": [
    "# Exponent operator for exponential multiplication\n",
    "# returns integer or float depending on whether base/power is integer or float\n",
    "print(10**1.2, type(10**1.2))\n",
    "print(10**5.0, type(10**5.0))\n",
    "print(10**5, type(10**5))"
   ]
  },
  {
   "cell_type": "markdown",
   "metadata": {},
   "source": [
    "### Order of operations \n",
    "\n",
    "Python follows the mathematical conventions when multiple operators are involved. \n",
    "\n",
    "The acronym PEMDAS is a useful way to remember the rules of precedence: parentheses, exponentiation, multiplication and division have the same precedence, addition and subtraction come last. \n",
    "\n",
    "Example: \n",
    "10 + 20 + 10*2 + (10-50)"
   ]
  },
  {
   "cell_type": "code",
   "execution_count": null,
   "metadata": {},
   "outputs": [],
   "source": [
    "10 + 20 + 10*2 + (10-50)"
   ]
  },
  {
   "cell_type": "code",
   "execution_count": null,
   "metadata": {},
   "outputs": [],
   "source": [
    "5 * 10**2"
   ]
  },
  {
   "cell_type": "code",
   "execution_count": null,
   "metadata": {},
   "outputs": [],
   "source": [
    "a = 10\n",
    "(5*a)**2"
   ]
  },
  {
   "cell_type": "markdown",
   "metadata": {},
   "source": [
    "## Relational Operators\n",
    "\n",
    "These operators are used to compare values. The result of using these operators is always True or False (a boolean). \n",
    "\n",
    "1. == \n",
    "2. !=\t\n",
    "3. \\>\n",
    "4. <\n",
    "5. \\>= \n",
    "6. <= "
   ]
  },
  {
   "cell_type": "code",
   "execution_count": null,
   "metadata": {},
   "outputs": [],
   "source": [
    "# Redeclare x = 10 and y = 20\n",
    "x = 10 \n",
    "y = 20\n",
    "\n",
    "# Print \"x = 10, y = 20\". Use the format function or f-string\n",
    "print(f\"x = {x}, y = {y}\")\n",
    "\n",
    "# Print \"Is x equal to y i.e. x == y?\" followed by the result\n",
    "print(\"Is x equal to y i.e. x == y?\", x == y) #NOT x = y\n",
    "\n",
    "# Print \"Is x not equal to y i.e. x != y?\" followed by the result\n",
    "print(\"Is x not equal to y i.e. x != y?\", x != y)\n",
    "\n",
    "# Print \"Is x greater than y i.e. x > y?\" followed by the result\n",
    "print(\"Is x greater than y i.e. x > y\", x > y)\n",
    "\n",
    "# Print \"Is x less than y i.e. x < y?\" followed by the result\n",
    "print(\"Is x less than y i.e. x < y\", x < y)\n",
    "\n",
    "# Print \"Is x greater than or equal to y i.e. x >= y?\" followed by the result\n",
    "print(\"Is x greater than or equal to y i.e. x >= y\", x >= y)\n",
    "\n",
    "# Print \"Is x less than or equal to y i.e. x <= y?\" followed by the result\n",
    "print(\"Is x less than or equal to y i.e. x <= y\", x <= y)"
   ]
  },
  {
   "cell_type": "markdown",
   "metadata": {},
   "source": [
    "## Logical Operators\n",
    "\n",
    "1. and \n",
    "2. or\n",
    "3. not "
   ]
  },
  {
   "cell_type": "code",
   "execution_count": null,
   "metadata": {},
   "outputs": [],
   "source": [
    "x = True\n",
    "y = False\n",
    "z = False"
   ]
  },
  {
   "cell_type": "code",
   "execution_count": null,
   "metadata": {},
   "outputs": [],
   "source": [
    "# 'and' is used when we want multiple conditions to be true  \n",
    "x and y"
   ]
  },
  {
   "cell_type": "code",
   "execution_count": null,
   "metadata": {},
   "outputs": [],
   "source": [
    "x or y"
   ]
  },
  {
   "cell_type": "code",
   "execution_count": null,
   "metadata": {},
   "outputs": [],
   "source": [
    "# 'or' is used for an either-or situation, for example when we are okay with one condition being true\n",
    "y or z"
   ]
  },
  {
   "cell_type": "code",
   "execution_count": null,
   "metadata": {},
   "outputs": [],
   "source": [
    "# 'not' is used to negate the value \n",
    "print(not x) # x = True\n",
    "print(not y)\n"
   ]
  },
  {
   "cell_type": "markdown",
   "metadata": {},
   "source": [
    "### Combining Logical Operators"
   ]
  },
  {
   "cell_type": "markdown",
   "metadata": {},
   "source": [
    "Make sure you understand the following results:"
   ]
  },
  {
   "cell_type": "code",
   "execution_count": null,
   "metadata": {},
   "outputs": [],
   "source": [
    "x = True\n",
    "y = False\n",
    "z = False"
   ]
  },
  {
   "cell_type": "code",
   "execution_count": null,
   "metadata": {},
   "outputs": [],
   "source": [
    "not x or y and z"
   ]
  },
  {
   "cell_type": "code",
   "execution_count": null,
   "metadata": {},
   "outputs": [],
   "source": [
    "not (x or y) and z"
   ]
  },
  {
   "cell_type": "code",
   "execution_count": null,
   "metadata": {},
   "outputs": [],
   "source": [
    "not (x and y)"
   ]
  },
  {
   "cell_type": "markdown",
   "metadata": {},
   "source": [
    "## Lecture Practice\n",
    "\n",
    "1. Create a variable 'temperature' and assign it some value. Write code to convert temperature to celsius from fahrenheit. Formulas: \n",
    "\n",
    "$$C = 5/9*(F - 32)$$ \n",
    "$$F = 9/5 * C + 32$$ \n",
    "\n",
    "\n",
    "2. Print the converted temperature in the following manner: \"30 degree celsius = 86.0 in Fahrenheit\"\n",
    "\n",
    "3. Change the value of the temperature variable and check the calculation. \n",
    "\n",
    "4. Create a variable `year` and assign it some value. Write code to calculate age from the year a person was born."
   ]
  },
  {
   "cell_type": "code",
   "execution_count": null,
   "metadata": {},
   "outputs": [],
   "source": [
    "# 1. \n",
    "C = 30 \n",
    "F = (9/5) * C + 32\n",
    "print(C, F)"
   ]
  },
  {
   "cell_type": "code",
   "execution_count": null,
   "metadata": {},
   "outputs": [],
   "source": [
    "# 1. \n",
    "F = 68\n",
    "C = 5/9 * (F - 32)\n",
    "C"
   ]
  },
  {
   "cell_type": "code",
   "execution_count": null,
   "metadata": {},
   "outputs": [],
   "source": [
    "# 2. and 3.\n",
    "C = 0\n",
    "F = (9/5) * C + 32\n",
    "print(f\"{C} degree Celsius = {F} in Faranheit\")"
   ]
  },
  {
   "cell_type": "code",
   "execution_count": null,
   "metadata": {},
   "outputs": [],
   "source": [
    "# 4.\n",
    "year = 1998\n",
    "2022 - year"
   ]
  },
  {
   "cell_type": "markdown",
   "metadata": {},
   "source": [
    "## Conditionals (Part 1)"
   ]
  },
  {
   "cell_type": "markdown",
   "metadata": {},
   "source": [
    "**Note:** In Day 2's lecture, we finished early so we decided to jump into Day 3 notebook. I pasted all the relevant cells here so you don't need to open another notebook if you are watching the recording.\n",
    "\n",
    "Conditional statements allow us to check if certain conditions are met and accordingly change the execution of the program. This is achieved by combining the **relational and logical operators** we discussed previously.  \n",
    "\n",
    "The simplest conditional statement is created using an *if* statement\n",
    "\n",
    "<figure>\n",
    "<img src=\"conditional.png\" style=\"width:400px\">\n",
    "<figcaption>Image Credit: Severance, Charles R. Python for everybody. Charles Severance, 2009.</figcaption>\n",
    "</figure>"
   ]
  },
  {
   "cell_type": "code",
   "execution_count": null,
   "metadata": {},
   "outputs": [],
   "source": [
    "# Declare some variables: avg_temp, max_temp \n",
    "avg_temp = 76 \n",
    "max_temp = 90 "
   ]
  },
  {
   "cell_type": "code",
   "execution_count": null,
   "metadata": {},
   "outputs": [],
   "source": [
    "# A simple conditional statement using the if statement\n",
    "if avg_temp < 75:\n",
    "    print(\"Summers in Ann Arbor are nice!\")"
   ]
  },
  {
   "cell_type": "code",
   "execution_count": null,
   "metadata": {},
   "outputs": [],
   "source": [
    "# Another simple conditional statement\n",
    "if max_temp > 90:\n",
    "    print(\"The hottest day in Ann Arbor can be pretty hot!\")"
   ]
  },
  {
   "cell_type": "code",
   "execution_count": null,
   "metadata": {},
   "outputs": [],
   "source": [
    "# Doing things more complex than printing, like performing calulcations\n",
    "num = 64 \n",
    "sqrt = 0 \n",
    "cuberoot = 0 \n",
    "if num >= 0:\n",
    "    sqrt = num**0.5 \n",
    "    cuberoot = num**(1/3) \n",
    "\n",
    "print(\"Cube root of {} is {}\".format(num, cuberoot))"
   ]
  },
  {
   "cell_type": "markdown",
   "metadata": {},
   "source": [
    "### If - Else \n",
    "\n",
    "In the above conditionals, we only have one possibility for the program. If the condition is met, print something. Let's make this more complex by adding an alternate possibility. We will use an *else* statement. \n",
    "\n",
    "<figure>\n",
    "<img src=\"conditional2.png\" style=\"width:500px\">\n",
    "<figcaption>Image Credit: Severance, Charles R. Python for everybody. Charles Severance, 2009.</figcaption>\n",
    "</figure>"
   ]
  },
  {
   "cell_type": "code",
   "execution_count": null,
   "metadata": {},
   "outputs": [],
   "source": [
    "# Example of if-else \n",
    "if avg_temp < 75: \n",
    "    print(\"Summers in Ann Arbor are nice!\")\n",
    "else:\n",
    "    print(\"Summers in Ann Arbor can get hot!\")"
   ]
  },
  {
   "cell_type": "markdown",
   "metadata": {},
   "source": [
    "### Lecture Practice (15 minutes) \n",
    "\n",
    "1. Write code to check if a number is odd or even (refer to the image above). If the number is odd, print &lt;number&gt; is odd. If the number is even, print &lt;number&gt; is even. \n",
    "\n",
    "2. Write code to check and print if a number is greater than or less than zero."
   ]
  },
  {
   "cell_type": "code",
   "execution_count": null,
   "metadata": {},
   "outputs": [],
   "source": [
    "# Practice Problem 1 \n",
    "number = 10 \n",
    "if number%2 == 0:\n",
    "    print(\"{} is odd\".format(number))\n",
    "else:\n",
    "    print(\"{} is even\".format(number))"
   ]
  },
  {
   "cell_type": "code",
   "execution_count": null,
   "metadata": {},
   "outputs": [],
   "source": [
    "# Practice Problem 2\n",
    "number = -5 \n",
    "if number >= 0:\n",
    "    print(\"{} is positive\".format(number))\n",
    "else:\n",
    "    print(\"{} is negative\".format(number))"
   ]
  }
 ],
 "metadata": {
  "anaconda-cloud": {},
  "kernelspec": {
   "display_name": "Python 3 (ipykernel)",
   "language": "python",
   "name": "python3"
  },
  "language_info": {
   "codemirror_mode": {
    "name": "ipython",
    "version": 3
   },
   "file_extension": ".py",
   "mimetype": "text/x-python",
   "name": "python",
   "nbconvert_exporter": "python",
   "pygments_lexer": "ipython3",
   "version": "3.7.13"
  },
  "vscode": {
   "interpreter": {
    "hash": "be6df871f6691ddf38f4945d39bef842f96680ccd79b9f0ba90a927d490d882a"
   }
  }
 },
 "nbformat": 4,
 "nbformat_minor": 1
}
