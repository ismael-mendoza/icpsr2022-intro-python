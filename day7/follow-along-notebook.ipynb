{
 "cells": [
  {
   "cell_type": "markdown",
   "metadata": {},
   "source": [
    "# Day 7"
   ]
  },
  {
   "cell_type": "markdown",
   "metadata": {},
   "source": [
    "* [NumPy Mathematical Operations](#numpy-math-operations)\n",
    "* [Pandas](#pandas)\n",
    "* [Visualizations](#matplotlib)"
   ]
  },
  {
   "cell_type": "markdown",
   "metadata": {},
   "source": [
    "## Numpy math operations\n",
    "\n",
    "We can perform basic mathematical operations on a single array as well as between arrays. \n",
    "\n",
    "\n",
    "### Single Array Math"
   ]
  },
  {
   "cell_type": "code",
   "execution_count": null,
   "metadata": {},
   "outputs": [],
   "source": [
    "import numpy as np\n",
    "\n",
    "# Creating a new array of random values with shape (3,3)\n"
   ]
  },
  {
   "cell_type": "code",
   "execution_count": null,
   "metadata": {},
   "outputs": [],
   "source": [
    "# Add 5 to the array and create a new array with the result\n",
    "# random_arr will remain unchanged \n"
   ]
  },
  {
   "cell_type": "code",
   "execution_count": null,
   "metadata": {},
   "outputs": [],
   "source": [
    "# Modifying random_arr itself and subtrating 5 from it\n"
   ]
  },
  {
   "cell_type": "code",
   "execution_count": null,
   "metadata": {},
   "outputs": [],
   "source": [
    "# Another way of modifying random_arr \n",
    "# The following method can be used with int, float, and string variables too\n",
    "random_arr += 5  # this means random_arr = random_arr + 5"
   ]
  },
  {
   "cell_type": "code",
   "execution_count": null,
   "metadata": {},
   "outputs": [],
   "source": [
    "# Other mathematical operations can be used with numpy arrays like // and **\n"
   ]
  },
  {
   "cell_type": "markdown",
   "metadata": {},
   "source": [
    "### Multiple Array Math "
   ]
  },
  {
   "cell_type": "code",
   "execution_count": null,
   "metadata": {},
   "outputs": [],
   "source": [
    "# Adding two different columns of random_arr into added_col\n",
    "\n",
    "# what is the resulting shape of added_col?\n"
   ]
  },
  {
   "cell_type": "code",
   "execution_count": null,
   "metadata": {},
   "outputs": [],
   "source": [
    "# Multiplying two columns of random_arr \n",
    "# this is element-wise multiplication\n"
   ]
  },
  {
   "cell_type": "markdown",
   "metadata": {},
   "source": [
    "## Pandas"
   ]
  },
  {
   "cell_type": "markdown",
   "metadata": {},
   "source": [
    "### Intro"
   ]
  },
  {
   "cell_type": "markdown",
   "metadata": {},
   "source": [
    "As promised I have a small primer on pandas. Please refer to the [documentation](https://pandas.pydata.org/docs/getting_started/intro_tutorials/01_table_oriented.html) for more details and what is below is mostly a summary of this tutorial."
   ]
  },
  {
   "cell_type": "code",
   "execution_count": null,
   "metadata": {},
   "outputs": [],
   "source": [
    "# import package\n"
   ]
  },
  {
   "cell_type": "code",
   "execution_count": null,
   "metadata": {},
   "outputs": [],
   "source": [
    "# read data from csv yesterday\n"
   ]
  },
  {
   "cell_type": "markdown",
   "metadata": {},
   "source": [
    "A `DataFrame` is a 2-dimensional data structure that can store data of different types (including characters, integers, floating point values, categorical data and more) in columns. It is similar to a spreadsheet, a SQL table or the data.frame in R."
   ]
  },
  {
   "cell_type": "code",
   "execution_count": null,
   "metadata": {},
   "outputs": [],
   "source": [
    "# look at data in nice pandas table format\n"
   ]
  },
  {
   "cell_type": "markdown",
   "metadata": {},
   "source": [
    "Each column in a `DataFrame` is a `Series`."
   ]
  },
  {
   "cell_type": "code",
   "execution_count": null,
   "metadata": {},
   "outputs": [],
   "source": [
    "# get a specific column by name using brackets and the name of the column\n"
   ]
  },
  {
   "cell_type": "code",
   "execution_count": null,
   "metadata": {},
   "outputs": [],
   "source": [
    "# print type of column\n"
   ]
  },
  {
   "cell_type": "markdown",
   "metadata": {},
   "source": [
    "It's easy to apply mathematical operations to columns of dataframes:"
   ]
  },
  {
   "cell_type": "code",
   "execution_count": null,
   "metadata": {},
   "outputs": [],
   "source": [
    "# multiple column time some number\n",
    "# get new column with same name but with the result of the multiplication\n"
   ]
  },
  {
   "cell_type": "code",
   "execution_count": null,
   "metadata": {},
   "outputs": [],
   "source": [
    "# get max density\n"
   ]
  },
  {
   "cell_type": "code",
   "execution_count": null,
   "metadata": {},
   "outputs": [],
   "source": [
    "# you can also do it over all rows and get the maximum of each column with the axis parameter\n",
    "#axis=0 means over all rows, axis=1 means over all columns\n"
   ]
  },
  {
   "cell_type": "code",
   "execution_count": null,
   "metadata": {},
   "outputs": [],
   "source": [
    "# or with the apply method. This is useful for aggregating data\n",
    "# you can pass in any \"summary\" function like max,min, etc.!\n"
   ]
  },
  {
   "cell_type": "markdown",
   "metadata": {},
   "source": [
    "Print a bunch of basic statistics of a column."
   ]
  },
  {
   "cell_type": "code",
   "execution_count": null,
   "metadata": {},
   "outputs": [],
   "source": [
    "# with the describe method.\n"
   ]
  },
  {
   "cell_type": "markdown",
   "metadata": {},
   "source": [
    "## Subsets of data in pandas"
   ]
  },
  {
   "cell_type": "markdown",
   "metadata": {},
   "source": [
    "How do I slice or get only certain columns? "
   ]
  },
  {
   "cell_type": "code",
   "execution_count": null,
   "metadata": {},
   "outputs": [],
   "source": [
    "# print data again for reference\n"
   ]
  },
  {
   "cell_type": "code",
   "execution_count": null,
   "metadata": {},
   "outputs": [],
   "source": [
    "# subset two columns\n"
   ]
  },
  {
   "cell_type": "code",
   "execution_count": null,
   "metadata": {},
   "outputs": [],
   "source": [
    "# result is a new dataframe\n"
   ]
  },
  {
   "cell_type": "code",
   "execution_count": null,
   "metadata": {},
   "outputs": [],
   "source": [
    "# let's say we only want pH values greater than 3.42\n"
   ]
  },
  {
   "cell_type": "code",
   "execution_count": null,
   "metadata": {},
   "outputs": [],
   "source": [
    "# alcohol summary\n"
   ]
  },
  {
   "cell_type": "code",
   "execution_count": null,
   "metadata": {},
   "outputs": [],
   "source": [
    "# I want only the density of objects with low ph < 3.42\n",
    "# using `loc`\n"
   ]
  },
  {
   "cell_type": "code",
   "execution_count": null,
   "metadata": {},
   "outputs": [],
   "source": [
    "# I’m interested in rows 10 till 25 and columns 3 to 5.\n",
    "# use the iloc method\n"
   ]
  },
  {
   "cell_type": "code",
   "execution_count": null,
   "metadata": {},
   "outputs": [],
   "source": [
    "# get density of wintes with low ph and high alcohol content.\n"
   ]
  },
  {
   "cell_type": "markdown",
   "metadata": {},
   "source": [
    "## Visualizations\n",
    "\n",
    "The matplotlib library is a fairly well-documented libary with many examples and tutorials. The library makes it easy to generate plots and save them to files. \n",
    "\n",
    "It can be used with lists as well as numpy arrays. \n",
    "\n",
    "Full Documentation: https://matplotlib.org/stable/users/index.html\n",
    "\n",
    "Official Tutorials: https://matplotlib.org/stable/tutorials/index.html"
   ]
  },
  {
   "cell_type": "code",
   "execution_count": null,
   "metadata": {},
   "outputs": [],
   "source": [
    "# Importing pyplot from the matplotlib library  \n"
   ]
  },
  {
   "cell_type": "markdown",
   "metadata": {},
   "source": [
    "### Using the plot() function \n",
    "\n",
    "The coordinates of the points or line nodes are given by x and y, the first two arguments of the plot() function. We can also specify a third argument to modify the formatting of the graph. When formatting is not specified by the user, its default value to the plot() function is \"b-\". This stands for the blue color (b) and solid line (-). "
   ]
  },
  {
   "cell_type": "code",
   "execution_count": null,
   "metadata": {},
   "outputs": [],
   "source": [
    "# Declaring some data \n",
    "x_data = [1, 2, 3, 4]\n",
    "y_data = [1, 4, 9, 16]\n",
    "\n",
    "# Plotting the data using the plot() function\n",
    "\n",
    "# Need to call plt.show() \n",
    "\n",
    "\n",
    "\n",
    "# or use magic command %matplotlib inline at the beginning of the notebook\n"
   ]
  },
  {
   "cell_type": "code",
   "execution_count": null,
   "metadata": {},
   "outputs": [],
   "source": [
    "# Setting the labels for axis \n",
    "\n",
    "\n",
    "# Again displaying the plot\n"
   ]
  },
  {
   "cell_type": "code",
   "execution_count": null,
   "metadata": {},
   "outputs": [],
   "source": [
    "plt.xlabel(\"Data X\")\n",
    "plt.ylabel(\"Data Y\")\n",
    "\n",
    "# Setting the title of the graph \n",
    "\n",
    "\n",
    "plt.plot(x_data, y_data)\n",
    "plt.show()"
   ]
  },
  {
   "cell_type": "code",
   "execution_count": null,
   "metadata": {},
   "outputs": [],
   "source": [
    "# Saving the graph \n",
    "plt.title(\"Simple Line Graph\")\n",
    "plt.xlabel(\"Data X\")\n",
    "plt.ylabel(\"Data Y\")\n",
    "\n",
    "plt.plot(x_data, y_data)\n",
    "\n",
    "# Call the savefig function with filename as argument after having done the plotting\n"
   ]
  },
  {
   "cell_type": "code",
   "execution_count": null,
   "metadata": {},
   "outputs": [],
   "source": [
    "# Changing the formatting \n",
    "plt.title(\"Simple Line Graph\")\n",
    "plt.xlabel(\"Data X\")\n",
    "plt.ylabel(\"Data Y\")\n",
    "\n",
    "# r - red, o - circular markers in plt.plot()\n"
   ]
  },
  {
   "cell_type": "code",
   "execution_count": null,
   "metadata": {},
   "outputs": [],
   "source": [
    "# The first and the last data points are not fully visible \n",
    "# Let's change the axis limits to make them more visible \n",
    "\n",
    "\n",
    "plt.title(\"Simple Line Graph\")\n",
    "plt.xlabel(\"Data X\")\n",
    "plt.ylabel(\"Data Y\")\n",
    "\n",
    "plt.plot(x_data, y_data, \"ro\")\n",
    "plt.show()"
   ]
  },
  {
   "cell_type": "code",
   "execution_count": null,
   "metadata": {},
   "outputs": [],
   "source": [
    "# Multiple line plots on the same graph with legend\n",
    "plt.xlim(0,5)\n",
    "plt.ylim(0,20) \n",
    "\n",
    "# create new data\n",
    "y2_data = ...\n",
    "\n",
    "# plot both data sets with different markers and set labels\n",
    "\n",
    "# Making sure a legend is provided by using the label argumet \n"
   ]
  },
  {
   "cell_type": "code",
   "execution_count": null,
   "metadata": {},
   "outputs": [],
   "source": [
    "# Generating a sequence sampled at intervals of 0.2 between 0.0 and 0.5\n",
    "#  like range(0,5,0.2) but returns a numpy array\n",
    "y1 = ...\n",
    "\n",
    "plt.plot(y1)\n",
    "plt.show()"
   ]
  },
  {
   "cell_type": "markdown",
   "metadata": {},
   "source": [
    "### Lecture Practice (15 mins) \n",
    "\n",
    "Documentation for plot: https://matplotlib.org/stable/api/_as_gen/matplotlib.pyplot.plot.html\n",
    "\n",
    "1. Let's do some numpy array math! We have generated a 1D array y1 in the cell above. Create two more arrays, y2 and y3. \n",
    "    1. Data in y2 should be twice of the data in y1\n",
    "    2. Data in y3 should be cube of the data in y1 <br><br>\n",
    "\n",
    "2. Create a visualization that looks like below: \n",
    "\n",
    "![curves-cubic](day7_three_lines.png)\n",
    "\n",
    "HINT: Color codes - red: 'r', blue: 'b', green: 'g'"
   ]
  },
  {
   "cell_type": "code",
   "execution_count": null,
   "metadata": {},
   "outputs": [],
   "source": []
  },
  {
   "cell_type": "markdown",
   "metadata": {},
   "source": [
    "### Plot in pandas"
   ]
  },
  {
   "cell_type": "code",
   "execution_count": null,
   "metadata": {},
   "outputs": [],
   "source": [
    "# import pandas and read data again\n",
    "import pandas as pd\n",
    "data = pd.read_csv('day6-winequality-red.csv', delimiter=';')"
   ]
  },
  {
   "cell_type": "code",
   "execution_count": null,
   "metadata": {},
   "outputs": [],
   "source": [
    "# simple plot of alcohol\n"
   ]
  },
  {
   "cell_type": "code",
   "execution_count": null,
   "metadata": {},
   "outputs": [],
   "source": [
    "# scatter plot of alcohol and pH\n",
    "# use parameter kind='scatter' to get a scatter plot\n",
    "# alpha changes the transparency of the points and c is the color\n"
   ]
  },
  {
   "cell_type": "code",
   "execution_count": null,
   "metadata": {},
   "outputs": [],
   "source": [
    "# box plot of alcohol\n",
    "# you can use box method instead of kind='box'\n"
   ]
  },
  {
   "cell_type": "code",
   "execution_count": null,
   "metadata": {},
   "outputs": [],
   "source": [
    "# box plot \"by\" another quantity like quality\n",
    "# useful for discrete data\n"
   ]
  },
  {
   "cell_type": "code",
   "execution_count": null,
   "metadata": {},
   "outputs": [],
   "source": [
    "# create histogram of alcohol with 20 bins\n",
    "# set correct labels and add a median vertical line\n"
   ]
  },
  {
   "cell_type": "markdown",
   "metadata": {},
   "source": [
    "#### Multiple subplots "
   ]
  },
  {
   "cell_type": "code",
   "execution_count": null,
   "metadata": {},
   "outputs": [],
   "source": [
    "# box plot of alcohol, density and pH\n",
    "# separate axis for each using subplots argument.\n"
   ]
  },
  {
   "cell_type": "code",
   "execution_count": null,
   "metadata": {},
   "outputs": [],
   "source": [
    "# now plot area at the same time for these quantities\n"
   ]
  },
  {
   "cell_type": "markdown",
   "metadata": {},
   "source": [
    "### Lecture Practice \n",
    "\n",
    "1. Create a figure containing separate boxplots for every quantity in the dataframe.\n",
    "\n",
    "2. Create a scatter plot of density vs alcohol separated by median quality (half points in each group), using a blue/red color for the dots, some transparency, title, legends, and ensure appropriate labels.\n",
    "\n",
    "3. Create a single figure with three histograms with quantities: alcohol, density, pH. Plot the mean and median of each histogram as a vertical line. **HINT**: What does the `plot.hist` function return? What are the methods of each object?"
   ]
  },
  {
   "cell_type": "code",
   "execution_count": null,
   "metadata": {},
   "outputs": [],
   "source": []
  },
  {
   "cell_type": "code",
   "execution_count": null,
   "metadata": {},
   "outputs": [],
   "source": []
  },
  {
   "cell_type": "code",
   "execution_count": null,
   "metadata": {},
   "outputs": [],
   "source": []
  }
 ],
 "metadata": {
  "anaconda-cloud": {},
  "kernelspec": {
   "display_name": "Python 3.9.12 ('icpsr39')",
   "language": "python",
   "name": "python3"
  },
  "language_info": {
   "codemirror_mode": {
    "name": "ipython",
    "version": 3
   },
   "file_extension": ".py",
   "mimetype": "text/x-python",
   "name": "python",
   "nbconvert_exporter": "python",
   "pygments_lexer": "ipython3",
   "version": "3.9.12"
  },
  "vscode": {
   "interpreter": {
    "hash": "793173ac31d6a2c33b964e93d6beb990e4e6a719190bc1945591b45858f43f14"
   }
  }
 },
 "nbformat": 4,
 "nbformat_minor": 1
}
