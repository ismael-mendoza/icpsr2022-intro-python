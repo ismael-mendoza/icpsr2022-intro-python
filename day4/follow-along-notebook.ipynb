{
 "cells": [
  {
   "cell_type": "markdown",
   "metadata": {},
   "source": [
    "# Day 4"
   ]
  },
  {
   "cell_type": "markdown",
   "metadata": {},
   "source": [
    "# Table of Contents"
   ]
  },
  {
   "cell_type": "markdown",
   "metadata": {},
   "source": [
    "* [Multiple Returns in Functions](#functions)\n",
    "* [Default Arguments in Functions](#default_arguments)\n",
    "* [Importing Functions](#imports)\n",
    "* [Iterations](#iterations)"
   ]
  },
  {
   "cell_type": "markdown",
   "metadata": {},
   "source": [
    "## Multiple Returns in Functions\n",
    "\n",
    "Functions can have multiple return statements. For example, if we are using conditionals within functions, it is possible to return different values for different conditions. \n",
    "\n",
    "The first return statement that is encountered during execution is executed. It *returns* the control back to the line where the function was called. Any other return statements in the function body are not executed. "
   ]
  },
  {
   "cell_type": "code",
   "execution_count": null,
   "metadata": {},
   "outputs": [],
   "source": [
    "# Editing the function print_temperature_information() to return different messages in different conditions \n"
   ]
  },
  {
   "cell_type": "code",
   "execution_count": null,
   "metadata": {},
   "outputs": [],
   "source": [
    "# equivalent with no elif statement\n"
   ]
  },
  {
   "cell_type": "code",
   "execution_count": null,
   "metadata": {},
   "outputs": [],
   "source": [
    "# try out the function\n"
   ]
  },
  {
   "cell_type": "markdown",
   "metadata": {},
   "source": [
    "It is important to examine the flow of execution to identify which return statement would be executed. "
   ]
  },
  {
   "cell_type": "code",
   "execution_count": null,
   "metadata": {},
   "outputs": [],
   "source": [
    "# Poll question function \n",
    "# return \"Eligible!\" if given age greater than or equal to 16.\n",
    "\n",
    "\n",
    "# Alternate way of writing the same function with a different name\n"
   ]
  },
  {
   "cell_type": "code",
   "execution_count": null,
   "metadata": {},
   "outputs": [],
   "source": [
    "# you can try it here\n"
   ]
  },
  {
   "cell_type": "markdown",
   "metadata": {},
   "source": [
    "### Returning multiple items \n",
    "\n",
    "Functions can also return multiple items. We can separate the items using commas and return multiple things at once. \n",
    "\n",
    "Consider the example below: "
   ]
  },
  {
   "cell_type": "code",
   "execution_count": null,
   "metadata": {},
   "outputs": [],
   "source": [
    "# Create a function sum_and_product that accepts two arguments \n",
    "# It returns the sum and the product of the arguments \n"
   ]
  },
  {
   "cell_type": "code",
   "execution_count": null,
   "metadata": {},
   "outputs": [],
   "source": [
    "# Calling the function and storing the results in two different variables \n"
   ]
  },
  {
   "cell_type": "markdown",
   "metadata": {},
   "source": [
    "## Default Arugments in Functions\n",
    "\n",
    "Function arguments can have default values in Python. We can provide a default value to an argument by using the assignment operator (=). This means that the user does not need to provide the value for that argument. If they do choose to provide a value, then the default value would be overwritten. \n",
    "\n",
    "Consider the example below: "
   ]
  },
  {
   "cell_type": "code",
   "execution_count": null,
   "metadata": {},
   "outputs": [],
   "source": [
    "# Redefining calculate_sum_and_product function. \n",
    "# This time, num2 has the default argument of 1.\n",
    "# We need not provide a value for num2 when calling the function.\n"
   ]
  },
  {
   "cell_type": "code",
   "execution_count": null,
   "metadata": {},
   "outputs": [],
   "source": [
    "# let's do some examples with all combinations of arguments.\n"
   ]
  },
  {
   "cell_type": "markdown",
   "metadata": {},
   "source": [
    "### Lecture Practice 1\n",
    "\n",
    "1. Create a function called `distance_between_points`. The function takes **four arguments** (all floats). The first and the second argument represent the `x` and `y` coordinates of the first point. The third and the fourth argument represent the x and y coordinates of the second point. Default values of third and fourth arguments should be 0 (i.e. coordinates of origin 0,0). The function calculates and returns the distance between the points. \n",
    "\n",
    "2. Call the function `distance_between_points` with the following arguments and store the result in a variable called distance:\n",
    "    1. `distance_between_points(4.4, 5, 9, 2)`\n",
    "    2. `distance_between_points(2, 2.5)`\n",
    "    3. `distance_between_points(1.5, 0, 0, 1)`\n",
    "    4. `distance_between_points(0, 0)`\n",
    "\n",
    "Formula for distance between two points when their x and y coordinates are provided:\n",
    "$\\sqrt{(x_1 - x_2)^2 + (y_1 - y_2)^2 }$"
   ]
  },
  {
   "cell_type": "code",
   "execution_count": null,
   "metadata": {},
   "outputs": [],
   "source": [
    "# Problem 1.\n"
   ]
  },
  {
   "cell_type": "code",
   "execution_count": null,
   "metadata": {},
   "outputs": [],
   "source": [
    "# Problem 2.\n"
   ]
  },
  {
   "cell_type": "markdown",
   "metadata": {},
   "source": [
    "## Importing Functions\n",
    "\n",
    "Python already has a lot of **modules** (can also call them **libraries**) that have many useful functions. This means we need not define all of the functions. Instead we can **import** the functions from these modules and use them directly in our programs. \n",
    "\n",
    "This is especially important to researchers and scientists, who do not have to spend time programming these functions. Instead, they can use the powerful modules of Python (**Numpy**, **SciPy**, etc) and jump straight to analysis and computation. \n",
    "\n",
    "Let's start with importing and using functions from the *math* module.  "
   ]
  },
  {
   "cell_type": "markdown",
   "metadata": {},
   "source": [
    "### Math Module \n",
    "\n",
    "**Math** module is one of the many *core* Python module. What does this mean? It means you do not have download and install the module before you use it. \n",
    "\n",
    "There are many modules that are developed by independent contributors and are not part of the Python's standard set of libraries. For example, *BeautifulSoup* is a module that one can use to scrape websites. But this is not part of the core libraries. So in all likelihood, one will have to install it before using it. \n",
    "\n",
    "\n",
    "All python modules, whether they are core libraries or not, come with documentation. In this course, we will learn to read the documentation. It is near impossible to remember the names of all the functions, the arguments that ought to be provided when calling them, etc. Instead developers prefer to use the documentation where all of these details are generally provided. \n",
    "\n",
    "Here is the documentation of the math module: https://docs.python.org/3/library/math.html#module-math\n",
    "\n",
    "To access one of the functions, you have to specify the name of the module and the name of the function, separated by a dot (also known as a period). This format is called *dot notation*."
   ]
  },
  {
   "cell_type": "code",
   "execution_count": null,
   "metadata": {},
   "outputs": [],
   "source": [
    "# First import the module \n",
    "import math \n",
    "\n",
    "# Read the documentation of the ceil() function \n",
    "# Documentation says: math.ceil(x) Return the ceiling of x, the smallest integer greater than or equal to x. \n",
    "# To call the ceiling function, we have to write math.ceil(x) i.e. use the dot notation and provide an argument \n",
    "\n"
   ]
  },
  {
   "cell_type": "code",
   "execution_count": null,
   "metadata": {},
   "outputs": [],
   "source": [
    "# Read the documentation of the exp() function \n"
   ]
  },
  {
   "cell_type": "markdown",
   "metadata": {},
   "source": [
    "### Lecture Practice 2\n",
    "\n",
    "Discussing the documentation helps so try to discuss it with your peers :-) \n",
    "\n",
    "1. Read the documentation of the `sqrt` function in the Math module. What is the datatype of its return values?  \n",
    "2. Use the `sqrt` function with the following arguments: 4, 9, 15, 25, 36, 100, 150 \n",
    "3. Read the documentation of the `pow` function in the Math module. What is the datatype of its return values? \n",
    "4. Use the `pow` function with the following set of arguments: (8,2); (9,3); (12,2) \n",
    "5. Do you understand what the function is doing and do the results make sense to you?"
   ]
  },
  {
   "cell_type": "code",
   "execution_count": null,
   "metadata": {},
   "outputs": [],
   "source": [
    "# Practice Problem 1 and 2 \n"
   ]
  },
  {
   "cell_type": "code",
   "execution_count": null,
   "metadata": {},
   "outputs": [],
   "source": [
    "# Practice Problem 3 and 4 \n"
   ]
  },
  {
   "cell_type": "markdown",
   "metadata": {},
   "source": [
    "### Other Useful Built-in Functions \n",
    "\n",
    "The Math module can be of use in performing calculations with the data. \n",
    "\n",
    "There are some other built-in functions that can be of particular use to researchers. For instance, converting the datatype of variables can be useful at times! Since these are always available without having to import any module, we do not have to use the dot notation to use them "
   ]
  },
  {
   "cell_type": "code",
   "execution_count": null,
   "metadata": {},
   "outputs": [],
   "source": [
    "# Declare a variable thisIsAFloat and assign it some value \n",
    "\n",
    "# Convert its datatype to integer and store the result in thisIsAnInt\n",
    "\n",
    "# Output thisIsAnInt and type(thisIsAnInt)\n"
   ]
  },
  {
   "cell_type": "code",
   "execution_count": null,
   "metadata": {},
   "outputs": [],
   "source": [
    "# Let's flip the above conversions \n",
    "# what do you notice?\n"
   ]
  },
  {
   "cell_type": "code",
   "execution_count": null,
   "metadata": {},
   "outputs": [],
   "source": [
    "# Create a variable yetAnotherFloat and assign it some value \n",
    "\n",
    "# Convert its datatype to int \n",
    "\n",
    "# what about strings?\n"
   ]
  },
  {
   "cell_type": "markdown",
   "metadata": {},
   "source": [
    "### Random Module\n",
    "\n",
    "This is also a core Python module. It is used to generate pseudorandom numbers i.e. numbers which are not generated by a truly random process. We can generate just one random integer or generate a sequeunce of random integers for our use. \n",
    "\n",
    "The random module is highly useful in applying machine learning algorithms, developing Python games, etc. \n",
    "\n",
    "Here is the documentation of the random module: https://docs.python.org/3/library/random.html"
   ]
  },
  {
   "cell_type": "code",
   "execution_count": null,
   "metadata": {},
   "outputs": [],
   "source": [
    "# import the random module \n"
   ]
  },
  {
   "cell_type": "code",
   "execution_count": null,
   "metadata": {},
   "outputs": [],
   "source": [
    "# Read the documentation of random() function in the random module \n",
    "# Documentation: Return the next random floating point number in the range [0.0, 1.0).\n",
    "# Let's run this cell a few times...\n"
   ]
  },
  {
   "cell_type": "code",
   "execution_count": null,
   "metadata": {},
   "outputs": [],
   "source": [
    "# Read the documentation of randint() function in the random module \n",
    "# Documentation: Returns a random integer between the specified integers. \n",
    "# Requires the user to provide two arguments, both integers\n"
   ]
  },
  {
   "cell_type": "markdown",
   "metadata": {},
   "source": [
    "When we run the above cells multiple times, the output keeps changing. While this is desirable when we want the result to be different each time, it is not useful when we want the output to be the same every time. \n",
    "\n",
    "To keep the output consistent, we can use random.seed(). "
   ]
  },
  {
   "cell_type": "code",
   "execution_count": null,
   "metadata": {},
   "outputs": [],
   "source": [
    "# Call random.seed() with argument 2\n",
    "\n",
    "# Call random.random() a few times and look at the output\n"
   ]
  },
  {
   "cell_type": "markdown",
   "metadata": {},
   "source": [
    "### Lecture Practice 3\n",
    "\n",
    "1. Write a function called `readyPlayers`. It takes two arguments: `player_name1`, `player_name2` (both strings). The function does the following operations:\n",
    "    1. It uses `random.randint` to generate two random numbers between 1 and 7, `num1` and `num2`.  \n",
    "    2. It compares the values of `num1` and `num2`. \n",
    "        1. If `num1` is greater than `num2`, it returns `player_name1` as the winner\n",
    "        2. If `num2` is greater than `num1`, it returns `player_name` as the winner\n",
    "        3. If `num1` and `num2` are equal, it returns a message `\"Game was draw!\"`\n",
    "\n",
    "\n",
    "2. Call the function with following arguments:\n",
    "    - `readyPlayers(\"Bella\", \"Andy\")`\n",
    "    - `readyPlayers(\"Bella\", \"Andy\")`\n",
    "    - `readyPlayers(\"April\", \"Jamie\")`"
   ]
  },
  {
   "cell_type": "code",
   "execution_count": null,
   "metadata": {},
   "outputs": [],
   "source": [
    "# Problem 1.\n"
   ]
  },
  {
   "cell_type": "code",
   "execution_count": null,
   "metadata": {},
   "outputs": [],
   "source": [
    "# Problem 2.\n"
   ]
  },
  {
   "cell_type": "markdown",
   "metadata": {},
   "source": [
    "## Iterations\n",
    "\n",
    "When programming, we often have to perform the same task repeatedly. For example, we may want to print \"Hello World!\" 20 times. But instead of typing 20 prints statements, we can use *loops*. \n",
    "\n",
    "Python provides two ways to repeat actions:\n",
    "1. `for` loop \n",
    "2. `while` loop"
   ]
  },
  {
   "cell_type": "markdown",
   "metadata": {},
   "source": [
    "## *for* loop\n",
    "\n",
    "for loop is used when we know the number of times we want to repeat an action. For example, if we know that we want to print a message exactly $N$ number of times, using a for loop is a good idea. "
   ]
  },
  {
   "cell_type": "code",
   "execution_count": null,
   "metadata": {},
   "outputs": [],
   "source": [
    "# Let's print Hello World 5 times \n",
    "# range(5) means i will go from 0, 1, 2, 3, 4\n"
   ]
  },
  {
   "cell_type": "code",
   "execution_count": null,
   "metadata": {},
   "outputs": [],
   "source": [
    "# Use the for loop to print numbers from 0 to 5 along with this message -> \"For loop execution: <num>\" \n",
    "# i should take the values 2, 3, 4, and 5. \n"
   ]
  },
  {
   "cell_type": "code",
   "execution_count": null,
   "metadata": {},
   "outputs": [],
   "source": [
    "# Using conditionals within a for loop\n",
    "# print even if number in loop is even otherwise print odd.\n"
   ]
  },
  {
   "cell_type": "code",
   "execution_count": null,
   "metadata": {},
   "outputs": [],
   "source": [
    "# Using for loop to calculate the addition of 1,2,3\n",
    "# total should update like this: 1, 3, 6 \n",
    " "
   ]
  },
  {
   "cell_type": "markdown",
   "metadata": {},
   "source": [
    "### Lecture Practice (15 minutes)\n",
    "\n",
    "1. Use for loop on the range 0 to 10 and print the square of each number. \n",
    "\n",
    "2. Use for loop on the range -3 to 3 to convert each number to float and print the converted numbers. \n",
    "\n",
    "3. Use for loop to calculate the product of 1,2,3... "
   ]
  },
  {
   "cell_type": "code",
   "execution_count": null,
   "metadata": {},
   "outputs": [],
   "source": [
    "# Problem 1.\n"
   ]
  },
  {
   "cell_type": "code",
   "execution_count": null,
   "metadata": {},
   "outputs": [],
   "source": [
    "# Problem 2.\n"
   ]
  },
  {
   "cell_type": "code",
   "execution_count": null,
   "metadata": {},
   "outputs": [],
   "source": [
    "# Problem 3.\n"
   ]
  },
  {
   "cell_type": "markdown",
   "metadata": {},
   "source": [
    "## *while* loop\n",
    "\n",
    "While loop also allows us to repeat actions but it is used to repeat actions only until a certain condition is met. "
   ]
  },
  {
   "cell_type": "code",
   "execution_count": null,
   "metadata": {},
   "outputs": [],
   "source": [
    "# Maintain a count of number of times \"Python is fun\" is printed. \n",
    "# When the count exceeds 3, stop printing!\n"
   ]
  },
  {
   "cell_type": "code",
   "execution_count": null,
   "metadata": {},
   "outputs": [],
   "source": [
    "# Using the while loop to calcluate the sum of numbers until the sum is less than 6 \n",
    "# starting_num = -2 \n"
   ]
  },
  {
   "cell_type": "markdown",
   "metadata": {},
   "source": [
    "**Beware of infinite loops when using a while loop.**\n",
    "\n",
    "If you forget to update the variable that you are using in the condition, the loop can end up running forever!"
   ]
  },
  {
   "cell_type": "markdown",
   "metadata": {},
   "source": [
    "### Lecture Practice (10 minutes)\n",
    "\n",
    "1. Use while loop to print numbers from 5 to 1 in reverse. HINT: Subtract by -1. "
   ]
  },
  {
   "cell_type": "code",
   "execution_count": null,
   "metadata": {},
   "outputs": [],
   "source": []
  },
  {
   "cell_type": "markdown",
   "metadata": {},
   "source": [
    "2. Use a for loop to print all *prime numbers* up to 1000. A prime number is one that is a positive integer and is not divisible by any of its predecessors."
   ]
  },
  {
   "cell_type": "code",
   "execution_count": null,
   "metadata": {},
   "outputs": [],
   "source": []
  },
  {
   "cell_type": "markdown",
   "metadata": {},
   "source": [
    "3. Create a function `RockPaperScissors` that takes as input one of three strings `\"rock\"`, `\"paper\"`, or `\"scissors\"` (your choice), and randomly selects one of the three choices (your opponent's choice). It outputs `\"You win!\"`, `\"Draw!\"`, or `\"You lost!\"` as appropriate."
   ]
  },
  {
   "cell_type": "code",
   "execution_count": null,
   "metadata": {},
   "outputs": [],
   "source": []
  },
  {
   "cell_type": "markdown",
   "metadata": {},
   "source": [
    "4. Create a function that uses a `while` loop to print the following pattern:\n",
    "```\n",
    "1 \n",
    "2 2 \n",
    "3 3 3 \n",
    "4 4 4 4 \n",
    "5 5 5 5 5\n",
    "...\n",
    "```\n",
    "given the number of rows to print `n`.\n",
    "\n",
    "*Credit*: https://pynative.com/python-basic-exercise-for-beginners/"
   ]
  },
  {
   "cell_type": "code",
   "execution_count": null,
   "metadata": {},
   "outputs": [],
   "source": []
  },
  {
   "cell_type": "markdown",
   "metadata": {},
   "source": [
    "5. Write a program to extract each digit of an int in reverse order. For example. if input is `7356`, the output should be `\"6 3 5 7\"`.\n",
    "\n",
    "*Credit*: https://pynative.com/python-basic-exercise-for-beginners/"
   ]
  },
  {
   "cell_type": "code",
   "execution_count": null,
   "metadata": {},
   "outputs": [],
   "source": []
  }
 ],
 "metadata": {
  "anaconda-cloud": {},
  "kernelspec": {
   "display_name": "Python 3.9.12 ('icpsr39')",
   "language": "python",
   "name": "python3"
  },
  "language_info": {
   "codemirror_mode": {
    "name": "ipython",
    "version": 3
   },
   "file_extension": ".py",
   "mimetype": "text/x-python",
   "name": "python",
   "nbconvert_exporter": "python",
   "pygments_lexer": "ipython3",
   "version": "3.9.12"
  },
  "vscode": {
   "interpreter": {
    "hash": "793173ac31d6a2c33b964e93d6beb990e4e6a719190bc1945591b45858f43f14"
   }
  }
 },
 "nbformat": 4,
 "nbformat_minor": 1
}
