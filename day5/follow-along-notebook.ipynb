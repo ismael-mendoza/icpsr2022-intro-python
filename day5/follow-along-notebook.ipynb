{
 "cells": [
  {
   "cell_type": "markdown",
   "metadata": {},
   "source": [
    "# Day 5"
   ]
  },
  {
   "cell_type": "markdown",
   "metadata": {},
   "source": [
    "# Table of Contents <a id='doc_outline'></a>"
   ]
  },
  {
   "cell_type": "markdown",
   "metadata": {},
   "source": [
    "* [Poll](#poll)\n",
    "* [Iterations](#iterations)\n",
    "* [Lists](#lists)\n",
    "* [List Methods](#list_methods)\n",
    "* [Strings](#strings)\n",
    "* [in operator](#in_operator)"
   ]
  },
  {
   "cell_type": "markdown",
   "metadata": {},
   "source": [
    "## Announcements (5 min)\n",
    "\n",
    "- **OH by appointment**: Few people have been coming to OH, so I decided to make them entirely by appointment. The 7.40-8.40p slot will still be available, just let me know if you would like to meet sometime during lecture the day of. \n",
    "\n",
    "- Please take a few min to fill out this [poll](https://forms.gle/VPWinehFdoMcNs4R9) about how the course is going."
   ]
  },
  {
   "cell_type": "markdown",
   "metadata": {},
   "source": [
    "## Iterations"
   ]
  },
  {
   "cell_type": "markdown",
   "metadata": {},
   "source": [
    "### Recap on `for` loop"
   ]
  },
  {
   "cell_type": "code",
   "execution_count": null,
   "metadata": {},
   "outputs": [],
   "source": [
    "# Using for loop to calculate the addition of 1,2,3\n",
    "# total should update like this: 1, 3, 6 \n"
   ]
  },
  {
   "cell_type": "code",
   "execution_count": null,
   "metadata": {},
   "outputs": [],
   "source": [
    "# Use for loop on the range -3 to 3 to convert each number to float and print the converted numbers.\n"
   ]
  },
  {
   "cell_type": "markdown",
   "metadata": {},
   "source": [
    "### *while* loop\n",
    "\n",
    "While loop also allows us to repeat actions but it is used to repeat actions only until a certain condition is met. "
   ]
  },
  {
   "cell_type": "code",
   "execution_count": null,
   "metadata": {},
   "outputs": [],
   "source": [
    "# Maintain a count of number of times \"Python is fun\" is printed. \n",
    "# When the count exceeds 3, stop printing!\n"
   ]
  },
  {
   "cell_type": "code",
   "execution_count": null,
   "metadata": {},
   "outputs": [],
   "source": [
    "# Using the while loop to calcluate the sum of numbers until the sum is less than 6 \n",
    "# starting_num = -2 \n"
   ]
  },
  {
   "cell_type": "markdown",
   "metadata": {},
   "source": [
    "**Beware of infinite loops when using a while loop.**\n",
    "\n",
    "If you forget to update the variable that you are using in the condition, the loop can end up running forever!"
   ]
  },
  {
   "cell_type": "markdown",
   "metadata": {},
   "source": [
    "### Lecture Practice (10 minutes)\n",
    "\n",
    "1. Use while loop to print numbers from 5 to 1 in reverse. HINT: Subtract by -1. "
   ]
  },
  {
   "cell_type": "code",
   "execution_count": null,
   "metadata": {},
   "outputs": [],
   "source": []
  },
  {
   "cell_type": "markdown",
   "metadata": {},
   "source": [
    "2. Use a for loop to print all *prime numbers* up to 1000. A prime number is one that is a positive integer and is not divisible by any of its predecessors."
   ]
  },
  {
   "cell_type": "code",
   "execution_count": null,
   "metadata": {},
   "outputs": [],
   "source": []
  },
  {
   "cell_type": "markdown",
   "metadata": {},
   "source": [
    "3. Create a function that uses a `while` loop to print the following pattern:\n",
    "```\n",
    "1 \n",
    "2 2 \n",
    "3 3 3 \n",
    "4 4 4 4 \n",
    "5 5 5 5 5\n",
    "...\n",
    "```\n",
    "given the number of rows to print `n`.\n",
    "\n",
    "*Credit*: https://pynative.com/python-basic-exercise-for-beginners/"
   ]
  },
  {
   "cell_type": "code",
   "execution_count": null,
   "metadata": {},
   "outputs": [],
   "source": []
  },
  {
   "cell_type": "markdown",
   "metadata": {},
   "source": [
    "## Lists\n",
    "\n",
    "A list is a sequence of values. A list in Python is created by placing comma separated items (also called elements) within a pair of square brackets. \n",
    "\n",
    "For example, `list_of_numbers = [10, 20, 4, 5, 6]` \n",
    "\n",
    "The variable `list_of_numbers` stores a list. We can check the datatype using the `type()` function. "
   ]
  },
  {
   "cell_type": "code",
   "execution_count": null,
   "metadata": {},
   "outputs": [],
   "source": [
    "# Declaring a variable called list_of_numbers to store a list. \n",
    "# Also use the type() function to get the datatype \n"
   ]
  },
  {
   "cell_type": "markdown",
   "metadata": {},
   "source": [
    "All the items in the above list are integers.  \n",
    "\n",
    "But the items do not need to be integers and do not need to be of the same datatype. They can be anything! A list can even have a list inside it. \n",
    "\n",
    "Consider the example below:"
   ]
  },
  {
   "cell_type": "code",
   "execution_count": null,
   "metadata": {},
   "outputs": [],
   "source": [
    "# Declare a list called list_of_many_items. It has items like \"apple\", 25, \"banana\", 35\n"
   ]
  },
  {
   "cell_type": "markdown",
   "metadata": {},
   "source": [
    "### Accessing / Indexing the items in a list\n",
    "\n",
    "The items in a list are *indexed*. We can access the items in a list by using the *index* number of the item. \n",
    "\n",
    "For example:\n",
    "`list_of_numbers = [10, 20, 4, 5, 6] `\n",
    "\n",
    "Index number of first element (10) is 0, since Python follows 0-indexing. Index number of last element is (4). Indices go from 0 to (list's length - 1)\n",
    "\n",
    "It is important to note that not all programming languages follow 0 indexing. For example, in R, the index of a sequence begins from 1. "
   ]
  },
  {
   "cell_type": "code",
   "execution_count": null,
   "metadata": {},
   "outputs": [],
   "source": [
    "# Declare a variable list_of_numbers\n",
    "\n",
    "# Print the element at index 0 \n",
    "\n",
    "# Use square brackets to access elements at any index\n",
    "# Print the element at index 4 \n",
    "\n",
    "\n",
    "# Print the element at index 2\n",
    "\n",
    "# what happens if you try to access an index that is out of range?"
   ]
  },
  {
   "cell_type": "markdown",
   "metadata": {},
   "source": [
    "### Some built-in functions to work with lists \n",
    "\n",
    "1. len() to calculate the length of the list. Works with list with any kind of elements. \n",
    "2. max() to calculate the maximum number in the list. Can also work with list of strings. \n",
    "3. min() to calculate the maximum number in the list. Can also work with list of strings. \n",
    "4. sum() to calulcate the sum of numbers in the list. Can only work with list of numbers. "
   ]
  },
  {
   "cell_type": "code",
   "execution_count": null,
   "metadata": {},
   "outputs": [],
   "source": [
    "# Print the length of list_of_numbers\n",
    "\n",
    "# Print maximum number in list_of_numbers \n",
    "\n",
    "# Print minimum number in list_of_numbers \n",
    "\n",
    "# Print sum of all numbers in list_of_numbers\n"
   ]
  },
  {
   "cell_type": "markdown",
   "metadata": {},
   "source": [
    "We can  also iterate through lists using a for loop:"
   ]
  },
  {
   "cell_type": "code",
   "execution_count": null,
   "metadata": {},
   "outputs": [],
   "source": [
    "# create a list of survey responeses \"A\" or \"B\"\n",
    "# count how to many responeses of each but and print them by traversing the list.\n"
   ]
  },
  {
   "cell_type": "markdown",
   "metadata": {},
   "source": [
    "### Traversing a list \n",
    "\n",
    "For big lists, it is difficult to count the position of each element and then access it. To go over the entire list, we can use a for loop. \n",
    "\n",
    "There are two ways to access each element of a list using for loop. "
   ]
  },
  {
   "cell_type": "code",
   "execution_count": null,
   "metadata": {},
   "outputs": [],
   "source": [
    "list_of_numbers = [10, 20, 4, 5, 6] \n",
    "\n",
    "# Approach 1: Going through each element \n"
   ]
  },
  {
   "cell_type": "markdown",
   "metadata": {},
   "source": [
    "The above loop executes 5 times because there are 5 items in list_of_numbers. In each execution of the loop, the value of num updates to hold the current item it is accessing. \n",
    "\n",
    "Execution 1: num = 10 <br>\n",
    "Execution 2: num = 20 <br>\n",
    "Execution 3: num = 4 <br>\n",
    "Execution 4: num = 5 <br>\n",
    "Execution 5: num = 6 "
   ]
  },
  {
   "cell_type": "code",
   "execution_count": null,
   "metadata": {},
   "outputs": [],
   "source": [
    "# Approach 2: Using indices \n",
    "# This approach is used if we want to update the list items \n",
    "# Use indices to traverse the list and double each element of the list \n"
   ]
  },
  {
   "cell_type": "markdown",
   "metadata": {},
   "source": [
    "### List Methods\n",
    "\n",
    "Lists are mutable i.e. you can add or delete items from lists. You can also change the value of items in lists. \n",
    "\n",
    "Following list methods are very useful:\n",
    "\n",
    "1. list.append(): Add an item to the end of the list  \n",
    "2. list.pop(): Deletes an item from the list and returns the deleted item. By default, it deletes the item at the end of the list. If you specify the index of the item, it deletes the item at that index. \n",
    "3. list.sort(): Sorts the list in ascending order. To sort it in descending order, call it with the argument reverse=True \n",
    "4. list.remove(): Delets the item from the list if you provide the value of the item "
   ]
  },
  {
   "cell_type": "code",
   "execution_count": null,
   "metadata": {},
   "outputs": [],
   "source": [
    "# Use the append method to append 0 to list_of_numbers and print the updated list\n",
    "list_of_numbers = [10, 20, 4, 5, 6]  \n",
    "\n"
   ]
  },
  {
   "cell_type": "code",
   "execution_count": null,
   "metadata": {},
   "outputs": [],
   "source": [
    "# Use the pop method to pop the last item of list_of_numbers\n",
    "\n",
    "\n",
    "# Use the pop method to pop the item on index 2 from list_of_numbers\n"
   ]
  },
  {
   "cell_type": "code",
   "execution_count": null,
   "metadata": {},
   "outputs": [],
   "source": [
    "# append 5, 4, 6 to list_of_numbers\n",
    "\n",
    "\n",
    "# Use sort() method to sort list_of_numbers \n"
   ]
  },
  {
   "cell_type": "code",
   "execution_count": null,
   "metadata": {},
   "outputs": [],
   "source": [
    "# Use sort() method to sort list_of_numbers() in reverse and print result.\n"
   ]
  },
  {
   "cell_type": "markdown",
   "metadata": {},
   "source": [
    "### Lecture Practice (15 minutes) \n",
    "\n",
    "1. Sort the list below to display the names alphabetically: `names = [\"Mike\", \"Emma\", \"Kelly\", \"Brad\"]`,\n",
    "expected output: `names = [\"Brad\", \"Emma\", \"Kelly\", \"Mike\"]`\n",
    "\n",
    "2. Append the name \"Jenny\" to the above list \n",
    "\n",
    "3. Sort the list again alphabetically. \n",
    "\n",
    "4. `list1 = [12, 15, 32, 42, 55, 75, 122, 132, 150, 180, 200]`\n",
    "Iterate over the above list and print the items that are divisible by 5 only. "
   ]
  },
  {
   "cell_type": "code",
   "execution_count": null,
   "metadata": {},
   "outputs": [],
   "source": [
    "# 1. \n"
   ]
  },
  {
   "cell_type": "code",
   "execution_count": null,
   "metadata": {},
   "outputs": [],
   "source": [
    "# 2. \n"
   ]
  },
  {
   "cell_type": "code",
   "execution_count": null,
   "metadata": {},
   "outputs": [],
   "source": [
    "# 3.\n"
   ]
  },
  {
   "cell_type": "code",
   "execution_count": null,
   "metadata": {},
   "outputs": [],
   "source": [
    "# 4.\n"
   ]
  },
  {
   "cell_type": "markdown",
   "metadata": {},
   "source": [
    "## Strings (again!)\n",
    "\n",
    "Like lists, strings are also considered sequences in Python. A string is a sequence of characters. \n",
    "\n",
    "Therefore, like lists, we can:\n",
    "1. Traverse a string using loops\n",
    "2. Get the length of a string using len()\n",
    "3. Index the various characters using square brackets [] \n",
    "\n",
    "However, unlike lists, strings are immutable. We cannot add, remove characters, and change the characters in strings. "
   ]
  },
  {
   "cell_type": "code",
   "execution_count": null,
   "metadata": {},
   "outputs": [],
   "source": [
    "# Declare a variable fruit. Assign it the value \"apple\" \n",
    "\n",
    "# Print length of fruit \n",
    "\n",
    "# Print character at index 2 in fruit\n"
   ]
  },
  {
   "cell_type": "code",
   "execution_count": null,
   "metadata": {},
   "outputs": [],
   "source": [
    "# Traverse fruit variable\n",
    "\n",
    "# create a new string with capitalized letters of fruit\n"
   ]
  },
  {
   "cell_type": "code",
   "execution_count": null,
   "metadata": {},
   "outputs": [],
   "source": [
    "# strings are immutable\n",
    "fruit[0] = \"b\" # ERROR!"
   ]
  },
  {
   "cell_type": "markdown",
   "metadata": {},
   "source": [
    "## `in` operator\n",
    "\n",
    "We can use the *in* operator on both lists and strings. It is used to check if an item or a character is present in a list or string respectively. \n",
    "\n",
    "It can be quite useful in setting conditions with if-elif-else "
   ]
  },
  {
   "cell_type": "code",
   "execution_count": null,
   "metadata": {},
   "outputs": [],
   "source": [
    "# Declare a simple lst\n",
    "lst = [23, 45, 10]\n",
    "\n",
    "# Check if certain items are in the lst using `in` operator, what is the type of the output?\n"
   ]
  },
  {
   "cell_type": "code",
   "execution_count": null,
   "metadata": {},
   "outputs": [],
   "source": [
    "# Declare a variable word. Assign it the value \"python programming\"\n",
    "\n",
    "# Check if \"pyt\" is in word \n"
   ]
  },
  {
   "cell_type": "markdown",
   "metadata": {},
   "source": [
    "## Practice Problems"
   ]
  },
  {
   "cell_type": "markdown",
   "metadata": {},
   "source": [
    "1. Convert a string `s = \"Hello World!\"` into a list of characters and print the list to check your code. "
   ]
  },
  {
   "cell_type": "code",
   "execution_count": null,
   "metadata": {},
   "outputs": [],
   "source": []
  },
  {
   "cell_type": "markdown",
   "metadata": {},
   "source": [
    "2. Write a function that takes in a string and returns the first, middle, and last character.\n",
    "- **Credit:** https://pynative.com/python-string-exercise/#h-exercise-1a-create-a-string-made-of-the-first-middle-and-last-character"
   ]
  },
  {
   "cell_type": "code",
   "execution_count": null,
   "metadata": {},
   "outputs": [],
   "source": []
  },
  {
   "cell_type": "markdown",
   "metadata": {},
   "source": [
    "3. Write a function that takes in a string and returns a new string without any instances of the letter `a` (both lower-case and capitalized)."
   ]
  },
  {
   "cell_type": "code",
   "execution_count": null,
   "metadata": {},
   "outputs": [],
   "source": []
  },
  {
   "cell_type": "markdown",
   "metadata": {},
   "source": [
    "4. Write a function that takes in two lists and outputs a list containing all their members."
   ]
  },
  {
   "cell_type": "code",
   "execution_count": null,
   "metadata": {},
   "outputs": [],
   "source": []
  }
 ],
 "metadata": {
  "anaconda-cloud": {},
  "kernelspec": {
   "display_name": "Python 3.9.12 ('icpsr39')",
   "language": "python",
   "name": "python3"
  },
  "language_info": {
   "codemirror_mode": {
    "name": "ipython",
    "version": 3
   },
   "file_extension": ".py",
   "mimetype": "text/x-python",
   "name": "python",
   "nbconvert_exporter": "python",
   "pygments_lexer": "ipython3",
   "version": "3.9.12"
  },
  "vscode": {
   "interpreter": {
    "hash": "793173ac31d6a2c33b964e93d6beb990e4e6a719190bc1945591b45858f43f14"
   }
  }
 },
 "nbformat": 4,
 "nbformat_minor": 1
}
