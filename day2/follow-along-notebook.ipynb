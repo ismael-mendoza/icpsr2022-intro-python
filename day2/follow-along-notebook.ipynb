{
 "cells": [
  {
   "cell_type": "markdown",
   "metadata": {},
   "source": [
    "# Day 2"
   ]
  },
  {
   "cell_type": "markdown",
   "metadata": {},
   "source": [
    "# Table of Contents <a id='doc_outline'></a>"
   ]
  },
  {
   "cell_type": "markdown",
   "metadata": {},
   "source": [
    "* [Escaping String Characters](#lecture_question)\n",
    "* [Arithmetic Operators](#arithmetic)\n",
    "* [Relational Operators](#relational)\n",
    "* [Logical Operators](#logical)"
   ]
  },
  {
   "cell_type": "markdown",
   "metadata": {},
   "source": [
    "## <span style=\"text-decoration: underline;\">Escaping String Characters</span><a id='lecture_question'></a> [(to top)](#doc_outline)\n",
    "\n",
    "What if you want to print quotation marks in your string? For example, you want the output to be the following:\n",
    "1. It's Hello World!\n",
    "2. We printed, \"Hello World!\"\n",
    "3. We printed, \"It's Hello World!\" "
   ]
  },
  {
   "cell_type": "code",
   "execution_count": null,
   "metadata": {},
   "outputs": [],
   "source": [
    "# If you want to print single quotation marks, then enclose the string in double quotation marks \n",
    "\n",
    "\n",
    "# If you want to print double quotation marks, then enclose the string in single quotation marks \n",
    "\n",
    "\n",
    "# If you want to print both quotation marks, then we will have to escape quotation characters using \\ \n"
   ]
  },
  {
   "cell_type": "markdown",
   "metadata": {},
   "source": [
    "## <span style=\"text-decoration: underline;\">Arithmetic Operators</span><a id='arithmetic'></a> [(to top)](#doc_outline)\n",
    "\n",
    "1. Addition +\n",
    "2. Subtraction -\n",
    "3. Multiplication *\n",
    "4. Division /\n",
    "5. Modulus %\n",
    "6. Exponent **\n",
    "7. Floor Division // "
   ]
  },
  {
   "cell_type": "code",
   "execution_count": null,
   "metadata": {},
   "outputs": [],
   "source": [
    "# Declare some variables \n",
    "\n",
    "# Performing addition and subtraction  \n",
    "\n",
    "\n",
    "# Performing multiplication and division \n",
    "\n",
    "# print the results, print the type "
   ]
  },
  {
   "cell_type": "code",
   "execution_count": null,
   "metadata": {},
   "outputs": [],
   "source": [
    "# Modulus operator used to calculate the remainder of a division  \n",
    "\n",
    "# output the results "
   ]
  },
  {
   "cell_type": "code",
   "execution_count": null,
   "metadata": {},
   "outputs": [],
   "source": [
    "# Floor division used to calculate the quotient \n",
    "\n",
    "# output the results"
   ]
  },
  {
   "cell_type": "code",
   "execution_count": null,
   "metadata": {},
   "outputs": [],
   "source": [
    "# Exponent operator for exponential multiplication \n",
    "\n",
    "\n",
    "# output the results "
   ]
  },
  {
   "cell_type": "markdown",
   "metadata": {},
   "source": [
    "### Order of operations \n",
    "\n",
    "Python follows the mathematical conventions when multiple operators are involved. \n",
    "\n",
    "The acronym PEMDAS is a useful way to remember the rules of precedence: parentheses, exponentiation, multiplication and division have the same precedence, addition and subtraction come last. \n",
    "\n",
    "Example: \n",
    "10 + 20 + 10*2 + (10-50)"
   ]
  },
  {
   "cell_type": "markdown",
   "metadata": {},
   "source": [
    "## <span style=\"text-decoration: underline;\">Relational Operators</span><a id='arithmetic'></a> [(to top)](#doc_outline)\n",
    "\n",
    "These operators are used to compare values. The result of using these operators is always True or False (a boolean). \n",
    "\n",
    "1. == \n",
    "2. !=\t\n",
    "3. \\>\n",
    "4. <\n",
    "5. \\>= \n",
    "6. <= "
   ]
  },
  {
   "cell_type": "code",
   "execution_count": null,
   "metadata": {},
   "outputs": [],
   "source": [
    "# Redeclare x = 10 and y = 20\n",
    "\n",
    "# Print \"x = 10, y = 20\". Use the format function \n",
    "\n",
    "# Print \"Is x equal to y i.e. x == y?\" followed by the result\n",
    "\n",
    "# Print \"Is x not equal to y i.e. x != y?\" followed by the result\n",
    "\n",
    "# Print \"Is x greater than y i.e. x > y?\" followed by the result\n",
    "\n",
    "# Print \"Is x less than y i.e. x < y?\" followed by the result\n",
    "\n",
    "# Print \"Is x greater than or equal to y i.e. x >= y?\" followed by the result\n",
    "\n",
    "# Print \"Is x less than or equal to y i.e. x < = y?\" followed by the result"
   ]
  },
  {
   "cell_type": "markdown",
   "metadata": {},
   "source": [
    "## <span style=\"text-decoration: underline;\">Logical Operators</span><a id='logical'></a> [(to top)](#doc_outline)\n",
    "\n",
    "1. and \n",
    "2. or\n",
    "3. not "
   ]
  },
  {
   "cell_type": "code",
   "execution_count": null,
   "metadata": {},
   "outputs": [],
   "source": [
    "# 'and' is used when we want multiple conditions to be true  "
   ]
  },
  {
   "cell_type": "code",
   "execution_count": null,
   "metadata": {},
   "outputs": [],
   "source": [
    "# 'or' is used for an either-or situation, for example when we are okay with one condition being true"
   ]
  },
  {
   "cell_type": "code",
   "execution_count": null,
   "metadata": {},
   "outputs": [],
   "source": [
    "# 'not' is used to negate the value "
   ]
  },
  {
   "cell_type": "markdown",
   "metadata": {},
   "source": [
    "### Lecture Practice (15 minutes)\n",
    "\n",
    "1. Create a variable 'temperature' and assign it some value. Write code to convert temperature to celsius from fahrenheit. Formula: $$C*9/5 = F - 32$$ \n",
    "\n",
    "2. Print the converted temperature in the following manner: \"30 degree celsius = 86.0 in Fahrenheit\"\n",
    "\n",
    "3. Change the value of the temperature variable and check the calculation. \n",
    "\n",
    "4. Create a variable `year` and assign it some value. Write code to calculate age from the year a person was born."
   ]
  },
  {
   "cell_type": "code",
   "execution_count": null,
   "metadata": {},
   "outputs": [],
   "source": []
  },
  {
   "cell_type": "markdown",
   "metadata": {},
   "source": [
    "### Lecture Practice Solution Discussion (10 minutes)"
   ]
  },
  {
   "cell_type": "code",
   "execution_count": null,
   "metadata": {},
   "outputs": [],
   "source": []
  }
 ],
 "metadata": {
  "anaconda-cloud": {},
  "kernelspec": {
   "display_name": "Python 3.7.13 ('icpsr37')",
   "language": "python",
   "name": "python3"
  },
  "language_info": {
   "codemirror_mode": {
    "name": "ipython",
    "version": 3
   },
   "file_extension": ".py",
   "mimetype": "text/x-python",
   "name": "python",
   "nbconvert_exporter": "python",
   "pygments_lexer": "ipython3",
   "version": "3.7.13"
  },
  "vscode": {
   "interpreter": {
    "hash": "be6df871f6691ddf38f4945d39bef842f96680ccd79b9f0ba90a927d490d882a"
   }
  }
 },
 "nbformat": 4,
 "nbformat_minor": 1
}
