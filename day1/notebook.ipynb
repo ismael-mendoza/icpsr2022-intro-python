{
 "cells": [
  {
   "cell_type": "markdown",
   "metadata": {},
   "source": [
    "# Day 1"
   ]
  },
  {
   "cell_type": "markdown",
   "metadata": {},
   "source": [
    "## Course Overview\n",
    "\n",
    "In this 10-day introductory workshop, the first week will cover the basics of Python. \n",
    "\n",
    "In the second week, we will highlight some of the Python tools that are particularly useful to social scientists. This will include topics like loading data from files, manipulating the data, and creating visualizations. We will not really cover the standard list of libraries that one would learn in an introductory workshop on Python. Instead, the course will place more emphasis on libraries that can be of interest to the typical ICPSR audience."
   ]
  },
  {
   "cell_type": "markdown",
   "metadata": {},
   "source": [
    "\n",
    "### A bit about me\n",
    "4th year Physics PhD Student at the University of Michigan. I have been using Python for research and teaching for ~7 years now\n",
    "\n",
    "**Email**: imendoza@umich.edu \n",
    "\n",
    "**Website**: https://ismael-mendoza.github.io\n",
    "\n",
    "### Syllabus\n",
    "Syllabus is available on Canvas. Any problems accessing Canvas? \n",
    "\n",
    "### Nature of Assignments\n",
    "I will provide practice problems. I do not expect assignments to be turned in and I will not grade them. We can discuss the problems in office hours and in lectures (if time allows). \n",
    "\n",
    "### Zoom\n",
    "1. I will record the lectures and make the recordings available (it may take some time but hopefully the turnaround will be quick) \n",
    "2. We will use the break-out rooms feature to work in groups for people in zoom.\n",
    "\n",
    "### Installation\n",
    "Anaconda, Python 3, Jupyter Notebook. Any problems with installation? \n",
    "\n",
    "### Office Hours Poll\n",
    "Currently, I have OH setup right after every class for 1hr. Please fill out this [poll](https://forms.gle/dwUSeBmzpwY67eqt7) so I can decide whether I need to shuffle them around. \n",
    "\n",
    "There should also be extra time in lecture to have OH. We could also set up a time over email if none of the office hours times work."
   ]
  },
  {
   "cell_type": "markdown",
   "metadata": {},
   "source": [
    "# Table of Contents <a id='doc_outline'></a>"
   ]
  },
  {
   "cell_type": "markdown",
   "metadata": {},
   "source": [
    "* [Jupyter Notebook](#jup_notebook)\n",
    "* [Keyboard Shortcuts](#shortcuts)\n",
    "* [Variables](#variables)\n",
    "* [Datatypes](#datatypes)\n",
    "* [Assignment for today](#assignment)"
   ]
  },
  {
   "cell_type": "markdown",
   "metadata": {},
   "source": [
    "## <span style=\"text-decoration: underline;\">Jupyter Notebook</span><a id='jup_notebooks'></a> [(to top)](#doc_outline)\n",
    "\n",
    "Jupyter Notebook is part of <a href=\"https://jupyter.org/about\">Project Jupyter</a>, an open-source non-profit project. \n",
    "\n",
    "Jupyter Notebook is one of the many computational notebooks available to data scientists. It is a web-based interactive platform. It supports over 40 programming languages, including Python and R. \n",
    "\n",
    "It allows users to write and execute code, inspect output, integrate explanatory text and visulaizations as well as other rich media - all in one place.  \n",
    "\n",
    "Jupyter notebooks are made up of <strong>cells</strong>. These cells either contain small chunks of code or accompnaying text. Users can execute these cells to render the output."
   ]
  },
  {
   "cell_type": "markdown",
   "metadata": {},
   "source": [
    "### Let's start the server and create a Jupyter notebook\n",
    "\n",
    "We will use the anaconda navigator to start and stop the server. \n",
    "\n",
    "It will be a good idea to keep all the notebooks from this course in a folder/directory that is easy to access. I would recommend creating a directory on the desktop. Also a good idea to give it the directory a descriptive name but without spaces. \n",
    "\n",
    "Use the <strong>cd</strong> command to navigate the directories from the command line interface. "
   ]
  },
  {
   "cell_type": "markdown",
   "metadata": {
    "collapsed": true
   },
   "source": [
    "### Let's run a few small chunks of code in our new notebook"
   ]
  },
  {
   "cell_type": "code",
   "execution_count": 1,
   "metadata": {
    "collapsed": false,
    "scrolled": true
   },
   "outputs": [
    {
     "name": "stdout",
     "output_type": "stream",
     "text": [
      "Hello World!\n"
     ]
    }
   ],
   "source": [
    "print(\"Hello World!\")"
   ]
  },
  {
   "cell_type": "code",
   "execution_count": 2,
   "metadata": {
    "collapsed": false
   },
   "outputs": [
    {
     "name": "stdout",
     "output_type": "stream",
     "text": [
      "Hello World!\n",
      "Welcome to Python!\n",
      "2 3 4\n"
     ]
    }
   ],
   "source": [
    "print(\"Hello World!\")\n",
    "print(\"Welcome to Python!\")\n",
    "print(2, 3, 4)"
   ]
  },
  {
   "cell_type": "code",
   "execution_count": 3,
   "metadata": {
    "collapsed": false
   },
   "outputs": [
    {
     "name": "stdout",
     "output_type": "stream",
     "text": [
      "The above line will not print!\n",
      "since it is a comment\n"
     ]
    }
   ],
   "source": [
    "# Adding a comment with by using the '#' character in the beginning \n",
    "# This is a comment\n",
    "print(\"The above line will not print!\")\n",
    "print(\"since it is a comment\")"
   ]
  },
  {
   "cell_type": "markdown",
   "metadata": {},
   "source": [
    "### Switching between code and markdown cells\n",
    "\n",
    "To include explanations about your code, you can switch the type of the cell to \"markdown\".\n",
    "\n",
    "Let's try to create some headings and subheadings in the markdown cell. We will also bold and italicize the text. "
   ]
  },
  {
   "cell_type": "markdown",
   "metadata": {},
   "source": [
    "## <span style=\"text-decoration: underline;\">Keyboard Shortcuts</span><a id='shortcuts'></a> [(to top)](#doc_outline)\n",
    "\n",
    "Two modes: Edit Mode and Command Mode \n",
    "\n",
    "1. Press Enter to enter the edit mode \n",
    "2. Press Esc to leave the edit mode and enter command mode \n",
    "\n",
    "When in command mode: \n",
    "3. Shift + Enter on Mac / Ctrl + Enter on Windows to run the current cell \n",
    "4. B to add new cell after the current cell \n",
    "5. X to delete the current cell"
   ]
  },
  {
   "cell_type": "markdown",
   "metadata": {},
   "source": [
    "## <span style=\"text-decoration: underline;\">Variables</span><a id='variables'></a> [(to top)](#doc_outline)\n",
    "\n",
    "A variables is a way to name things in your code. This reserves a location in the memory by that name and allows you to store values. \n",
    "\n",
    "Let's \"declare a variable\" below:"
   ]
  },
  {
   "cell_type": "code",
   "execution_count": 5,
   "metadata": {
    "collapsed": false
   },
   "outputs": [
    {
     "name": "stdout",
     "output_type": "stream",
     "text": [
      "python\n"
     ]
    }
   ],
   "source": [
    "name = \"python\"\n",
    "print(name)"
   ]
  },
  {
   "cell_type": "code",
   "execution_count": 6,
   "metadata": {
    "collapsed": true
   },
   "outputs": [],
   "source": [
    "# Some more variables\n",
    "program = \"ICPSR Summar Program\"\n",
    "city = \"Ann Arbor\"\n",
    "state = \"Michigan\"\n",
    "\n",
    "# redeclare the name variable \n",
    "name = \"Introduction to Python\""
   ]
  },
  {
   "cell_type": "code",
   "execution_count": 7,
   "metadata": {
    "collapsed": false
   },
   "outputs": [
    {
     "name": "stdout",
     "output_type": "stream",
     "text": [
      "Introduction to Python ICPSR Summar Program Ann Arbor Michigan\n"
     ]
    }
   ],
   "source": [
    "print(name, program, city, state)"
   ]
  },
  {
   "cell_type": "markdown",
   "metadata": {},
   "source": [
    "## <span style=\"text-decoration: underline;\">Datatypes</span><a id='datatypes'></a> [(to top)](#doc_outline)\n",
    "\n",
    "All of the above variables were <strong>strings</strong>. They are defined by ecnlosing a bunch of characters within a pair of single-quotes or double-quotes.\n",
    "\n",
    "How to confirm the datatype of a variable?"
   ]
  },
  {
   "cell_type": "code",
   "execution_count": 8,
   "metadata": {
    "collapsed": false
   },
   "outputs": [
    {
     "data": {
      "text/plain": [
       "(str, str)"
      ]
     },
     "execution_count": 8,
     "metadata": {},
     "output_type": "execute_result"
    }
   ],
   "source": [
    "type(city), type(name)"
   ]
  },
  {
   "cell_type": "markdown",
   "metadata": {},
   "source": [
    "We can *concatenate* strings to print more meaningful statements."
   ]
  },
  {
   "cell_type": "code",
   "execution_count": 9,
   "metadata": {
    "collapsed": false,
    "scrolled": true
   },
   "outputs": [
    {
     "name": "stdout",
     "output_type": "stream",
     "text": [
      "Introduction to Python is part of the ICPSR Summar Program\n",
      "The summer program is usually organized in Ann Arbor , Michigan\n"
     ]
    }
   ],
   "source": [
    "print(name + \" is part of the \" + program)\n",
    "print(\"The summer program is usually organized in \" + city + \" , \" + state)"
   ]
  },
  {
   "cell_type": "markdown",
   "metadata": {},
   "source": [
    "Python provides some better ways of combining strings. "
   ]
  },
  {
   "cell_type": "code",
   "execution_count": 14,
   "metadata": {
    "collapsed": false
   },
   "outputs": [
    {
     "name": "stdout",
     "output_type": "stream",
     "text": [
      "Introduction to Python is part of the ICPSR Summar Program\n",
      "Introduction to Python is part of the ICPSR Summar Program\n",
      "Hello \n",
      "World\n"
     ]
    }
   ],
   "source": [
    "# Using the format function\n",
    "print('{} is part of the {}'.format(name, program))\n",
    "\n",
    "# You can also accomplish the same thing using a newer Python feature called \"f-strings\"\n",
    "print(f'{name} is part of the {program}')\n",
    "\n",
    "# Using the newline character \"\\n\" to separate the lines \n",
    "print('Hello \\nWorld')"
   ]
  },
  {
   "cell_type": "markdown",
   "metadata": {},
   "source": [
    "There are numerical datatypes in python too: integers and floats"
   ]
  },
  {
   "cell_type": "code",
   "execution_count": 11,
   "metadata": {
    "collapsed": false
   },
   "outputs": [
    {
     "data": {
      "text/plain": [
       "int"
      ]
     },
     "execution_count": 11,
     "metadata": {},
     "output_type": "execute_result"
    }
   ],
   "source": [
    "avg_temp_july = 80\n",
    "type(avg_temp_july)"
   ]
  },
  {
   "cell_type": "code",
   "execution_count": 12,
   "metadata": {
    "collapsed": false
   },
   "outputs": [
    {
     "data": {
      "text/plain": [
       "float"
      ]
     },
     "execution_count": 12,
     "metadata": {},
     "output_type": "execute_result"
    }
   ],
   "source": [
    "max_temp_july = 84.4\n",
    "type(max_temp_july)"
   ]
  },
  {
   "cell_type": "markdown",
   "metadata": {},
   "source": [
    "There are boolean datatypes. These can only take up the value True and False. "
   ]
  },
  {
   "cell_type": "code",
   "execution_count": 13,
   "metadata": {
    "collapsed": false
   },
   "outputs": [
    {
     "data": {
      "text/plain": [
       "(bool, bool)"
      ]
     },
     "execution_count": 13,
     "metadata": {},
     "output_type": "execute_result"
    }
   ],
   "source": [
    "var1 = True \n",
    "var2 = False \n",
    "type(var1), type(var2)"
   ]
  },
  {
   "cell_type": "markdown",
   "metadata": {},
   "source": [
    "### Lecture Practice\n",
    "\n",
    "Using the four string variables (program, city, state, name), integer variables (avg_temp_july, max_temp_july) and the format function, print the following lines:\n",
    "\n",
    "1. **Python is fun!**\n",
    "2. **The average temperature in July in Ann Arbor, Michigan is 80.**\n",
    "3. **The maximum temperature in Ann Arbor, Michigan can go up to 84.4.** "
   ]
  },
  {
   "cell_type": "code",
   "execution_count": null,
   "metadata": {},
   "outputs": [],
   "source": []
  },
  {
   "cell_type": "markdown",
   "metadata": {},
   "source": [
    "### Lecture Practice\n",
    "\n",
    "Using multiple print statements, print the following triangle:\n",
    "\n",
    "![triangle](equilateralTriangle.png)"
   ]
  },
  {
   "cell_type": "code",
   "execution_count": null,
   "metadata": {},
   "outputs": [],
   "source": []
  },
  {
   "cell_type": "markdown",
   "metadata": {},
   "source": [
    "### Lecture Practice\n",
    "\n",
    "Using multiple print statements, print the following diamond pattern:\n",
    "\n",
    "![Diamond Pattern](diamondPattern.png)"
   ]
  },
  {
   "cell_type": "code",
   "execution_count": null,
   "metadata": {},
   "outputs": [],
   "source": []
  },
  {
   "cell_type": "markdown",
   "metadata": {},
   "source": [
    "## <span style=\"text-decoration: underline;\">Practice Problems for today</span><a id='assignment'></a> [(to top)](#doc_outline) \n",
    "\n",
    "I am sharing this Jupyter notebook on Canvas. \n",
    "\n",
    "### Practice 1\n",
    "I would recommend you try to run the various cells, add new cells, tweak the values within cells, etc. If you were following along, then make edits/changes there. \n",
    "\n",
    "### Practice 2\n",
    "Get practice with starting/stopping the jupyter notebook server, creating more notebooks, saving the notebook."
   ]
  },
  {
   "cell_type": "markdown",
   "metadata": {},
   "source": [
    "## Any Questions?\n",
    "\n",
    "Please feel free to come to OH or ask me after lecture."
   ]
  },
  {
   "cell_type": "markdown",
   "metadata": {},
   "source": []
  }
 ],
 "metadata": {
  "anaconda-cloud": {},
  "kernelspec": {
   "display_name": "Python 3.9.12 ('icpsr39')",
   "language": "python",
   "name": "python3"
  },
  "language_info": {
   "codemirror_mode": {
    "name": "ipython",
    "version": 3
   },
   "file_extension": ".py",
   "mimetype": "text/x-python",
   "name": "python",
   "nbconvert_exporter": "python",
   "pygments_lexer": "ipython3",
   "version": "3.9.12"
  },
  "vscode": {
   "interpreter": {
    "hash": "793173ac31d6a2c33b964e93d6beb990e4e6a719190bc1945591b45858f43f14"
   }
  }
 },
 "nbformat": 4,
 "nbformat_minor": 1
}
