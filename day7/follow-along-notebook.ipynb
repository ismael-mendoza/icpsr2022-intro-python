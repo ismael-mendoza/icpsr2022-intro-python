{
 "cells": [
  {
   "cell_type": "markdown",
   "metadata": {},
   "source": [
    "# Day 7"
   ]
  },
  {
   "cell_type": "markdown",
   "metadata": {},
   "source": [
    "* [NumPy Mathematical Operations](#numpy-math-operations)\n",
    "* [Visualizations](#matplotlib)"
   ]
  },
  {
   "cell_type": "markdown",
   "metadata": {},
   "source": [
    "## Numpy math operations\n",
    "\n",
    "We can perform basic mathematical operations on a single array as well as between arrays. \n",
    "\n",
    "\n",
    "### Single Array Math"
   ]
  },
  {
   "cell_type": "code",
   "execution_count": null,
   "metadata": {},
   "outputs": [],
   "source": [
    "import numpy as np\n",
    "\n",
    "# Creating a new array of random values (3,3)\n"
   ]
  },
  {
   "cell_type": "code",
   "execution_count": null,
   "metadata": {},
   "outputs": [],
   "source": [
    "# The following addition will give a new array \n",
    "# random_arr will remain unchanged \n"
   ]
  },
  {
   "cell_type": "code",
   "execution_count": null,
   "metadata": {},
   "outputs": [],
   "source": [
    "# Modifying random_arr itself \n"
   ]
  },
  {
   "cell_type": "code",
   "execution_count": null,
   "metadata": {},
   "outputs": [],
   "source": [
    "# Another way of modifying random_arr using '+='\n",
    "# The following method can be used with int, float, and string variables too\n"
   ]
  },
  {
   "cell_type": "code",
   "execution_count": null,
   "metadata": {},
   "outputs": [],
   "source": [
    "# Using other mathematical operators (floor division, modulus, exponentiation)\n"
   ]
  },
  {
   "cell_type": "markdown",
   "metadata": {},
   "source": [
    "### Multiple Array Math "
   ]
  },
  {
   "cell_type": "code",
   "execution_count": null,
   "metadata": {},
   "outputs": [],
   "source": [
    "# Adding two columns of random_arr \n"
   ]
  },
  {
   "cell_type": "code",
   "execution_count": null,
   "metadata": {},
   "outputs": [],
   "source": [
    "# Multiplying two columns of random_arr \n"
   ]
  },
  {
   "cell_type": "code",
   "execution_count": null,
   "metadata": {},
   "outputs": [],
   "source": [
    "# Has random_arr changed?\n"
   ]
  },
  {
   "cell_type": "markdown",
   "metadata": {},
   "source": [
    "## Visualizations\n",
    "\n",
    "The matplotlib library is a fairly well-documented libary with many examples and tutorials. The library makes it easy to generate plots and save them to files. \n",
    "\n",
    "It can be used with lists as well as numpy arrays. \n",
    "\n",
    "Full Documentation: https://matplotlib.org/stable/users/index.html\n",
    "\n",
    "Official Tutorials: https://matplotlib.org/stable/tutorials/index.html"
   ]
  },
  {
   "cell_type": "code",
   "execution_count": null,
   "metadata": {},
   "outputs": [],
   "source": [
    "# Importing pyplot aliased plt from the matplotlib library  \n"
   ]
  },
  {
   "cell_type": "markdown",
   "metadata": {},
   "source": [
    "### Using the `plot()` function \n",
    "\n",
    "The coordinates of the points or line nodes are given by x and y, the first two arguments of the plot() function. We can also specify a third argument to modify the formatting of the graph. When formatting is not specified by the user, its default value to the plot() function is \"b-\". This stands for the blue color (b) and solid line (-). "
   ]
  },
  {
   "cell_type": "code",
   "execution_count": null,
   "metadata": {},
   "outputs": [],
   "source": [
    "# Declaring some data \n",
    "x_data = [1, 2, 3, 4]\n",
    "y_data = [1, 4, 9, 16]\n",
    "\n",
    "# Plotting the data using the plot() function\n",
    "\n",
    "# Need to call plt.show()\n"
   ]
  },
  {
   "cell_type": "code",
   "execution_count": null,
   "metadata": {},
   "outputs": [],
   "source": [
    "# Setting the labels for axis \n",
    "\n",
    "\n",
    "# Again displaying the plot\n"
   ]
  },
  {
   "cell_type": "code",
   "execution_count": null,
   "metadata": {},
   "outputs": [],
   "source": [
    "# Setting the title and labels of the graph \n"
   ]
  },
  {
   "cell_type": "code",
   "execution_count": null,
   "metadata": {},
   "outputs": [],
   "source": [
    "# Saving the graph as a PNG file\n",
    "\n",
    "\n",
    "# Call the savefig function with filename as argument\n"
   ]
  },
  {
   "cell_type": "code",
   "execution_count": null,
   "metadata": {},
   "outputs": [],
   "source": [
    "# Changing the formatting \n",
    "\n",
    "\n",
    "# r - red, o - circular markers \n"
   ]
  },
  {
   "cell_type": "code",
   "execution_count": null,
   "metadata": {},
   "outputs": [],
   "source": [
    "# The first and the last data points are not fully visible \n",
    "# Let's change the axis limits to make them more visible \n"
   ]
  },
  {
   "cell_type": "code",
   "execution_count": null,
   "metadata": {},
   "outputs": [],
   "source": [
    "# Multiple line plots on the same graph \n",
    "# use new data in list: [2, 7, 9, 10]\n",
    "\n",
    "\n",
    "# Making sure a legend is provided by using the label argumet \n",
    "\n",
    "# show legend\n"
   ]
  },
  {
   "cell_type": "code",
   "execution_count": null,
   "metadata": {},
   "outputs": [],
   "source": [
    "# Generating a sequence sampled at intervals of 0.2 between 0.0 and 0.5\n"
   ]
  },
  {
   "cell_type": "markdown",
   "metadata": {},
   "source": [
    "### Lecture Practice (15 mins) \n",
    "\n",
    "1. Let's do some numpy array math! We have generated a 1D array y1 in the cell above. Create two more arrays, y2 and y3. \n",
    "    1. Data in y2 should be twice of the data in y1\n",
    "    2. Data in y3 should be cube of the data in y1 <br><br>\n",
    "\n",
    "2. Create a visualization that looks like below: \n",
    "\n",
    "![curves-cubic](day7_three_lines.png)\n",
    "\n",
    "HINT: Color codes - red: 'r', blue: 'b', green: 'g'"
   ]
  },
  {
   "cell_type": "code",
   "execution_count": null,
   "metadata": {},
   "outputs": [],
   "source": [
    "# Your answer here:\n"
   ]
  },
  {
   "cell_type": "markdown",
   "metadata": {},
   "source": [
    "## Bar plots"
   ]
  },
  {
   "cell_type": "markdown",
   "metadata": {},
   "source": [
    "Use data: \n",
    "\n",
    "```\n",
    "x_data = [\"2014\", \"2015\", \"2016\", \"2017\"]\n",
    "y_data = [4500, 5566, 1255, 3556]\n",
    "```"
   ]
  },
  {
   "cell_type": "code",
   "execution_count": null,
   "metadata": {},
   "outputs": [],
   "source": [
    "# Making a bar plot \n",
    "# Documentation: https://matplotlib.org/3.2.2/api/_as_gen/matplotlib.pyplot.bar.html?highlight=bar%20plot#matplotlib.pyplot.bar\n",
    "\n",
    "# Using the bar() function \n"
   ]
  },
  {
   "cell_type": "code",
   "execution_count": null,
   "metadata": {},
   "outputs": [],
   "source": [
    "# Fixing the x-axis labels by explicitly stating the positions of the bars in the bar() function\n",
    "\n",
    "# Providing labels as a list of strings\n"
   ]
  },
  {
   "cell_type": "markdown",
   "metadata": {},
   "source": [
    "### Lecture Practice (20 mins) \n",
    "\n",
    "1. Refer to the documentation of bar plots. What other parameters should you specify when calling `plt.bar()` function to create a bar plot as shown below? Specify bar positions and xticks as done in the cell above. \n",
    "\n",
    "![day7-barplot](day7-barplot.png)\n",
    "\n",
    "You can use the values below:\n",
    "\n",
    "```\n",
    "x_data = [\"2014\", \"2015\", \"2016\", \"2017\"]\n",
    "y_data = [4500, 5566, 1255, 3556]\n",
    "```\n",
    "\n",
    "Documentation: https://matplotlib.org/stable/api/_as_gen/matplotlib.pyplot.bar.html\n"
   ]
  },
  {
   "cell_type": "code",
   "execution_count": null,
   "metadata": {},
   "outputs": [],
   "source": []
  },
  {
   "cell_type": "markdown",
   "metadata": {},
   "source": [
    "### Plotting wine data from yesterday"
   ]
  },
  {
   "cell_type": "code",
   "execution_count": null,
   "metadata": {},
   "outputs": [],
   "source": [
    "# Read the data again \n",
    "import csv \n",
    "\n",
    "filename = \"day6-winequality-red.csv\" \n",
    "\n",
    "# read file and store in a list\n",
    "with open(filename) as f: \n",
    "    wines = list(csv.reader(f, delimiter=\";\"))\n",
    "\n",
    "# Let's get rid of the first row i.e. header row  \n",
    "wines_without_Header = wines[1:]\n",
    "\n",
    "# put into numpy array so we can plot it\n",
    "wines_array = np.array(wines_without_Header, dtype=float)\n",
    "\n",
    "# Printing all the column names \n",
    "header_row = wines[0]\n",
    "\n",
    "for i in range(0, len(header_row)):\n",
    "    print(\"Colum {}: {}\".format(i,header_row[i]))"
   ]
  },
  {
   "cell_type": "code",
   "execution_count": null,
   "metadata": {},
   "outputs": [],
   "source": [
    "# Creating a scatter plot of last two columns and specifying the use of circles for the scatter\n",
    "# also add labels to the axes\n"
   ]
  },
  {
   "cell_type": "code",
   "execution_count": null,
   "metadata": {},
   "outputs": [],
   "source": [
    "# Creating a scatter plot using the scatter function\n",
    "# same but with scatter function\n"
   ]
  },
  {
   "cell_type": "code",
   "execution_count": null,
   "metadata": {},
   "outputs": [],
   "source": [
    "# Creating a simple boxplot on alcohol content values using the plt.boxplot function\n",
    "# on the semi-last column\n"
   ]
  },
  {
   "cell_type": "code",
   "execution_count": null,
   "metadata": {},
   "outputs": [],
   "source": [
    "# Creating histograms on quality rating \n",
    "# Documentation: https://matplotlib.org/stable/api/_as_gen/matplotlib.pyplot.hist.html\n",
    "# use bins = 10, color = 'red'\n",
    "# add a vertical line in the middle of the histogram to show the mean\n"
   ]
  },
  {
   "cell_type": "code",
   "execution_count": null,
   "metadata": {},
   "outputs": [],
   "source": [
    "# Print the min and max values of quality to decide the bins \n"
   ]
  },
  {
   "cell_type": "markdown",
   "metadata": {},
   "source": [
    "### Lecture Practice \n",
    "\n",
    "1. Create a histogram on alcohol content of wines <br> Which bin has the maximum number of wines? \n",
    "\n",
    "2. Create a scatter plot of pH (Y-axis) vs Quality (X-Axis). Use the scatter function. "
   ]
  },
  {
   "cell_type": "code",
   "execution_count": null,
   "metadata": {},
   "outputs": [],
   "source": [
    "# Practice Problem 1\n"
   ]
  },
  {
   "cell_type": "code",
   "execution_count": null,
   "metadata": {},
   "outputs": [],
   "source": [
    "# Practice Problem 2\n"
   ]
  },
  {
   "cell_type": "code",
   "execution_count": null,
   "metadata": {},
   "outputs": [],
   "source": []
  }
 ],
 "metadata": {
  "anaconda-cloud": {},
  "kernelspec": {
   "display_name": "Python 3.9.12 ('icpsr39')",
   "language": "python",
   "name": "python3"
  },
  "language_info": {
   "codemirror_mode": {
    "name": "ipython",
    "version": 3
   },
   "file_extension": ".py",
   "mimetype": "text/x-python",
   "name": "python",
   "nbconvert_exporter": "python",
   "pygments_lexer": "ipython3",
   "version": "3.9.12"
  },
  "vscode": {
   "interpreter": {
    "hash": "793173ac31d6a2c33b964e93d6beb990e4e6a719190bc1945591b45858f43f14"
   }
  }
 },
 "nbformat": 4,
 "nbformat_minor": 1
}
