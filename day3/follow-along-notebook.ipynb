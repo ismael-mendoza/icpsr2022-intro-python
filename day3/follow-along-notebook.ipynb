{
 "cells": [
  {
   "cell_type": "markdown",
   "metadata": {},
   "source": [
    "# Day 3"
   ]
  },
  {
   "cell_type": "markdown",
   "metadata": {},
   "source": [
    "# Table of Contents <a id='doc_outline'></a>"
   ]
  },
  {
   "cell_type": "markdown",
   "metadata": {},
   "source": [
    "* [Conditionals Part 2](#conditionals-part-2)\n",
    "* [Lecture Exercises 1](#lecture-practice-15-minutes)\n",
    "* [Functions](#functions)\n",
    "* [Escape Strings Part 2](#escape-strings)\n",
    "* [Dates and Times](#dates)\n",
    "* [Lecture Exercises 2](#lecture-practice-30-minutes)\n",
    "* [Assignments](#assignments)"
   ]
  },
  {
   "cell_type": "markdown",
   "metadata": {},
   "source": [
    "## Conditionals Part 2"
   ]
  },
  {
   "cell_type": "markdown",
   "metadata": {},
   "source": [
    "### Recap from yesterday"
   ]
  },
  {
   "cell_type": "markdown",
   "metadata": {},
   "source": [
    "We were learning about conditional statements in Python which are ways to control the flow of execution of your program."
   ]
  },
  {
   "cell_type": "code",
   "execution_count": null,
   "metadata": {},
   "outputs": [],
   "source": [
    "# Example of if-else \n",
    "# write a program that declares avg_temp variable\n",
    "# if avg_temp is less than 75 prints \"Summers in Ann Arbor are nice!\"\n",
    "# and if avg_temp is greater than or equal to 75 prints \"Summers in Ann Arbor can get hot!\"\n"
   ]
  },
  {
   "cell_type": "code",
   "execution_count": null,
   "metadata": {},
   "outputs": [],
   "source": [
    "# Example check if number is non-negative\n",
    "# write a program taht declares a variable named num\n",
    "# if num is non-negative print \"num is non-negative\"\n",
    "# if num is negative print \"num is negative\"\n"
   ]
  },
  {
   "cell_type": "markdown",
   "metadata": {},
   "source": [
    "### If - Elif - Else \n",
    "\n",
    "Many times, programs need to test for more than two conditions. In this case, we use an *elif* statement. \n",
    "\n",
    "<figure>\n",
    "<img src=\"day3_conditional3.png\" style=\"width:500px\">\n",
    "<figcaption>Image Credit: Severance, Charles R. Python for everybody. Charles Severance, 2009.</figcaption>\n",
    "</figure>"
   ]
  },
  {
   "cell_type": "code",
   "execution_count": null,
   "metadata": {},
   "outputs": [],
   "source": [
    "# Example of if-elif-else conditional \n",
    "# write a program that declares a variable named avg_temp\n",
    "# if avg_temp is less than 60 print \"It's cold\"\n",
    "# if avg_temp is greater than or equal to 60 and less than 80 print \"It's nice\"\n",
    "# if avg_temp is greater than or equal to 80 print \"It's hot\"\n"
   ]
  },
  {
   "cell_type": "markdown",
   "metadata": {},
   "source": [
    "You can have more than one *elif* statement. Each condition is tested top to bottom and the condition that is met first gets executed. "
   ]
  },
  {
   "cell_type": "code",
   "execution_count": null,
   "metadata": {},
   "outputs": [],
   "source": [
    "# Using multiple elif statements\n",
    "# write a program that declares a variable named avg_temp\n",
    "# if avg_temp is less than 60 print \"It's cold\"\n",
    "# if avg_temp is greater than or equal to 60 and less than 80 print \"It's nice\"\n",
    "# if avg_temp is greater than or equal to 80 and less than a 100 print \"It's hot\"\n",
    "# if avg_temp is greater than or equal to 100 print \"It's too hot\"\n"
   ]
  },
  {
   "cell_type": "markdown",
   "metadata": {},
   "source": [
    "### Nested Conditionals \n",
    "\n",
    "We can also place conditional statements within each other. "
   ]
  },
  {
   "cell_type": "code",
   "execution_count": null,
   "metadata": {},
   "outputs": [],
   "source": [
    "# Let's write a nested conditional to check if a number is divisible by 6 \n",
    "# A number is considered to be divisible by 6 if it is divisible by both 2 and 3. \n"
   ]
  },
  {
   "cell_type": "markdown",
   "metadata": {},
   "source": [
    "## Lecture Practice  (15 minutes) \n",
    "\n",
    "1. Write code to print the letter grade based on the following score:<br> \n",
    "Score | Grade <br>\n",
    "\\>= 0.9 | A <br>\n",
    "\\>= 0.8 | B <br>\n",
    "\\>= 0.7 | C <br>\n",
    "\\>= 0.6 | D <br>\n",
    "&lt;0.6 | F <br><br>\n",
    "\n",
    "2. Write code to check if a year is a leap year or not. A leap year is one which is divisible by 4. However, any century year (e.g. 1600, 2000, etc) is a leap year only if it is also divisible by 400.\n",
    "\n",
    "HINT: This would require either the use of nested conditionals or the 'and' operator."
   ]
  },
  {
   "cell_type": "code",
   "execution_count": null,
   "metadata": {},
   "outputs": [],
   "source": [
    "# Practice Problem 1 \n"
   ]
  },
  {
   "cell_type": "code",
   "execution_count": null,
   "metadata": {},
   "outputs": [],
   "source": [
    "# Practice Problem 2 \n"
   ]
  },
  {
   "cell_type": "markdown",
   "metadata": {},
   "source": [
    "## Functions\n",
    "\n",
    "Functions are a sequence of statements that are collectively given a name. These sequence of statements or a *function* can be used repeatedly in the code. It reduces redundancy in our programs and allows us to reuse the code. \n",
    "\n",
    "We have been using some built-in python functions already: `print()` function to render the output, `type()` function to get the datatype, `format()` function to render the output with more clarity. \n",
    "\n",
    "We will now *define* our own functions and call them! To define a function, we need to use the `def` keyword. Keywords are special words in python that have been set aside and have special meanings. Again, we have been using some of them already like `if, else, elif`, etc. We should not use these keywords in declaring variables because it going to confuse the Python interpreter. "
   ]
  },
  {
   "cell_type": "code",
   "execution_count": null,
   "metadata": {},
   "outputs": [],
   "source": [
    "# An example of a function that prints \"Hello World\" when it is called \n"
   ]
  },
  {
   "cell_type": "code",
   "execution_count": null,
   "metadata": {},
   "outputs": [],
   "source": [
    "# Calling the above function \n"
   ]
  },
  {
   "cell_type": "code",
   "execution_count": null,
   "metadata": {},
   "outputs": [],
   "source": [
    "# Create a function to add two numbers \n",
    "# num1 and num2 are function arguments / parameters \n"
   ]
  },
  {
   "cell_type": "code",
   "execution_count": null,
   "metadata": {},
   "outputs": [],
   "source": [
    "# Calling the above function \n"
   ]
  },
  {
   "cell_type": "code",
   "execution_count": null,
   "metadata": {},
   "outputs": [],
   "source": [
    "# Defining the function print_temperature_information() that requires the user to provide one argument\n",
    "# It returns a message (a string) about the summer weather in Ann Arbor \n",
    "# It uses conditionals \n",
    "# you can reuse the code from the previous exercise\n"
   ]
  },
  {
   "cell_type": "code",
   "execution_count": null,
   "metadata": {},
   "outputs": [],
   "source": [
    "# Calling print_temperature_information() and printing the message.\n"
   ]
  },
  {
   "cell_type": "markdown",
   "metadata": {},
   "source": [
    "### Useful details about functions\n",
    "1. Flow of execution - A function is not executed unelss it is called. \n",
    "\n",
    "2. Function parameters / arguments - The input(s) that the user is supposed to provide to a function \n",
    "\n",
    "3. Function call - When you call the function \n",
    "\n",
    "4. Return values - The variable that the function returns to the function call. If there is no explicit return statement, then the function will not return anything. "
   ]
  },
  {
   "cell_type": "markdown",
   "metadata": {},
   "source": [
    "## Escape strings"
   ]
  },
  {
   "cell_type": "markdown",
   "metadata": {},
   "source": [
    "Yesterday's lecture left some questions on escape strings on people's minds. So today I will give some more examples to clarify. "
   ]
  },
  {
   "cell_type": "code",
   "execution_count": null,
   "metadata": {},
   "outputs": [],
   "source": [
    "# First recall example with double quotes yesterday\n",
    "# type and print a variable string with value \"This is a ”Jupyter\" notebook\" in double quotes\n"
   ]
  },
  {
   "cell_type": "code",
   "execution_count": null,
   "metadata": {},
   "outputs": [],
   "source": [
    "# Other example include quotes, the backslash \\, tab, and newline.\n",
    "print(\"\\\"\")\n",
    "print(\"\\\\\")\n",
    "print(\"/\") # this one is fine, no need to escape\n",
    "print(f\"{string}\") # remember f-strings\n",
    "print(f\"{{}}\") # this is how you print \"{}\" in f-strings\n",
    "print(\"tab: \\t\")\n",
    "print(\"newline: \\n\")"
   ]
  },
  {
   "cell_type": "markdown",
   "metadata": {},
   "source": [
    "**Regular expressions** are ways in which you can extract a subset of text from a larger piece of text automatically in some desired format. Escape characters become more frequent when writing regular expressions."
   ]
  },
  {
   "cell_type": "code",
   "execution_count": null,
   "metadata": {},
   "outputs": [],
   "source": [
    "import re\n",
    "\n",
    "# looks for any words that start with upper case S\n",
    "txt = \"The rain in Spain\"\n",
    "x = re.search(r\"\\bS\\w+\", txt)\n",
    "print(x.group())\n",
    "\n",
    "txt = \"The sun in Italy\"\n",
    "y = re.search(r\"\\bS\\w+\", txt) \n",
    "print(y)"
   ]
  },
  {
   "cell_type": "markdown",
   "metadata": {},
   "source": [
    "You don't need to understand the example above. We can learn more about this later if you are interested. You can imagine writing regexes that match email addresses, dates, etc. It can be very useful for scraping websites or for analyzing large amounts of text data."
   ]
  },
  {
   "cell_type": "markdown",
   "metadata": {},
   "source": [
    "## Dates"
   ]
  },
  {
   "cell_type": "markdown",
   "metadata": {},
   "source": [
    "**Note:** This uses some advanced concepts we haven't seen, please don't worry if you don't understand everything.\n",
    "\n",
    "Python allows for print dates in different formats using the `dates` [library](https://docs.python.org/3/library/datetime.html). See below:"
   ]
  },
  {
   "cell_type": "code",
   "execution_count": null,
   "metadata": {},
   "outputs": [],
   "source": [
    "# use datetime to get time now\n",
    "# the now function returns an object of type datetime\n",
    "import datetime\n",
    "t = datetime.datetime.now()\n",
    "print(t)\n",
    "print(type(t))"
   ]
  },
  {
   "cell_type": "code",
   "execution_count": null,
   "metadata": {},
   "outputs": [],
   "source": [
    "# we can extract year, date, hour, minute from the datetime object\n",
    "# objects usually have 'attributes' or properties. Additional information stored as part of the object.\n",
    "t = datetime.datetime.today()\n",
    "print(t.year)\n",
    "print(t.date())\n",
    "print(t.hour)\n",
    "print(t.minute)"
   ]
  },
  {
   "cell_type": "code",
   "execution_count": null,
   "metadata": {},
   "outputs": [],
   "source": [
    "# convert to another timezone\n",
    "t = datetime.datetime.today()\n",
    "t.astimezone(datetime.timezone.utc).hour"
   ]
  },
  {
   "cell_type": "code",
   "execution_count": null,
   "metadata": {},
   "outputs": [],
   "source": [
    "# we can also add days/hours to a given date\n",
    "from datetime import datetime, timedelta\n",
    "\n",
    "# 2020-03-22 10:00:00\n",
    "given_date = datetime(2020, 3, 22, 10, 00, 00)\n",
    "print(\"Given date\")\n",
    "print(given_date)\n",
    "\n",
    "days_to_add = 7\n",
    "res_date = given_date + timedelta(days=days_to_add, hours=12)\n",
    "print(\"New Date\")\n",
    "print(res_date)"
   ]
  },
  {
   "cell_type": "markdown",
   "metadata": {},
   "source": [
    "## Lecture Practice (30 minutes) \n",
    "\n",
    "**1.** Create a function called `oddOrEven()` that takes an integer as an argument and returns \"Odd\" if the number is odd and returns \"Even\" the number is even. (You can reuse code from the lecture practice problem earlier)\n",
    "\n",
    "**2.** Call the function `oddOrEven()` with the following arguments to check your result: `-20, 81, 30, 0, -4`\n",
    "\n",
    "**3.** Create a function `studentGPA()` takes two arguments: `name` (string), `score` (float). It calculates the grade on the basis of the score as shown below. It returns the following statement: \"\\<name\\> had a score of \\<score\\>. Their final grade was \\<grade\\>\". \n",
    "For example, for a student named Jamie with a score of 0.8, the function should return \"Jamie had a score of 0.8. Their final grade was B.\"\n",
    "\n",
    "- \\>= 0.9 | A \n",
    "- \\>= 0.8 | B \n",
    "- \\>= 0.7 | C \n",
    "- \\>= 0.6 | D\n",
    "- \\>=0.6 | F\n",
    "\n",
    "Test your function to see that you get the correct output.\n",
    "   \n",
    "**4.** Create a Python function called `maxNumber()` that accepts three numbers as arguments. It finds the maximum of the three numbers and returns the highest number. Call `maxNumber()` with following set of arguments:\n",
    "- 10, 9, 8\n",
    "- 4, 5, 6\n",
    "- 3, 5, 4"
   ]
  },
  {
   "cell_type": "code",
   "execution_count": null,
   "metadata": {},
   "outputs": [],
   "source": [
    "# Practice Problem 1 \n"
   ]
  },
  {
   "cell_type": "code",
   "execution_count": null,
   "metadata": {},
   "outputs": [],
   "source": [
    "# Practice Problem 2\n"
   ]
  },
  {
   "cell_type": "code",
   "execution_count": null,
   "metadata": {},
   "outputs": [],
   "source": [
    "# Practice Problem 3\n"
   ]
  },
  {
   "cell_type": "code",
   "execution_count": null,
   "metadata": {},
   "outputs": [],
   "source": [
    "# Practice Problem 4\n",
    "       "
   ]
  },
  {
   "cell_type": "markdown",
   "metadata": {},
   "source": [
    "## Assignments"
   ]
  },
  {
   "cell_type": "markdown",
   "metadata": {},
   "source": [
    "1. Write a function called `toCelsiusfromFaranheit` that returns the value of a temperature if Celsius if given a temperature in Faranheit. Similarly write a function `toFaranheitfromCelsius`."
   ]
  },
  {
   "cell_type": "code",
   "execution_count": null,
   "metadata": {},
   "outputs": [],
   "source": []
  },
  {
   "cell_type": "markdown",
   "metadata": {},
   "source": [
    "2. Write a function that is similar to `maxNumber` but returns the minimum of set of 3 numbers, called `minNumber`."
   ]
  },
  {
   "cell_type": "code",
   "execution_count": null,
   "metadata": {},
   "outputs": [],
   "source": []
  },
  {
   "cell_type": "markdown",
   "metadata": {},
   "source": [
    "3. Fill missing pieces `____` of the following code such that it prints without errors"
   ]
  },
  {
   "cell_type": "code",
   "execution_count": null,
   "metadata": {},
   "outputs": [],
   "source": [
    "name = 'John Doe'\n",
    "length = len(name) # length of the string = number of characters in the string.\n",
    "\n",
    "if ____:\n",
    "    print('Name \"{}\" is more than 20 chars long'.format(name))\n",
    "    length_description = 'long'\n",
    "elif ____:\n",
    "    print('Name \"{}\" is more than 15 chars long'.format(name))\n",
    "    length_description = 'semi long'\n",
    "elif ____:\n",
    "    print('Name \"{}\" is more than 10 chars long'.format(name))\n",
    "    length_description = 'semi long'\n",
    "elif ____:\n",
    "    print('Name \"{}\" is 8, 9 or 10 chars long'.format(name))\n",
    "    length_description = 'semi short'\n",
    "else:\n",
    "    print('Name \"{}\" is a short name'.format(name))\n",
    "    length_description = 'short'\n",
    "\n",
    "assert length_description == 'semi short'\n"
   ]
  }
 ],
 "metadata": {
  "anaconda-cloud": {},
  "kernelspec": {
   "display_name": "Python 3.9.12 ('icpsr39')",
   "language": "python",
   "name": "python3"
  },
  "language_info": {
   "codemirror_mode": {
    "name": "ipython",
    "version": 3
   },
   "file_extension": ".py",
   "mimetype": "text/x-python",
   "name": "python",
   "nbconvert_exporter": "python",
   "pygments_lexer": "ipython3",
   "version": "3.9.12"
  },
  "vscode": {
   "interpreter": {
    "hash": "793173ac31d6a2c33b964e93d6beb990e4e6a719190bc1945591b45858f43f14"
   }
  }
 },
 "nbformat": 4,
 "nbformat_minor": 1
}
